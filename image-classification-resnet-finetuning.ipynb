{
 "cells": [
  {
   "cell_type": "markdown",
   "metadata": {
    "id": "78EMuHzCwv7c"
   },
   "source": [
    "# Humanitarian Task Image Classification \n",
    "\n",
    "In this notebook, we use a pre-trained Inception v3 image classifier to classify tweet images for humanitarian task classification."
   ]
  },
  {
   "cell_type": "code",
   "execution_count": 2,
   "metadata": {
    "id": "YW0C3NJP3UQp",
    "scrolled": true
   },
   "outputs": [
    {
     "name": "stdout",
     "output_type": "stream",
     "text": [
      "Defaulting to user installation because normal site-packages is not writeable\n",
      "Requirement already satisfied: stanza in ./.local/lib/python3.8/site-packages (1.5.0)\n",
      "Requirement already satisfied: six in /storage/pace-apps/manual/packages/anaconda-individual/2021.05/lib/python3.8/site-packages (from stanza) (1.15.0)\n",
      "Requirement already satisfied: torch>=1.3.0 in ./.local/lib/python3.8/site-packages (from stanza) (2.0.0)\n",
      "Requirement already satisfied: numpy in ./.local/lib/python3.8/site-packages (from stanza) (1.23.5)\n",
      "Requirement already satisfied: protobuf in ./.local/lib/python3.8/site-packages (from stanza) (4.22.3)\n",
      "Requirement already satisfied: requests in /storage/pace-apps/manual/packages/anaconda-individual/2021.05/lib/python3.8/site-packages (from stanza) (2.25.1)\n",
      "Requirement already satisfied: emoji in ./.local/lib/python3.8/site-packages (from stanza) (2.2.0)\n",
      "Requirement already satisfied: tqdm in /storage/pace-apps/manual/packages/anaconda-individual/2021.05/lib/python3.8/site-packages (from stanza) (4.59.0)\n",
      "Requirement already satisfied: nvidia-nccl-cu11==2.14.3 in ./.local/lib/python3.8/site-packages (from torch>=1.3.0->stanza) (2.14.3)\n",
      "Requirement already satisfied: nvidia-curand-cu11==10.2.10.91 in ./.local/lib/python3.8/site-packages (from torch>=1.3.0->stanza) (10.2.10.91)\n",
      "Requirement already satisfied: nvidia-cusolver-cu11==11.4.0.1 in ./.local/lib/python3.8/site-packages (from torch>=1.3.0->stanza) (11.4.0.1)\n",
      "Requirement already satisfied: nvidia-cuda-runtime-cu11==11.7.99 in ./.local/lib/python3.8/site-packages (from torch>=1.3.0->stanza) (11.7.99)\n",
      "Requirement already satisfied: sympy in /storage/pace-apps/manual/packages/anaconda-individual/2021.05/lib/python3.8/site-packages (from torch>=1.3.0->stanza) (1.8)\n",
      "Requirement already satisfied: nvidia-cuda-nvrtc-cu11==11.7.99 in ./.local/lib/python3.8/site-packages (from torch>=1.3.0->stanza) (11.7.99)\n",
      "Requirement already satisfied: nvidia-cuda-cupti-cu11==11.7.101 in ./.local/lib/python3.8/site-packages (from torch>=1.3.0->stanza) (11.7.101)\n",
      "Requirement already satisfied: nvidia-cusparse-cu11==11.7.4.91 in ./.local/lib/python3.8/site-packages (from torch>=1.3.0->stanza) (11.7.4.91)\n",
      "Requirement already satisfied: nvidia-cudnn-cu11==8.5.0.96 in ./.local/lib/python3.8/site-packages (from torch>=1.3.0->stanza) (8.5.0.96)\n",
      "Requirement already satisfied: nvidia-cublas-cu11==11.10.3.66 in ./.local/lib/python3.8/site-packages (from torch>=1.3.0->stanza) (11.10.3.66)\n",
      "Requirement already satisfied: jinja2 in /storage/pace-apps/manual/packages/anaconda-individual/2021.05/lib/python3.8/site-packages (from torch>=1.3.0->stanza) (2.11.3)\n",
      "Requirement already satisfied: filelock in /storage/pace-apps/manual/packages/anaconda-individual/2021.05/lib/python3.8/site-packages (from torch>=1.3.0->stanza) (3.0.12)\n",
      "Requirement already satisfied: triton==2.0.0 in ./.local/lib/python3.8/site-packages (from torch>=1.3.0->stanza) (2.0.0)\n",
      "Requirement already satisfied: networkx in /storage/pace-apps/manual/packages/anaconda-individual/2021.05/lib/python3.8/site-packages (from torch>=1.3.0->stanza) (2.5)\n",
      "Requirement already satisfied: nvidia-nvtx-cu11==11.7.91 in ./.local/lib/python3.8/site-packages (from torch>=1.3.0->stanza) (11.7.91)\n",
      "Requirement already satisfied: nvidia-cufft-cu11==10.9.0.58 in ./.local/lib/python3.8/site-packages (from torch>=1.3.0->stanza) (10.9.0.58)\n",
      "Requirement already satisfied: typing-extensions in /storage/pace-apps/manual/packages/anaconda-individual/2021.05/lib/python3.8/site-packages (from torch>=1.3.0->stanza) (3.7.4.3)\n",
      "Requirement already satisfied: setuptools in /storage/pace-apps/manual/packages/anaconda-individual/2021.05/lib/python3.8/site-packages (from nvidia-cublas-cu11==11.10.3.66->torch>=1.3.0->stanza) (52.0.0.post20210125)\n",
      "Requirement already satisfied: wheel in /storage/pace-apps/manual/packages/anaconda-individual/2021.05/lib/python3.8/site-packages (from nvidia-cublas-cu11==11.10.3.66->torch>=1.3.0->stanza) (0.36.2)\n",
      "Requirement already satisfied: cmake in ./.local/lib/python3.8/site-packages (from triton==2.0.0->torch>=1.3.0->stanza) (3.26.3)\n",
      "Requirement already satisfied: lit in ./.local/lib/python3.8/site-packages (from triton==2.0.0->torch>=1.3.0->stanza) (16.0.1)\n",
      "Requirement already satisfied: MarkupSafe>=0.23 in /storage/pace-apps/manual/packages/anaconda-individual/2021.05/lib/python3.8/site-packages (from jinja2->torch>=1.3.0->stanza) (1.1.1)\n",
      "Requirement already satisfied: decorator>=4.3.0 in /storage/pace-apps/manual/packages/anaconda-individual/2021.05/lib/python3.8/site-packages (from networkx->torch>=1.3.0->stanza) (5.0.6)\n",
      "Requirement already satisfied: certifi>=2017.4.17 in /storage/pace-apps/manual/packages/anaconda-individual/2021.05/lib/python3.8/site-packages (from requests->stanza) (2020.12.5)\n",
      "Requirement already satisfied: urllib3<1.27,>=1.21.1 in /storage/pace-apps/manual/packages/anaconda-individual/2021.05/lib/python3.8/site-packages (from requests->stanza) (1.26.4)\n",
      "Requirement already satisfied: chardet<5,>=3.0.2 in /storage/pace-apps/manual/packages/anaconda-individual/2021.05/lib/python3.8/site-packages (from requests->stanza) (4.0.0)\n",
      "Requirement already satisfied: idna<3,>=2.5 in /storage/pace-apps/manual/packages/anaconda-individual/2021.05/lib/python3.8/site-packages (from requests->stanza) (2.10)\n",
      "Requirement already satisfied: mpmath>=0.19 in /storage/pace-apps/manual/packages/anaconda-individual/2021.05/lib/python3.8/site-packages (from sympy->torch>=1.3.0->stanza) (1.2.1)\n"
     ]
    }
   ],
   "source": [
    "!pip install stanza"
   ]
  },
  {
   "cell_type": "code",
   "execution_count": 3,
   "metadata": {},
   "outputs": [],
   "source": [
    "!conda config --append channels conda-forge"
   ]
  },
  {
   "cell_type": "code",
   "execution_count": 4,
   "metadata": {},
   "outputs": [
    {
     "name": "stdout",
     "output_type": "stream",
     "text": [
      "Defaulting to user installation because normal site-packages is not writeable\n",
      "Collecting opencv-python\n",
      "  Downloading opencv_python-4.7.0.72-cp37-abi3-manylinux_2_17_x86_64.manylinux2014_x86_64.whl (61.8 MB)\n",
      "\u001b[K     |████████████████████████████████| 61.8 MB 169 kB/s eta 0:00:01\n",
      "\u001b[?25hRequirement already satisfied: numpy>=1.17.3 in /storage/pace-apps/manual/packages/anaconda-individual/2021.05/lib/python3.8/site-packages (from opencv-python) (1.20.1)\n",
      "Installing collected packages: opencv-python\n",
      "Successfully installed opencv-python-4.7.0.72\n"
     ]
    }
   ],
   "source": [
    "!pip install opencv-python"
   ]
  },
  {
   "cell_type": "code",
   "execution_count": 2,
   "metadata": {},
   "outputs": [
    {
     "name": "stdout",
     "output_type": "stream",
     "text": [
      "Defaulting to user installation because normal site-packages is not writeable\n",
      "Collecting torchvision\n",
      "  Downloading torchvision-0.15.1-cp38-cp38-manylinux1_x86_64.whl (33.8 MB)\n",
      "\u001b[K     |████████████████████████████████| 33.8 MB 3.7 MB/s eta 0:00:01\n",
      "\u001b[?25hRequirement already satisfied: torch==2.0.0 in ./.local/lib/python3.8/site-packages (from torchvision) (2.0.0)\n",
      "Requirement already satisfied: numpy in /storage/pace-apps/manual/packages/anaconda-individual/2021.05/lib/python3.8/site-packages (from torchvision) (1.20.1)\n",
      "Requirement already satisfied: pillow!=8.3.*,>=5.3.0 in /storage/pace-apps/manual/packages/anaconda-individual/2021.05/lib/python3.8/site-packages (from torchvision) (8.2.0)\n",
      "Requirement already satisfied: requests in /storage/pace-apps/manual/packages/anaconda-individual/2021.05/lib/python3.8/site-packages (from torchvision) (2.25.1)\n",
      "Requirement already satisfied: triton==2.0.0 in ./.local/lib/python3.8/site-packages (from torch==2.0.0->torchvision) (2.0.0)\n",
      "Requirement already satisfied: nvidia-cuda-runtime-cu11==11.7.99 in ./.local/lib/python3.8/site-packages (from torch==2.0.0->torchvision) (11.7.99)\n",
      "Requirement already satisfied: nvidia-cusolver-cu11==11.4.0.1 in ./.local/lib/python3.8/site-packages (from torch==2.0.0->torchvision) (11.4.0.1)\n",
      "Requirement already satisfied: nvidia-cuda-nvrtc-cu11==11.7.99 in ./.local/lib/python3.8/site-packages (from torch==2.0.0->torchvision) (11.7.99)\n",
      "Requirement already satisfied: nvidia-curand-cu11==10.2.10.91 in ./.local/lib/python3.8/site-packages (from torch==2.0.0->torchvision) (10.2.10.91)\n",
      "Requirement already satisfied: nvidia-cusparse-cu11==11.7.4.91 in ./.local/lib/python3.8/site-packages (from torch==2.0.0->torchvision) (11.7.4.91)\n",
      "Requirement already satisfied: nvidia-nvtx-cu11==11.7.91 in ./.local/lib/python3.8/site-packages (from torch==2.0.0->torchvision) (11.7.91)\n",
      "Requirement already satisfied: nvidia-cudnn-cu11==8.5.0.96 in ./.local/lib/python3.8/site-packages (from torch==2.0.0->torchvision) (8.5.0.96)\n",
      "Requirement already satisfied: nvidia-cuda-cupti-cu11==11.7.101 in ./.local/lib/python3.8/site-packages (from torch==2.0.0->torchvision) (11.7.101)\n",
      "Requirement already satisfied: nvidia-cufft-cu11==10.9.0.58 in ./.local/lib/python3.8/site-packages (from torch==2.0.0->torchvision) (10.9.0.58)\n",
      "Requirement already satisfied: nvidia-nccl-cu11==2.14.3 in ./.local/lib/python3.8/site-packages (from torch==2.0.0->torchvision) (2.14.3)\n",
      "Requirement already satisfied: typing-extensions in /storage/pace-apps/manual/packages/anaconda-individual/2021.05/lib/python3.8/site-packages (from torch==2.0.0->torchvision) (3.7.4.3)\n",
      "Requirement already satisfied: nvidia-cublas-cu11==11.10.3.66 in ./.local/lib/python3.8/site-packages (from torch==2.0.0->torchvision) (11.10.3.66)\n",
      "Requirement already satisfied: sympy in /storage/pace-apps/manual/packages/anaconda-individual/2021.05/lib/python3.8/site-packages (from torch==2.0.0->torchvision) (1.8)\n",
      "Requirement already satisfied: networkx in /storage/pace-apps/manual/packages/anaconda-individual/2021.05/lib/python3.8/site-packages (from torch==2.0.0->torchvision) (2.5)\n",
      "Requirement already satisfied: filelock in /storage/pace-apps/manual/packages/anaconda-individual/2021.05/lib/python3.8/site-packages (from torch==2.0.0->torchvision) (3.0.12)\n",
      "Requirement already satisfied: jinja2 in /storage/pace-apps/manual/packages/anaconda-individual/2021.05/lib/python3.8/site-packages (from torch==2.0.0->torchvision) (2.11.3)\n",
      "Requirement already satisfied: setuptools in /storage/pace-apps/manual/packages/anaconda-individual/2021.05/lib/python3.8/site-packages (from nvidia-cublas-cu11==11.10.3.66->torch==2.0.0->torchvision) (52.0.0.post20210125)\n",
      "Requirement already satisfied: wheel in /storage/pace-apps/manual/packages/anaconda-individual/2021.05/lib/python3.8/site-packages (from nvidia-cublas-cu11==11.10.3.66->torch==2.0.0->torchvision) (0.36.2)\n",
      "Requirement already satisfied: cmake in ./.local/lib/python3.8/site-packages (from triton==2.0.0->torch==2.0.0->torchvision) (3.26.3)\n",
      "Requirement already satisfied: lit in ./.local/lib/python3.8/site-packages (from triton==2.0.0->torch==2.0.0->torchvision) (16.0.1)\n",
      "Requirement already satisfied: MarkupSafe>=0.23 in /storage/pace-apps/manual/packages/anaconda-individual/2021.05/lib/python3.8/site-packages (from jinja2->torch==2.0.0->torchvision) (1.1.1)\n",
      "Requirement already satisfied: decorator>=4.3.0 in /storage/pace-apps/manual/packages/anaconda-individual/2021.05/lib/python3.8/site-packages (from networkx->torch==2.0.0->torchvision) (5.0.6)\n",
      "Requirement already satisfied: urllib3<1.27,>=1.21.1 in /storage/pace-apps/manual/packages/anaconda-individual/2021.05/lib/python3.8/site-packages (from requests->torchvision) (1.26.4)\n",
      "Requirement already satisfied: idna<3,>=2.5 in /storage/pace-apps/manual/packages/anaconda-individual/2021.05/lib/python3.8/site-packages (from requests->torchvision) (2.10)\n",
      "Requirement already satisfied: certifi>=2017.4.17 in /storage/pace-apps/manual/packages/anaconda-individual/2021.05/lib/python3.8/site-packages (from requests->torchvision) (2020.12.5)\n",
      "Requirement already satisfied: chardet<5,>=3.0.2 in /storage/pace-apps/manual/packages/anaconda-individual/2021.05/lib/python3.8/site-packages (from requests->torchvision) (4.0.0)\n",
      "Requirement already satisfied: mpmath>=0.19 in /storage/pace-apps/manual/packages/anaconda-individual/2021.05/lib/python3.8/site-packages (from sympy->torch==2.0.0->torchvision) (1.2.1)\n",
      "Installing collected packages: torchvision\n",
      "Successfully installed torchvision-0.15.1\n"
     ]
    }
   ],
   "source": [
    "!pip install torchvision"
   ]
  },
  {
   "cell_type": "code",
   "execution_count": 1,
   "metadata": {
    "id": "u54dF_nRwv7n"
   },
   "outputs": [],
   "source": [
    "import torch\n",
    "import torch.optim as optim\n",
    "import numpy as np\n",
    "import pandas as pd\n",
    "import matplotlib.pyplot as plt\n",
    "import random\n",
    "import os\n",
    "import csv\n",
    "import math\n",
    "import pickle\n",
    "import stanza\n",
    "import cv2\n",
    "import copy\n",
    "import seaborn as sns\n",
    "import time\n",
    "from PIL import Image\n",
    "from sklearn import metrics\n",
    "\n",
    "from torch.utils.data.sampler import BatchSampler, RandomSampler, Sampler, \\\n",
    "    SequentialSampler, SubsetRandomSampler\n",
    "from torch.utils.data import Dataset\n",
    "from torch.nn import functional\n",
    "from torch import nn\n",
    "from tqdm import tqdm\n",
    "from sklearn.metrics import accuracy_score, confusion_matrix, \\\n",
    "    precision_recall_fscore_support\n",
    "from sklearn.model_selection import train_test_split\n",
    "from sklearn.metrics.pairwise import cosine_similarity\n",
    "from collections import defaultdict, OrderedDict, Counter\n",
    "from json import load, dump\n",
    "from torchvision import datasets, models, transforms"
   ]
  },
  {
   "cell_type": "code",
   "execution_count": 2,
   "metadata": {},
   "outputs": [
    {
     "data": {
      "text/plain": [
       "True"
      ]
     },
     "execution_count": 2,
     "metadata": {},
     "output_type": "execute_result"
    }
   ],
   "source": [
    "torch.cuda.is_available()"
   ]
  },
  {
   "cell_type": "code",
   "execution_count": 3,
   "metadata": {},
   "outputs": [
    {
     "data": {
      "text/plain": [
       "('Quadro RTX 6000',)"
      ]
     },
     "execution_count": 3,
     "metadata": {},
     "output_type": "execute_result"
    }
   ],
   "source": [
    "# torch.cuda.device_count(),\\\n",
    "torch.cuda.get_device_name(0),\\\n",
    "# torch.cuda.get_device_name(1)"
   ]
  },
  {
   "cell_type": "markdown",
   "metadata": {
    "id": "5fXNUK9dwv7s"
   },
   "source": [
    "## 1. Load Datafiles"
   ]
  },
  {
   "cell_type": "code",
   "execution_count": 4,
   "metadata": {
    "id": "aV7qmAX_wv7u"
   },
   "outputs": [
    {
     "data": {
      "text/plain": [
       "'/storage/home/hcocice1/sarora320'"
      ]
     },
     "execution_count": 4,
     "metadata": {},
     "output_type": "execute_result"
    }
   ],
   "source": [
    "import os\n",
    "os.getcwd()\n",
    "# os.chdir(\"d:\\\\Spring 2023\\\\7643 Deep Learning\\\\Project\\\\multimodality-language-disparity\\\\image-models\\\\\")"
   ]
  },
  {
   "cell_type": "code",
   "execution_count": 5,
   "metadata": {
    "colab": {
     "base_uri": "https://localhost:8080/"
    },
    "executionInfo": {
     "elapsed": 158,
     "status": "ok",
     "timestamp": 1681444412258,
     "user": {
      "displayName": "Saksham Arora",
      "userId": "07860672125006727048"
     },
     "user_tz": 240
    },
    "id": "ijg0QkHS5Scb",
    "outputId": "6a92b0a0-cacf-4819-b97b-c69a52689eb6"
   },
   "outputs": [],
   "source": [
    "# %cd /content/drive/MyDrive/Deep Learning Project/multimodality-language-disparity/"
   ]
  },
  {
   "cell_type": "code",
   "execution_count": 6,
   "metadata": {
    "id": "Smkxv4jDwv70"
   },
   "outputs": [],
   "source": [
    "train_split_df = pd.read_csv('../sverma324/data/crisis-mmd/task_humanitarian_text_img_train.tsv', sep='\\t')"
   ]
  },
  {
   "cell_type": "code",
   "execution_count": 7,
   "metadata": {
    "colab": {
     "base_uri": "https://localhost:8080/",
     "height": 206
    },
    "executionInfo": {
     "elapsed": 249,
     "status": "ok",
     "timestamp": 1681444504409,
     "user": {
      "displayName": "Saksham Arora",
      "userId": "07860672125006727048"
     },
     "user_tz": 240
    },
    "id": "Uy3-FFygwv71",
    "outputId": "3f53a80b-afe9-4eb4-d266-f9999b760ec3"
   },
   "outputs": [
    {
     "data": {
      "text/html": [
       "<div>\n",
       "<style scoped>\n",
       "    .dataframe tbody tr th:only-of-type {\n",
       "        vertical-align: middle;\n",
       "    }\n",
       "\n",
       "    .dataframe tbody tr th {\n",
       "        vertical-align: top;\n",
       "    }\n",
       "\n",
       "    .dataframe thead th {\n",
       "        text-align: right;\n",
       "    }\n",
       "</style>\n",
       "<table border=\"1\" class=\"dataframe\">\n",
       "  <thead>\n",
       "    <tr style=\"text-align: right;\">\n",
       "      <th></th>\n",
       "      <th>event_name</th>\n",
       "      <th>tweet_id</th>\n",
       "      <th>image_id</th>\n",
       "      <th>tweet_text</th>\n",
       "      <th>image</th>\n",
       "      <th>label</th>\n",
       "      <th>label_text</th>\n",
       "      <th>label_image</th>\n",
       "      <th>label_text_image</th>\n",
       "    </tr>\n",
       "  </thead>\n",
       "  <tbody>\n",
       "    <tr>\n",
       "      <th>0</th>\n",
       "      <td>california_wildfires</td>\n",
       "      <td>917791291823591425</td>\n",
       "      <td>917791291823591425_1</td>\n",
       "      <td>RT @Cal_OES: PLS SHARE: Weâ€™re capturing wild...</td>\n",
       "      <td>data_image/california_wildfires/10_10_2017/917...</td>\n",
       "      <td>not_humanitarian</td>\n",
       "      <td>other_relevant_information</td>\n",
       "      <td>not_humanitarian</td>\n",
       "      <td>Negative</td>\n",
       "    </tr>\n",
       "    <tr>\n",
       "      <th>1</th>\n",
       "      <td>california_wildfires</td>\n",
       "      <td>917791291823591425</td>\n",
       "      <td>917791291823591425_0</td>\n",
       "      <td>RT @Cal_OES: PLS SHARE: Weâ€™re capturing wild...</td>\n",
       "      <td>data_image/california_wildfires/10_10_2017/917...</td>\n",
       "      <td>other_relevant_information</td>\n",
       "      <td>other_relevant_information</td>\n",
       "      <td>infrastructure_and_utility_damage</td>\n",
       "      <td>Negative</td>\n",
       "    </tr>\n",
       "    <tr>\n",
       "      <th>2</th>\n",
       "      <td>california_wildfires</td>\n",
       "      <td>917793137925459968</td>\n",
       "      <td>917793137925459968_0</td>\n",
       "      <td>RT @KAKEnews: California wildfires destroy mor...</td>\n",
       "      <td>data_image/california_wildfires/10_10_2017/917...</td>\n",
       "      <td>infrastructure_and_utility_damage</td>\n",
       "      <td>infrastructure_and_utility_damage</td>\n",
       "      <td>infrastructure_and_utility_damage</td>\n",
       "      <td>Positive</td>\n",
       "    </tr>\n",
       "    <tr>\n",
       "      <th>3</th>\n",
       "      <td>california_wildfires</td>\n",
       "      <td>917793137925459968</td>\n",
       "      <td>917793137925459968_1</td>\n",
       "      <td>RT @KAKEnews: California wildfires destroy mor...</td>\n",
       "      <td>data_image/california_wildfires/10_10_2017/917...</td>\n",
       "      <td>infrastructure_and_utility_damage</td>\n",
       "      <td>infrastructure_and_utility_damage</td>\n",
       "      <td>infrastructure_and_utility_damage</td>\n",
       "      <td>Positive</td>\n",
       "    </tr>\n",
       "    <tr>\n",
       "      <th>4</th>\n",
       "      <td>california_wildfires</td>\n",
       "      <td>917793137925459968</td>\n",
       "      <td>917793137925459968_2</td>\n",
       "      <td>RT @KAKEnews: California wildfires destroy mor...</td>\n",
       "      <td>data_image/california_wildfires/10_10_2017/917...</td>\n",
       "      <td>infrastructure_and_utility_damage</td>\n",
       "      <td>infrastructure_and_utility_damage</td>\n",
       "      <td>infrastructure_and_utility_damage</td>\n",
       "      <td>Positive</td>\n",
       "    </tr>\n",
       "  </tbody>\n",
       "</table>\n",
       "</div>"
      ],
      "text/plain": [
       "             event_name            tweet_id              image_id  \\\n",
       "0  california_wildfires  917791291823591425  917791291823591425_1   \n",
       "1  california_wildfires  917791291823591425  917791291823591425_0   \n",
       "2  california_wildfires  917793137925459968  917793137925459968_0   \n",
       "3  california_wildfires  917793137925459968  917793137925459968_1   \n",
       "4  california_wildfires  917793137925459968  917793137925459968_2   \n",
       "\n",
       "                                          tweet_text  \\\n",
       "0  RT @Cal_OES: PLS SHARE: Weâ€™re capturing wild...   \n",
       "1  RT @Cal_OES: PLS SHARE: Weâ€™re capturing wild...   \n",
       "2  RT @KAKEnews: California wildfires destroy mor...   \n",
       "3  RT @KAKEnews: California wildfires destroy mor...   \n",
       "4  RT @KAKEnews: California wildfires destroy mor...   \n",
       "\n",
       "                                               image  \\\n",
       "0  data_image/california_wildfires/10_10_2017/917...   \n",
       "1  data_image/california_wildfires/10_10_2017/917...   \n",
       "2  data_image/california_wildfires/10_10_2017/917...   \n",
       "3  data_image/california_wildfires/10_10_2017/917...   \n",
       "4  data_image/california_wildfires/10_10_2017/917...   \n",
       "\n",
       "                               label                         label_text  \\\n",
       "0                   not_humanitarian         other_relevant_information   \n",
       "1         other_relevant_information         other_relevant_information   \n",
       "2  infrastructure_and_utility_damage  infrastructure_and_utility_damage   \n",
       "3  infrastructure_and_utility_damage  infrastructure_and_utility_damage   \n",
       "4  infrastructure_and_utility_damage  infrastructure_and_utility_damage   \n",
       "\n",
       "                         label_image label_text_image  \n",
       "0                   not_humanitarian         Negative  \n",
       "1  infrastructure_and_utility_damage         Negative  \n",
       "2  infrastructure_and_utility_damage         Positive  \n",
       "3  infrastructure_and_utility_damage         Positive  \n",
       "4  infrastructure_and_utility_damage         Positive  "
      ]
     },
     "execution_count": 7,
     "metadata": {},
     "output_type": "execute_result"
    }
   ],
   "source": [
    "train_split_df.head()"
   ]
  },
  {
   "cell_type": "code",
   "execution_count": 8,
   "metadata": {
    "colab": {
     "base_uri": "https://localhost:8080/"
    },
    "executionInfo": {
     "elapsed": 285,
     "status": "ok",
     "timestamp": 1681444506737,
     "user": {
      "displayName": "Saksham Arora",
      "userId": "07860672125006727048"
     },
     "user_tz": 240
    },
    "id": "czoJmeB3wv73",
    "outputId": "60e0d786-e855-479e-8808-cf4c430c0b85"
   },
   "outputs": [
    {
     "data": {
      "text/plain": [
       "Counter({'not_humanitarian': 5260,\n",
       "         'other_relevant_information': 3294,\n",
       "         'infrastructure_and_utility_damage': 1905,\n",
       "         'vehicle_damage': 134,\n",
       "         'affected_individuals': 424,\n",
       "         'rescue_volunteering_or_donation_effort': 2323,\n",
       "         'injured_or_dead_people': 244,\n",
       "         'missing_or_found_people': 24})"
      ]
     },
     "execution_count": 8,
     "metadata": {},
     "output_type": "execute_result"
    }
   ],
   "source": [
    "labels = Counter(train_split_df['label'])\n",
    "labels"
   ]
  },
  {
   "cell_type": "code",
   "execution_count": 9,
   "metadata": {
    "id": "4-UOZ8v_wv74"
   },
   "outputs": [],
   "source": [
    "label_map = {\n",
    "    'affected_individuals': 0,\n",
    "    'infrastructure_and_utility_damage': 1,\n",
    "    'not_humanitarian': 2,\n",
    "    'other_relevant_information': 3,\n",
    "    'rescue_volunteering_or_donation_effort': 4,\n",
    "    'vehicle_damage': 1,\n",
    "    'injured_or_dead_people': 0,\n",
    "    'missing_or_found_people': 0\n",
    "}"
   ]
  },
  {
   "cell_type": "code",
   "execution_count": 10,
   "metadata": {},
   "outputs": [
    {
     "data": {
      "text/plain": [
       "13608"
      ]
     },
     "execution_count": 10,
     "metadata": {},
     "output_type": "execute_result"
    }
   ],
   "source": [
    "len(train_split_df)"
   ]
  },
  {
   "cell_type": "code",
   "execution_count": 10,
   "metadata": {
    "colab": {
     "base_uri": "https://localhost:8080/",
     "height": 36
    },
    "executionInfo": {
     "elapsed": 181,
     "status": "ok",
     "timestamp": 1681444537857,
     "user": {
      "displayName": "Saksham Arora",
      "userId": "07860672125006727048"
     },
     "user_tz": 240
    },
    "id": "A-H9V45dwv75",
    "outputId": "8249fbb5-4509-4c4b-9291-d9224a807496"
   },
   "outputs": [
    {
     "data": {
      "text/plain": [
       "'../sverma324/data/crisis-mmd/data_image/california_wildfires/10_10_2017/917793137925459968_2.jpg'"
      ]
     },
     "execution_count": 10,
     "metadata": {},
     "output_type": "execute_result"
    }
   ],
   "source": [
    "'../sverma324/data/crisis-mmd/{}'.format(train_split_df.iloc[4, 4])"
   ]
  },
  {
   "cell_type": "code",
   "execution_count": 11,
   "metadata": {
    "id": "f7WRiNYDwv77"
   },
   "outputs": [],
   "source": [
    "def image_transform(image):\n",
    "\n",
    "    h, w, _ = image.shape\n",
    "    target_len = 299\n",
    "    padded_image = np.zeros((target_len, target_len, 3)).astype(int)\n",
    "\n",
    "\n",
    "    if w > h:\n",
    "        # Resize to [] x 299\n",
    "        image = cv2.resize(image, (target_len, math.floor(h / (w / target_len))))\n",
    "        short_len = image.shape[0]\n",
    "\n",
    "        # Pad to 299 x 299\n",
    "        padded_image[math.floor((target_len - short_len) / 2):\n",
    "                     math.floor((target_len - short_len) / 2) + short_len,\n",
    "                     :, :] = image\n",
    "    else:\n",
    "        # Resize to 299 x []\n",
    "        image = cv2.resize(image, (math.floor(w / (h / target_len)), target_len))\n",
    "        short_len = image.shape[1]\n",
    "\n",
    "        # Pad to 299 x 299\n",
    "        padded_image[:, math.floor((target_len - short_len) / 2):\n",
    "                     math.floor((target_len - short_len) / 2) + short_len,\n",
    "                     :] = image\n",
    "    \n",
    "    return padded_image\n",
    "\n",
    "image = cv2.imread('../sverma324/data/crisis-mmd/{}'.format(train_split_df.iloc[3, 4]))\n",
    "image = cv2.cvtColor(image, cv2.COLOR_BGR2RGB)\n",
    "# image"
   ]
  },
  {
   "cell_type": "code",
   "execution_count": 12,
   "metadata": {
    "colab": {
     "base_uri": "https://localhost:8080/",
     "height": 406
    },
    "executionInfo": {
     "elapsed": 790,
     "status": "ok",
     "timestamp": 1681444552998,
     "user": {
      "displayName": "Saksham Arora",
      "userId": "07860672125006727048"
     },
     "user_tz": 240
    },
    "id": "mjTt2Y3Xwv78",
    "outputId": "302a7cfd-0ae8-4d3a-98ab-8456b325995b"
   },
   "outputs": [
    {
     "data": {
      "image/png": "[encoded data removed]",
      "text/plain": [
       "<Figure size 432x288 with 1 Axes>"
      ]
     },
     "metadata": {
      "needs_background": "light"
     },
     "output_type": "display_data"
    }
   ],
   "source": [
    "plt.imshow(image)\n",
    "plt.show()"
   ]
  },
  {
   "cell_type": "code",
   "execution_count": 13,
   "metadata": {
    "colab": {
     "base_uri": "https://localhost:8080/",
     "height": 435
    },
    "executionInfo": {
     "elapsed": 564,
     "status": "ok",
     "timestamp": 1681444556369,
     "user": {
      "displayName": "Saksham Arora",
      "userId": "07860672125006727048"
     },
     "user_tz": 240
    },
    "id": "Q4VzR_Q3wv79",
    "outputId": "1cc0d9d5-d0e5-4a66-d14e-8b4941915804"
   },
   "outputs": [
    {
     "data": {
      "image/png": "[encoded data removed]",
      "text/plain": [
       "<Figure size 432x288 with 1 Axes>"
      ]
     },
     "metadata": {
      "needs_background": "light"
     },
     "output_type": "display_data"
    }
   ],
   "source": [
    "plt.imshow(image_transform(image))\n",
    "plt.show()"
   ]
  },
  {
   "cell_type": "code",
   "execution_count": 14,
   "metadata": {
    "id": "7rRizy4Ewv7-"
   },
   "outputs": [],
   "source": [
    "class ImageDataset(Dataset):\n",
    "\n",
    "    def __init__(self, tsv_file, root_dir):\n",
    "        \"\"\"\n",
    "        Args:\n",
    "            tsv_file (string): Path to the train/test/dev split tsv file\n",
    "            root_dir (string): Directory with all the images.\n",
    "        \"\"\"\n",
    "        self.file_df = pd.read_csv(tsv_file, sep='\\t')\n",
    "        self.root_dir = root_dir\n",
    "        self.normalize = transforms.Normalize(mean=[0.485, 0.456, 0.406], std=[0.229, 0.224, 0.225])\n",
    "\n",
    "    def __len__(self):\n",
    "        return len(self.file_df)\n",
    "\n",
    "    def __getitem__(self, idx):\n",
    "        if torch.is_tensor(idx):\n",
    "            idx = idx.tolist()\n",
    "\n",
    "        img_name = os.path.join(self.root_dir,\n",
    "                                self.file_df.iloc[idx, 4])\n",
    "        image = cv2.imread(img_name)\n",
    "        image = cv2.cvtColor(image, cv2.COLOR_BGR2RGB)\n",
    "        \n",
    "        # Resize one dimension of image to 299\n",
    "        image = image_transform(image)\n",
    "        \n",
    "        # Swap axis\n",
    "        image = image.transpose((2, 0, 1))\n",
    "        \n",
    "        # Normalize the image\n",
    "        image = image / 255\n",
    "        image = torch.from_numpy(image)\n",
    "        image = self.normalize(image).float()\n",
    "        \n",
    "        # Get the label\n",
    "        label = label_map[self.file_df.iloc[idx, 5]]\n",
    "        \n",
    "        return image, label"
   ]
  },
  {
   "cell_type": "code",
   "execution_count": 15,
   "metadata": {
    "id": "0rfNefrrwv8A"
   },
   "outputs": [],
   "source": [
    "train_dataset = ImageDataset('../sverma324/data/crisis-mmd/task_humanitarian_text_img_train.tsv',\n",
    "                             '../sverma324/data/crisis-mmd')"
   ]
  },
  {
   "cell_type": "code",
   "execution_count": 16,
   "metadata": {
    "colab": {
     "base_uri": "https://localhost:8080/"
    },
    "executionInfo": {
     "elapsed": 542,
     "status": "ok",
     "timestamp": 1681444576069,
     "user": {
      "displayName": "Saksham Arora",
      "userId": "07860672125006727048"
     },
     "user_tz": 240
    },
    "id": "DF8_JODVwv8B",
    "outputId": "9ba20d74-12eb-4158-e6ce-7cfb1e96d147"
   },
   "outputs": [
    {
     "name": "stdout",
     "output_type": "stream",
     "text": [
      "torch.Size([3, 299, 299]) 2\n"
     ]
    }
   ],
   "source": [
    "for i in train_dataset:\n",
    "    print(i[0].shape, i[1])\n",
    "    break"
   ]
  },
  {
   "cell_type": "code",
   "execution_count": 17,
   "metadata": {},
   "outputs": [
    {
     "data": {
      "text/plain": [
       "13608"
      ]
     },
     "execution_count": 17,
     "metadata": {},
     "output_type": "execute_result"
    }
   ],
   "source": [
    "len(train_dataset)"
   ]
  },
  {
   "cell_type": "markdown",
   "metadata": {
    "id": "H-tJF6T_wv8I"
   },
   "source": [
    "## Fine Tuning Resnet-18"
   ]
  },
  {
   "cell_type": "code",
   "execution_count": 18,
   "metadata": {
    "id": "1m0u9Ob0wv8I"
   },
   "outputs": [],
   "source": [
    "class ImageDataset(Dataset):\n",
    "\n",
    "    def __init__(self, tsv_file, root_dir):\n",
    "        \"\"\"\n",
    "        Args:\n",
    "            tsv_file (string): Path to the train/test/dev split tsv file\n",
    "            root_dir (string): Directory with all the images.\n",
    "        \"\"\"\n",
    "        self.file_df = pd.read_csv(tsv_file, sep='\\t')\n",
    "        self.root_dir = root_dir\n",
    "        self.normalize = transforms.Normalize(mean=[0.485, 0.456, 0.406], std=[0.229, 0.224, 0.225])\n",
    "        self.resize = transforms.Resize(256)\n",
    "        self.center = transforms.CenterCrop(224)\n",
    "        self.to_tensor = transforms.ToTensor()\n",
    "\n",
    "    def __len__(self):\n",
    "        return len(self.file_df)\n",
    "\n",
    "    def __getitem__(self, idx):\n",
    "        if torch.is_tensor(idx):\n",
    "            idx = idx.tolist()\n",
    "\n",
    "        img_name = os.path.join(self.root_dir,\n",
    "                                self.file_df.iloc[idx, 4])\n",
    "        image = Image.open(img_name).convert('RGB')\n",
    "        \n",
    "        image = self.resize(image)\n",
    "        image = self.center(image)\n",
    "        \n",
    "        image = self.to_tensor(image)\n",
    "        image = self.normalize(image)\n",
    "        \n",
    "        # Get the label\n",
    "        label = label_map[self.file_df.iloc[idx, 5]]\n",
    "        \n",
    "        return image, label"
   ]
  },
  {
   "cell_type": "code",
   "execution_count": 19,
   "metadata": {},
   "outputs": [
    {
     "data": {
      "text/plain": [
       "'/storage/home/hcocice1/sarora320'"
      ]
     },
     "execution_count": 19,
     "metadata": {},
     "output_type": "execute_result"
    }
   ],
   "source": [
    "os.getcwd()"
   ]
  },
  {
   "cell_type": "code",
   "execution_count": 20,
   "metadata": {
    "id": "TtSmrfF8wv8K"
   },
   "outputs": [],
   "source": [
    "num_classes = 5\n",
    "device = torch.device(\"cuda:0\" if torch.cuda.is_available() else \"cpu\")\n",
    "\n",
    "train_dataset = ImageDataset('../sverma324/data/crisis-mmd/task_humanitarian_text_img_train.tsv',\n",
    "                             '../sverma324/data/crisis-mmd')\n",
    "dev_dataset = ImageDataset('../sverma324/data/crisis-mmd/task_humanitarian_text_img_dev.tsv',\n",
    "                             '../sverma324/data/crisis-mmd')\n",
    "test_dataset = ImageDataset('../sverma324/data/crisis-mmd/task_humanitarian_text_img_test.tsv',\n",
    "                             '../sverma324/data/crisis-mmd')"
   ]
  },
  {
   "cell_type": "code",
   "execution_count": 21,
   "metadata": {},
   "outputs": [
    {
     "data": {
      "text/plain": [
       "Negative    7482\n",
       "Positive    6126\n",
       "Name: label_text_image, dtype: int64"
      ]
     },
     "execution_count": 21,
     "metadata": {},
     "output_type": "execute_result"
    }
   ],
   "source": [
    "tsv_file = '../sverma324/data/crisis-mmd/task_humanitarian_text_img_train.tsv'\n",
    "a = pd.read_csv(tsv_file, sep='\\t')\n",
    "a['label_text_image'].value_counts()"
   ]
  },
  {
   "cell_type": "code",
   "execution_count": 39,
   "metadata": {
    "id": "lXcD6C8Wwv8K"
   },
   "outputs": [],
   "source": [
    "batch_size = 32\n",
    "\n",
    "train_dataset_loader = torch.utils.data.DataLoader(train_dataset,\n",
    "                                                   batch_size=batch_size,\n",
    "                                                   shuffle=True,\n",
    "                                                   num_workers=4)\n",
    "dev_dataset_loader = torch.utils.data.DataLoader(dev_dataset,\n",
    "                                                 batch_size=batch_size,\n",
    "                                                 shuffle=True,\n",
    "                                                 num_workers=4)\n",
    "test_dataset_loader = torch.utils.data.DataLoader(test_dataset,\n",
    "                                                  batch_size=batch_size,\n",
    "                                                  shuffle=True,\n",
    "                                                  num_workers=4)"
   ]
  },
  {
   "cell_type": "code",
   "execution_count": 30,
   "metadata": {
    "id": "n-oCDyZMwv8L",
    "outputId": "cc002ea2-501f-4ab5-e186-dc9df7195955"
   },
   "outputs": [
    {
     "name": "stdout",
     "output_type": "stream",
     "text": [
      "torch.Size([32, 3, 224, 224]) tensor(2.6400) tensor([3, 4, 4, 3, 1, 3, 3, 3, 3, 1, 3, 1, 3, 1, 2, 4, 3, 2, 4, 1, 3, 1, 3, 4,\n",
      "        4, 1, 2, 2, 2, 2, 3, 1])\n"
     ]
    }
   ],
   "source": [
    "for inputs, labels in train_dataset_loader:\n",
    "    print(inputs.shape, torch.max(inputs), labels)\n",
    "    break"
   ]
  },
  {
   "cell_type": "code",
   "execution_count": 24,
   "metadata": {
    "id": "5rFYe7t5wv8M"
   },
   "outputs": [],
   "source": [
    "def train_model(model, dataloaders, criterion, optimizer, num_epochs=25, patience=20):\n",
    "    val_acc_history = []\n",
    "\n",
    "    best_model_wts = copy.deepcopy(model.state_dict())\n",
    "    best_acc = 0.0\n",
    "    \n",
    "    # Early stopping\n",
    "    es_counter = 0\n",
    "    es = False\n",
    "\n",
    "    for epoch in range(num_epochs):\n",
    "        if es:\n",
    "            break\n",
    "\n",
    "        print('Epoch {}/{}'.format(epoch, num_epochs - 1))\n",
    "        print('-' * 10)\n",
    "\n",
    "        # Each epoch has a training and validation phase\n",
    "        for phase in ['train', 'val']:\n",
    "            if phase == 'train':\n",
    "                model.train()  # Set model to training mode\n",
    "            else:\n",
    "                model.eval()   # Set model to evaluate mode\n",
    "\n",
    "            running_loss = 0.0\n",
    "            running_corrects = 0\n",
    "\n",
    "            # Iterate over data.\n",
    "            for inputs, labels in tqdm(dataloaders[phase], desc=phase):\n",
    "                inputs = inputs.to(device)\n",
    "                labels = labels.to(device)\n",
    "\n",
    "                # zero the parameter gradients\n",
    "                optimizer.zero_grad()\n",
    "\n",
    "                # forward\n",
    "                # track history if only in train\n",
    "                with torch.set_grad_enabled(phase == 'train'):\n",
    "                    # Get model outputs and calculate loss\n",
    "                    # Special case for inception because in training it has an auxiliary output. In train\n",
    "                    #   mode we calculate the loss by summing the final output and the auxiliary output\n",
    "                    #   but in testing we only consider the final output.\n",
    "\n",
    "                    outputs = model(inputs)\n",
    "                    loss = criterion(outputs, labels)\n",
    "\n",
    "                    _, preds = torch.max(outputs, 1)\n",
    "\n",
    "                    # backward + optimize only if in training phase\n",
    "                    if phase == 'train':\n",
    "                        loss.backward()\n",
    "                        optimizer.step()\n",
    "\n",
    "                # statistics\n",
    "                running_loss += loss.item() * inputs.size(0)\n",
    "                running_corrects += torch.sum(preds == labels.data)\n",
    "\n",
    "            epoch_loss = running_loss / len(dataloaders[phase].dataset)\n",
    "            epoch_acc = running_corrects.double() / len(dataloaders[phase].dataset)\n",
    "\n",
    "            print('{} Loss: {:.4f} Acc: {:.4f}'.format(phase, epoch_loss, epoch_acc))\n",
    "\n",
    "            # deep copy the model\n",
    "            if phase == 'val':\n",
    "                if epoch_acc > best_acc:\n",
    "                    best_acc = epoch_acc\n",
    "                    best_model_wts = copy.deepcopy(model.state_dict())\n",
    "                    es_counter = 0\n",
    "                else:\n",
    "                    es_counter += 1\n",
    "                    if es_counter > patience:\n",
    "                        es = True\n",
    "\n",
    "                val_acc_history.append(epoch_acc)\n",
    "\n",
    "        print()\n",
    "\n",
    "    print('Best val Acc: {:4f}'.format(best_acc))\n",
    "\n",
    "    # load best model weights\n",
    "    model.load_state_dict(best_model_wts)\n",
    "    return model, val_acc_history"
   ]
  },
  {
   "cell_type": "code",
   "execution_count": 25,
   "metadata": {},
   "outputs": [
    {
     "name": "stderr",
     "output_type": "stream",
     "text": [
      "/storage/home/hcocice1/sarora320/.local/lib/python3.8/site-packages/torchvision/models/_utils.py:208: UserWarning: The parameter 'pretrained' is deprecated since 0.13 and may be removed in the future, please use 'weights' instead.\n",
      "  warnings.warn(\n",
      "/storage/home/hcocice1/sarora320/.local/lib/python3.8/site-packages/torchvision/models/_utils.py:223: UserWarning: Arguments other than a weight enum or `None` for 'weights' are deprecated since 0.13 and may be removed in the future. The current behavior is equivalent to passing `weights=ResNet18_Weights.IMAGENET1K_V1`. You can also use `weights=ResNet18_Weights.DEFAULT` to get the most up-to-date weights.\n",
      "  warnings.warn(msg)\n"
     ]
    }
   ],
   "source": [
    "model_ft = models.resnet18(pretrained=True)\n",
    "num_ftrs = model_ft.fc.in_features\n",
    "model_ft.fc = nn.Linear(num_ftrs, num_classes)\n",
    "\n",
    "for name, param in model_ft.named_parameters():\n",
    "    \n",
    "    if name not in set(['fc.weight', 'fc.bias']):\n",
    "        param.requires_grad = False\n",
    "    else:\n",
    "        param.requires_grad = True\n",
    "model_ft = model_ft.to(device)\n",
    "\n",
    "params_to_update = [p for p in model_ft.parameters() if p.requires_grad]\n",
    "\n",
    "# Observe that all parameters are being optimized\n",
    "optimizer_ft = optim.Adam(params_to_update, lr=1e-4)\n",
    "criterion = nn.CrossEntropyLoss()        "
   ]
  },
  {
   "cell_type": "code",
   "execution_count": 26,
   "metadata": {},
   "outputs": [],
   "source": [
    "import warnings\n",
    "warnings.filterwarnings(\"ignore\")"
   ]
  },
  {
   "cell_type": "code",
   "execution_count": 28,
   "metadata": {
    "id": "kzutfbmwwv8N",
    "outputId": "141d5b71-eac1-47b0-973f-653a39a31e12",
    "scrolled": false
   },
   "outputs": [
    {
     "name": "stderr",
     "output_type": "stream",
     "text": [
      "\r",
      "train:   0%|          | 0/426 [00:00<?, ?it/s]"
     ]
    },
    {
     "name": "stdout",
     "output_type": "stream",
     "text": [
      "Epoch 0/24\n",
      "----------\n"
     ]
    },
    {
     "name": "stderr",
     "output_type": "stream",
     "text": [
      "train: 100%|██████████| 426/426 [00:56<00:00,  7.48it/s]\n",
      "val:   0%|          | 0/70 [00:00<?, ?it/s]"
     ]
    },
    {
     "name": "stdout",
     "output_type": "stream",
     "text": [
      "train Loss: 1.3633 Acc: 0.4285\n"
     ]
    },
    {
     "name": "stderr",
     "output_type": "stream",
     "text": [
      "val: 100%|██████████| 70/70 [00:09<00:00,  7.70it/s]\n",
      "train:   0%|          | 0/426 [00:00<?, ?it/s]"
     ]
    },
    {
     "name": "stdout",
     "output_type": "stream",
     "text": [
      "val Loss: 1.2839 Acc: 0.4604\n",
      "\n",
      "Epoch 1/24\n",
      "----------\n"
     ]
    },
    {
     "name": "stderr",
     "output_type": "stream",
     "text": [
      "train: 100%|██████████| 426/426 [00:55<00:00,  7.71it/s]\n",
      "val:   0%|          | 0/70 [00:00<?, ?it/s]"
     ]
    },
    {
     "name": "stdout",
     "output_type": "stream",
     "text": [
      "train Loss: 1.2490 Acc: 0.4972\n"
     ]
    },
    {
     "name": "stderr",
     "output_type": "stream",
     "text": [
      "val: 100%|██████████| 70/70 [00:09<00:00,  7.58it/s]\n",
      "train:   0%|          | 0/426 [00:00<?, ?it/s]"
     ]
    },
    {
     "name": "stdout",
     "output_type": "stream",
     "text": [
      "val Loss: 1.2460 Acc: 0.4917\n",
      "\n",
      "Epoch 2/24\n",
      "----------\n"
     ]
    },
    {
     "name": "stderr",
     "output_type": "stream",
     "text": [
      "train: 100%|██████████| 426/426 [00:56<00:00,  7.57it/s]\n",
      "val:   0%|          | 0/70 [00:00<?, ?it/s]"
     ]
    },
    {
     "name": "stdout",
     "output_type": "stream",
     "text": [
      "train Loss: 1.2177 Acc: 0.5191\n"
     ]
    },
    {
     "name": "stderr",
     "output_type": "stream",
     "text": [
      "val: 100%|██████████| 70/70 [00:09<00:00,  7.57it/s]\n",
      "train:   0%|          | 0/426 [00:00<?, ?it/s]"
     ]
    },
    {
     "name": "stdout",
     "output_type": "stream",
     "text": [
      "val Loss: 1.2204 Acc: 0.4980\n",
      "\n",
      "Epoch 3/24\n",
      "----------\n"
     ]
    },
    {
     "name": "stderr",
     "output_type": "stream",
     "text": [
      "train: 100%|██████████| 426/426 [00:55<00:00,  7.69it/s]\n",
      "val:   0%|          | 0/70 [00:00<?, ?it/s]"
     ]
    },
    {
     "name": "stdout",
     "output_type": "stream",
     "text": [
      "train Loss: 1.2000 Acc: 0.5267\n"
     ]
    },
    {
     "name": "stderr",
     "output_type": "stream",
     "text": [
      "val: 100%|██████████| 70/70 [00:09<00:00,  7.63it/s]\n",
      "train:   0%|          | 0/426 [00:00<?, ?it/s]"
     ]
    },
    {
     "name": "stdout",
     "output_type": "stream",
     "text": [
      "val Loss: 1.2100 Acc: 0.5051\n",
      "\n",
      "Epoch 4/24\n",
      "----------\n"
     ]
    },
    {
     "name": "stderr",
     "output_type": "stream",
     "text": [
      "train: 100%|██████████| 426/426 [00:55<00:00,  7.70it/s]\n",
      "val:   0%|          | 0/70 [00:00<?, ?it/s]"
     ]
    },
    {
     "name": "stdout",
     "output_type": "stream",
     "text": [
      "train Loss: 1.1906 Acc: 0.5299\n"
     ]
    },
    {
     "name": "stderr",
     "output_type": "stream",
     "text": [
      "val: 100%|██████████| 70/70 [00:09<00:00,  7.73it/s]\n",
      "train:   0%|          | 0/426 [00:00<?, ?it/s]"
     ]
    },
    {
     "name": "stdout",
     "output_type": "stream",
     "text": [
      "val Loss: 1.2027 Acc: 0.5074\n",
      "\n",
      "Epoch 5/24\n",
      "----------\n"
     ]
    },
    {
     "name": "stderr",
     "output_type": "stream",
     "text": [
      "train: 100%|██████████| 426/426 [00:55<00:00,  7.66it/s]\n",
      "val:   0%|          | 0/70 [00:00<?, ?it/s]"
     ]
    },
    {
     "name": "stdout",
     "output_type": "stream",
     "text": [
      "train Loss: 1.1849 Acc: 0.5376\n"
     ]
    },
    {
     "name": "stderr",
     "output_type": "stream",
     "text": [
      "val: 100%|██████████| 70/70 [00:09<00:00,  7.65it/s]\n",
      "train:   0%|          | 0/426 [00:00<?, ?it/s]"
     ]
    },
    {
     "name": "stdout",
     "output_type": "stream",
     "text": [
      "val Loss: 1.2059 Acc: 0.5168\n",
      "\n",
      "Epoch 6/24\n",
      "----------\n"
     ]
    },
    {
     "name": "stderr",
     "output_type": "stream",
     "text": [
      "train: 100%|██████████| 426/426 [00:55<00:00,  7.72it/s]\n",
      "val:   0%|          | 0/70 [00:00<?, ?it/s]"
     ]
    },
    {
     "name": "stdout",
     "output_type": "stream",
     "text": [
      "train Loss: 1.1746 Acc: 0.5386\n"
     ]
    },
    {
     "name": "stderr",
     "output_type": "stream",
     "text": [
      "val: 100%|██████████| 70/70 [00:09<00:00,  7.63it/s]\n",
      "train:   0%|          | 0/426 [00:00<?, ?it/s]"
     ]
    },
    {
     "name": "stdout",
     "output_type": "stream",
     "text": [
      "val Loss: 1.2011 Acc: 0.5141\n",
      "\n",
      "Epoch 7/24\n",
      "----------\n"
     ]
    },
    {
     "name": "stderr",
     "output_type": "stream",
     "text": [
      "train: 100%|██████████| 426/426 [00:54<00:00,  7.78it/s]\n",
      "val:   0%|          | 0/70 [00:00<?, ?it/s]"
     ]
    },
    {
     "name": "stdout",
     "output_type": "stream",
     "text": [
      "train Loss: 1.1738 Acc: 0.5414\n"
     ]
    },
    {
     "name": "stderr",
     "output_type": "stream",
     "text": [
      "val: 100%|██████████| 70/70 [00:08<00:00,  7.78it/s]\n",
      "train:   0%|          | 0/426 [00:00<?, ?it/s]"
     ]
    },
    {
     "name": "stdout",
     "output_type": "stream",
     "text": [
      "val Loss: 1.1960 Acc: 0.5186\n",
      "\n",
      "Epoch 8/24\n",
      "----------\n"
     ]
    },
    {
     "name": "stderr",
     "output_type": "stream",
     "text": [
      "train: 100%|██████████| 426/426 [00:54<00:00,  7.75it/s]\n",
      "val:   0%|          | 0/70 [00:00<?, ?it/s]"
     ]
    },
    {
     "name": "stdout",
     "output_type": "stream",
     "text": [
      "train Loss: 1.1653 Acc: 0.5428\n"
     ]
    },
    {
     "name": "stderr",
     "output_type": "stream",
     "text": [
      "val: 100%|██████████| 70/70 [00:08<00:00,  7.83it/s]\n",
      "train:   0%|          | 0/426 [00:00<?, ?it/s]"
     ]
    },
    {
     "name": "stdout",
     "output_type": "stream",
     "text": [
      "val Loss: 1.1946 Acc: 0.5208\n",
      "\n",
      "Epoch 9/24\n",
      "----------\n"
     ]
    },
    {
     "name": "stderr",
     "output_type": "stream",
     "text": [
      "train: 100%|██████████| 426/426 [00:54<00:00,  7.76it/s]\n",
      "val:   0%|          | 0/70 [00:00<?, ?it/s]"
     ]
    },
    {
     "name": "stdout",
     "output_type": "stream",
     "text": [
      "train Loss: 1.1613 Acc: 0.5468\n"
     ]
    },
    {
     "name": "stderr",
     "output_type": "stream",
     "text": [
      "val: 100%|██████████| 70/70 [00:09<00:00,  7.76it/s]\n",
      "train:   0%|          | 0/426 [00:00<?, ?it/s]"
     ]
    },
    {
     "name": "stdout",
     "output_type": "stream",
     "text": [
      "val Loss: 1.1909 Acc: 0.5262\n",
      "\n",
      "Epoch 10/24\n",
      "----------\n"
     ]
    },
    {
     "name": "stderr",
     "output_type": "stream",
     "text": [
      "train: 100%|██████████| 426/426 [00:55<00:00,  7.74it/s]\n",
      "val:   0%|          | 0/70 [00:00<?, ?it/s]"
     ]
    },
    {
     "name": "stdout",
     "output_type": "stream",
     "text": [
      "train Loss: 1.1586 Acc: 0.5468\n"
     ]
    },
    {
     "name": "stderr",
     "output_type": "stream",
     "text": [
      "val: 100%|██████████| 70/70 [00:09<00:00,  7.76it/s]\n",
      "train:   0%|          | 0/426 [00:00<?, ?it/s]"
     ]
    },
    {
     "name": "stdout",
     "output_type": "stream",
     "text": [
      "val Loss: 1.1941 Acc: 0.5253\n",
      "\n",
      "Epoch 11/24\n",
      "----------\n"
     ]
    },
    {
     "name": "stderr",
     "output_type": "stream",
     "text": [
      "train: 100%|██████████| 426/426 [00:54<00:00,  7.75it/s]\n",
      "val:   0%|          | 0/70 [00:00<?, ?it/s]"
     ]
    },
    {
     "name": "stdout",
     "output_type": "stream",
     "text": [
      "train Loss: 1.1551 Acc: 0.5470\n"
     ]
    },
    {
     "name": "stderr",
     "output_type": "stream",
     "text": [
      "val: 100%|██████████| 70/70 [00:09<00:00,  7.70it/s]\n",
      "train:   0%|          | 0/426 [00:00<?, ?it/s]"
     ]
    },
    {
     "name": "stdout",
     "output_type": "stream",
     "text": [
      "val Loss: 1.1888 Acc: 0.5239\n",
      "\n",
      "Epoch 12/24\n",
      "----------\n"
     ]
    },
    {
     "name": "stderr",
     "output_type": "stream",
     "text": [
      "train: 100%|██████████| 426/426 [00:56<00:00,  7.60it/s]\n",
      "val:   0%|          | 0/70 [00:00<?, ?it/s]"
     ]
    },
    {
     "name": "stdout",
     "output_type": "stream",
     "text": [
      "train Loss: 1.1545 Acc: 0.5496\n"
     ]
    },
    {
     "name": "stderr",
     "output_type": "stream",
     "text": [
      "val: 100%|██████████| 70/70 [00:09<00:00,  7.76it/s]\n",
      "train:   0%|          | 0/426 [00:00<?, ?it/s]"
     ]
    },
    {
     "name": "stdout",
     "output_type": "stream",
     "text": [
      "val Loss: 1.1903 Acc: 0.5329\n",
      "\n",
      "Epoch 13/24\n",
      "----------\n"
     ]
    },
    {
     "name": "stderr",
     "output_type": "stream",
     "text": [
      "train: 100%|██████████| 426/426 [00:54<00:00,  7.77it/s]\n",
      "val:   0%|          | 0/70 [00:00<?, ?it/s]"
     ]
    },
    {
     "name": "stdout",
     "output_type": "stream",
     "text": [
      "train Loss: 1.1526 Acc: 0.5511\n"
     ]
    },
    {
     "name": "stderr",
     "output_type": "stream",
     "text": [
      "val: 100%|██████████| 70/70 [00:09<00:00,  7.76it/s]\n",
      "train:   0%|          | 0/426 [00:00<?, ?it/s]"
     ]
    },
    {
     "name": "stdout",
     "output_type": "stream",
     "text": [
      "val Loss: 1.1944 Acc: 0.5346\n",
      "\n",
      "Epoch 14/24\n",
      "----------\n"
     ]
    },
    {
     "name": "stderr",
     "output_type": "stream",
     "text": [
      "train: 100%|██████████| 426/426 [00:54<00:00,  7.76it/s]\n",
      "val:   0%|          | 0/70 [00:00<?, ?it/s]"
     ]
    },
    {
     "name": "stdout",
     "output_type": "stream",
     "text": [
      "train Loss: 1.1490 Acc: 0.5525\n"
     ]
    },
    {
     "name": "stderr",
     "output_type": "stream",
     "text": [
      "val: 100%|██████████| 70/70 [00:09<00:00,  7.62it/s]\n",
      "train:   0%|          | 0/426 [00:00<?, ?it/s]"
     ]
    },
    {
     "name": "stdout",
     "output_type": "stream",
     "text": [
      "val Loss: 1.1810 Acc: 0.5338\n",
      "\n",
      "Epoch 15/24\n",
      "----------\n"
     ]
    },
    {
     "name": "stderr",
     "output_type": "stream",
     "text": [
      "train: 100%|██████████| 426/426 [00:55<00:00,  7.71it/s]\n",
      "val:   0%|          | 0/70 [00:00<?, ?it/s]"
     ]
    },
    {
     "name": "stdout",
     "output_type": "stream",
     "text": [
      "train Loss: 1.1469 Acc: 0.5509\n"
     ]
    },
    {
     "name": "stderr",
     "output_type": "stream",
     "text": [
      "val: 100%|██████████| 70/70 [00:08<00:00,  7.81it/s]\n",
      "train:   0%|          | 0/426 [00:00<?, ?it/s]"
     ]
    },
    {
     "name": "stdout",
     "output_type": "stream",
     "text": [
      "val Loss: 1.1859 Acc: 0.5275\n",
      "\n",
      "Epoch 16/24\n",
      "----------\n"
     ]
    },
    {
     "name": "stderr",
     "output_type": "stream",
     "text": [
      "train: 100%|██████████| 426/426 [00:55<00:00,  7.68it/s]\n",
      "val:   0%|          | 0/70 [00:00<?, ?it/s]"
     ]
    },
    {
     "name": "stdout",
     "output_type": "stream",
     "text": [
      "train Loss: 1.1438 Acc: 0.5522\n"
     ]
    },
    {
     "name": "stderr",
     "output_type": "stream",
     "text": [
      "val: 100%|██████████| 70/70 [00:09<00:00,  7.52it/s]\n",
      "train:   0%|          | 0/426 [00:00<?, ?it/s]"
     ]
    },
    {
     "name": "stdout",
     "output_type": "stream",
     "text": [
      "val Loss: 1.2023 Acc: 0.5329\n",
      "\n",
      "Epoch 17/24\n",
      "----------\n"
     ]
    },
    {
     "name": "stderr",
     "output_type": "stream",
     "text": [
      "train: 100%|██████████| 426/426 [00:55<00:00,  7.72it/s]\n",
      "val:   0%|          | 0/70 [00:00<?, ?it/s]"
     ]
    },
    {
     "name": "stdout",
     "output_type": "stream",
     "text": [
      "train Loss: 1.1416 Acc: 0.5553\n"
     ]
    },
    {
     "name": "stderr",
     "output_type": "stream",
     "text": [
      "val: 100%|██████████| 70/70 [00:09<00:00,  7.70it/s]\n",
      "train:   0%|          | 0/426 [00:00<?, ?it/s]"
     ]
    },
    {
     "name": "stdout",
     "output_type": "stream",
     "text": [
      "val Loss: 1.1835 Acc: 0.5396\n",
      "\n",
      "Epoch 18/24\n",
      "----------\n"
     ]
    },
    {
     "name": "stderr",
     "output_type": "stream",
     "text": [
      "train: 100%|██████████| 426/426 [00:55<00:00,  7.66it/s]\n",
      "val:   0%|          | 0/70 [00:00<?, ?it/s]"
     ]
    },
    {
     "name": "stdout",
     "output_type": "stream",
     "text": [
      "train Loss: 1.1378 Acc: 0.5578\n"
     ]
    },
    {
     "name": "stderr",
     "output_type": "stream",
     "text": [
      "val: 100%|██████████| 70/70 [00:08<00:00,  7.91it/s]\n",
      "train:   0%|          | 0/426 [00:00<?, ?it/s]"
     ]
    },
    {
     "name": "stdout",
     "output_type": "stream",
     "text": [
      "val Loss: 1.1974 Acc: 0.5351\n",
      "\n",
      "Epoch 19/24\n",
      "----------\n"
     ]
    },
    {
     "name": "stderr",
     "output_type": "stream",
     "text": [
      "train: 100%|██████████| 426/426 [00:55<00:00,  7.67it/s]\n",
      "val:   0%|          | 0/70 [00:00<?, ?it/s]"
     ]
    },
    {
     "name": "stdout",
     "output_type": "stream",
     "text": [
      "train Loss: 1.1394 Acc: 0.5562\n"
     ]
    },
    {
     "name": "stderr",
     "output_type": "stream",
     "text": [
      "val: 100%|██████████| 70/70 [00:08<00:00,  7.87it/s]\n",
      "train:   0%|          | 0/426 [00:00<?, ?it/s]"
     ]
    },
    {
     "name": "stdout",
     "output_type": "stream",
     "text": [
      "val Loss: 1.1882 Acc: 0.5382\n",
      "\n",
      "Epoch 20/24\n",
      "----------\n"
     ]
    },
    {
     "name": "stderr",
     "output_type": "stream",
     "text": [
      "train: 100%|██████████| 426/426 [00:55<00:00,  7.64it/s]\n",
      "val:   0%|          | 0/70 [00:00<?, ?it/s]"
     ]
    },
    {
     "name": "stdout",
     "output_type": "stream",
     "text": [
      "train Loss: 1.1397 Acc: 0.5567\n"
     ]
    },
    {
     "name": "stderr",
     "output_type": "stream",
     "text": [
      "val: 100%|██████████| 70/70 [00:08<00:00,  7.79it/s]\n",
      "train:   0%|          | 0/426 [00:00<?, ?it/s]"
     ]
    },
    {
     "name": "stdout",
     "output_type": "stream",
     "text": [
      "val Loss: 1.1851 Acc: 0.5346\n",
      "\n",
      "Epoch 21/24\n",
      "----------\n"
     ]
    },
    {
     "name": "stderr",
     "output_type": "stream",
     "text": [
      "train: 100%|██████████| 426/426 [00:55<00:00,  7.69it/s]\n",
      "val:   0%|          | 0/70 [00:00<?, ?it/s]"
     ]
    },
    {
     "name": "stdout",
     "output_type": "stream",
     "text": [
      "train Loss: 1.1376 Acc: 0.5557\n"
     ]
    },
    {
     "name": "stderr",
     "output_type": "stream",
     "text": [
      "val: 100%|██████████| 70/70 [00:08<00:00,  7.88it/s]\n",
      "train:   0%|          | 0/426 [00:00<?, ?it/s]"
     ]
    },
    {
     "name": "stdout",
     "output_type": "stream",
     "text": [
      "val Loss: 1.1889 Acc: 0.5391\n",
      "\n",
      "Epoch 22/24\n",
      "----------\n"
     ]
    },
    {
     "name": "stderr",
     "output_type": "stream",
     "text": [
      "train: 100%|██████████| 426/426 [00:54<00:00,  7.76it/s]\n",
      "val:   0%|          | 0/70 [00:00<?, ?it/s]"
     ]
    },
    {
     "name": "stdout",
     "output_type": "stream",
     "text": [
      "train Loss: 1.1357 Acc: 0.5588\n"
     ]
    },
    {
     "name": "stderr",
     "output_type": "stream",
     "text": [
      "val: 100%|██████████| 70/70 [00:09<00:00,  7.75it/s]\n",
      "train:   0%|          | 0/426 [00:00<?, ?it/s]"
     ]
    },
    {
     "name": "stdout",
     "output_type": "stream",
     "text": [
      "val Loss: 1.1840 Acc: 0.5396\n",
      "\n",
      "Epoch 23/24\n",
      "----------\n"
     ]
    },
    {
     "name": "stderr",
     "output_type": "stream",
     "text": [
      "train: 100%|██████████| 426/426 [00:55<00:00,  7.70it/s]\n",
      "val:   0%|          | 0/70 [00:00<?, ?it/s]"
     ]
    },
    {
     "name": "stdout",
     "output_type": "stream",
     "text": [
      "train Loss: 1.1358 Acc: 0.5580\n"
     ]
    },
    {
     "name": "stderr",
     "output_type": "stream",
     "text": [
      "val: 100%|██████████| 70/70 [00:08<00:00,  7.80it/s]\n",
      "train:   0%|          | 0/426 [00:00<?, ?it/s]"
     ]
    },
    {
     "name": "stdout",
     "output_type": "stream",
     "text": [
      "val Loss: 1.1790 Acc: 0.5329\n",
      "\n",
      "Epoch 24/24\n",
      "----------\n"
     ]
    },
    {
     "name": "stderr",
     "output_type": "stream",
     "text": [
      "train: 100%|██████████| 426/426 [00:55<00:00,  7.70it/s]\n",
      "val:   0%|          | 0/70 [00:00<?, ?it/s]"
     ]
    },
    {
     "name": "stdout",
     "output_type": "stream",
     "text": [
      "train Loss: 1.1355 Acc: 0.5553\n"
     ]
    },
    {
     "name": "stderr",
     "output_type": "stream",
     "text": [
      "val: 100%|██████████| 70/70 [00:09<00:00,  7.65it/s]"
     ]
    },
    {
     "name": "stdout",
     "output_type": "stream",
     "text": [
      "val Loss: 1.1820 Acc: 0.5400\n",
      "\n",
      "Best val Acc: 0.540009\n"
     ]
    },
    {
     "name": "stderr",
     "output_type": "stream",
     "text": [
      "\n"
     ]
    }
   ],
   "source": [
    "dataloaders = {'train': train_dataset_loader,\n",
    "               'val': dev_dataset_loader}\n",
    "\n",
    "model, val_acc_history = train_model(model_ft, dataloaders, criterion,\n",
    "                                     optimizer_ft, num_epochs=25,\n",
    "                                     patience=30)\n",
    "\n",
    "#torch.save(model.state_dict(), './output/best_weights.pk')\n",
    "# dump(val_acc_history, open('./output/val_acc_history.json', 'w'))"
   ]
  },
  {
   "cell_type": "code",
   "execution_count": 34,
   "metadata": {},
   "outputs": [],
   "source": [
    "torch.save(model.state_dict(), 'image_model_ouputs/best_weights_resnet.pk')"
   ]
  },
  {
   "cell_type": "markdown",
   "metadata": {
    "id": "uhU5zmaOwv8N"
   },
   "source": [
    "## 3. Analysis"
   ]
  },
  {
   "cell_type": "code",
   "execution_count": 22,
   "metadata": {},
   "outputs": [
    {
     "name": "stdout",
     "output_type": "stream",
     "text": [
      "image-classification-Copy1.ipynb   pace-jupyter-notebook.pbs.e556572\r\n",
      "\u001b[0m\u001b[01;32mimage-classification.ipynb\u001b[0m*        pace-jupyter-notebook.pbs.o551672\r\n",
      "\u001b[34;42mimage_model_ouputs\u001b[0m/                pace-jupyter-notebook.pbs.o551708\r\n",
      "\u001b[01;32mpace-jupyter-notebook.pbs\u001b[0m*         pace-jupyter-notebook.pbs.o551709\r\n",
      "pace-jupyter-notebook.pbs.e551672  pace-jupyter-notebook.pbs.o551774\r\n",
      "pace-jupyter-notebook.pbs.e551708  pace-jupyter-notebook.pbs.o551831\r\n",
      "pace-jupyter-notebook.pbs.e551709  pace-jupyter-notebook.pbs.o556564\r\n",
      "pace-jupyter-notebook.pbs.e551774  pace-jupyter-notebook.pbs.o556572\r\n",
      "pace-jupyter-notebook.pbs.e551831  \u001b[34;42mwstm\u001b[0m/\r\n",
      "pace-jupyter-notebook.pbs.e556564\r\n"
     ]
    }
   ],
   "source": [
    "ls"
   ]
  },
  {
   "cell_type": "code",
   "execution_count": 26,
   "metadata": {
    "id": "BoBPetaYwv8N"
   },
   "outputs": [],
   "source": [
    "model = models.resnet18(pretrained=True)\n",
    "num_ftrs = model.fc.in_features\n",
    "model.fc = nn.Linear(num_ftrs, num_classes)\n",
    "\n",
    "# Freeze model weights\n",
    "for param in model.parameters():\n",
    "    param.requires_grad = False\n",
    "    \n",
    "model.load_state_dict(torch.load('image_model_ouputs/best_weights_resnet.pk'))\n",
    "model = model.to(device)"
   ]
  },
  {
   "cell_type": "code",
   "execution_count": 32,
   "metadata": {
    "id": "jCSwmta1wv8O"
   },
   "outputs": [],
   "source": [
    "batch_size = 32\n",
    "\n",
    "test_dataset_loader = torch.utils.data.DataLoader(test_dataset,\n",
    "                                                  batch_size=batch_size,\n",
    "                                                  shuffle=True,\n",
    "                                                  num_workers=4)\n",
    "\n"
   ]
  },
  {
   "cell_type": "code",
   "execution_count": 40,
   "metadata": {},
   "outputs": [
    {
     "name": "stdout",
     "output_type": "stream",
     "text": [
      "[tensor([[[[ 2.2318,  2.2318,  2.2318,  ...,  2.2318,  2.2318,  2.2318],\n",
      "          [ 2.1290,  2.1290,  2.1290,  ...,  2.1119,  2.1119,  2.1119],\n",
      "          [ 2.0263,  2.0263,  2.0263,  ...,  2.0263,  2.0263,  2.0263],\n",
      "          ...,\n",
      "          [ 2.2489,  2.2489,  2.2489,  ...,  2.2489,  2.2489,  2.2489],\n",
      "          [ 2.2489,  2.2489,  2.2489,  ...,  2.2489,  2.2489,  2.2489],\n",
      "          [ 2.2489,  2.2489,  2.2489,  ...,  2.2489,  2.2489,  2.2489]],\n",
      "\n",
      "         [[ 2.4111,  2.4111,  2.4111,  ...,  2.4111,  2.4111,  2.4111],\n",
      "          [ 2.3060,  2.3060,  2.3060,  ...,  2.2885,  2.2885,  2.2885],\n",
      "          [ 2.2010,  2.2010,  2.2010,  ...,  2.2010,  2.2010,  2.2010],\n",
      "          ...,\n",
      "          [ 2.4286,  2.4286,  2.4286,  ...,  2.4286,  2.4286,  2.4286],\n",
      "          [ 2.4286,  2.4286,  2.4286,  ...,  2.4286,  2.4286,  2.4286],\n",
      "          [ 2.4286,  2.4286,  2.4286,  ...,  2.4286,  2.4286,  2.4286]],\n",
      "\n",
      "         [[ 2.6226,  2.6226,  2.6226,  ...,  2.6226,  2.6226,  2.6226],\n",
      "          [ 2.5180,  2.5180,  2.5180,  ...,  2.5006,  2.5006,  2.5006],\n",
      "          [ 2.4134,  2.4134,  2.4134,  ...,  2.4134,  2.4134,  2.4134],\n",
      "          ...,\n",
      "          [ 2.6400,  2.6400,  2.6400,  ...,  2.6400,  2.6400,  2.6400],\n",
      "          [ 2.6400,  2.6400,  2.6400,  ...,  2.6400,  2.6400,  2.6400],\n",
      "          [ 2.6400,  2.6400,  2.6400,  ...,  2.6400,  2.6400,  2.6400]]],\n",
      "\n",
      "\n",
      "        [[[ 1.6153,  1.5468,  1.4954,  ..., -0.5767, -0.5767, -0.5767],\n",
      "          [ 1.6667,  1.6153,  1.6153,  ..., -0.5082, -0.5082, -0.5424],\n",
      "          [ 1.6153,  1.5982,  1.5982,  ..., -0.4911, -0.4911, -0.4911],\n",
      "          ...,\n",
      "          [-1.4329, -1.5870, -1.2788,  ..., -1.7754, -1.8097, -1.8097],\n",
      "          [-1.7240, -1.6898, -1.5699,  ..., -1.8268, -1.8097, -1.8268],\n",
      "          [-1.7754, -1.8953, -1.9124,  ..., -1.8268, -1.8439, -1.8439]],\n",
      "\n",
      "         [[ 1.3782,  1.2731,  1.1681,  ..., -0.0224, -0.0224, -0.0224],\n",
      "          [ 1.4482,  1.4307,  1.3431,  ..., -0.0399, -0.0224, -0.0399],\n",
      "          [ 1.3606,  1.3431,  1.3431,  ..., -0.0399, -0.0574, -0.0574],\n",
      "          ...,\n",
      "          [-1.2829, -1.0903, -1.4405,  ..., -1.8606, -1.8957, -1.8957],\n",
      "          [-1.7731, -1.8606, -1.9132,  ..., -1.9132, -1.8957, -1.9132],\n",
      "          [-1.8606, -1.8606, -1.8256,  ..., -1.9132, -1.9307, -1.9307]],\n",
      "\n",
      "         [[ 0.7751,  0.6531,  0.6356,  ...,  0.6182,  0.6182,  0.6531],\n",
      "          [ 0.9668,  0.9319,  0.8971,  ...,  0.7576,  0.7576,  0.7402],\n",
      "          [ 0.8099,  0.8099,  0.8622,  ...,  0.7576,  0.7576,  0.7402],\n",
      "          ...,\n",
      "          [-1.3339, -1.0201, -1.2816,  ..., -1.6476, -1.6824, -1.6824],\n",
      "          [-1.6302, -1.5779, -1.6824,  ..., -1.6999, -1.6824, -1.6999],\n",
      "          [-1.6824, -1.6999, -1.7173,  ..., -1.6999, -1.7173, -1.7173]]],\n",
      "\n",
      "\n",
      "        [[[-2.0665, -2.0665, -2.0665,  ..., -1.3644, -1.3644, -1.3644],\n",
      "          [-2.0665, -2.0665, -2.0665,  ..., -1.3644, -1.3644, -1.3644],\n",
      "          [-2.0665, -2.0665, -2.0665,  ..., -1.3644, -1.3644, -1.3644],\n",
      "          ...,\n",
      "          [-1.0904, -1.1247, -1.5528,  ..., -1.8953, -1.8953, -1.9124],\n",
      "          [-1.1075, -1.1075, -1.5528,  ..., -1.9124, -1.8953, -1.8953],\n",
      "          [-1.0562, -1.0219, -1.6555,  ..., -1.9295, -1.9124, -1.8953]],\n",
      "\n",
      "         [[-1.9832, -1.9832, -1.9832,  ..., -1.2479, -1.2479, -1.2479],\n",
      "          [-1.9832, -1.9832, -1.9832,  ..., -1.2479, -1.2479, -1.2479],\n",
      "          [-1.9832, -1.9832, -1.9832,  ..., -1.2479, -1.2479, -1.2479],\n",
      "          ...,\n",
      "          [-1.0728, -1.0903, -1.5105,  ..., -1.8081, -1.8081, -1.8256],\n",
      "          [-1.0903, -1.0728, -1.5280,  ..., -1.8256, -1.8081, -1.8081],\n",
      "          [-1.0378, -0.9853, -1.6331,  ..., -1.8431, -1.8256, -1.8081]],\n",
      "\n",
      "         [[-1.7522, -1.7522, -1.7522,  ..., -0.9504, -0.9504, -0.9504],\n",
      "          [-1.7522, -1.7522, -1.7522,  ..., -0.9504, -0.9504, -0.9504],\n",
      "          [-1.7522, -1.7522, -1.7522,  ..., -0.9504, -0.9504, -0.9504],\n",
      "          ...,\n",
      "          [-1.3687, -1.3513, -1.5256,  ..., -1.5779, -1.5779, -1.5953],\n",
      "          [-1.3861, -1.3339, -1.5430,  ..., -1.5953, -1.5779, -1.5779],\n",
      "          [-1.3339, -1.2467, -1.6302,  ..., -1.6127, -1.5953, -1.5779]]],\n",
      "\n",
      "\n",
      "        ...,\n",
      "\n",
      "\n",
      "        [[[ 0.6734,  0.6221,  0.3481,  ...,  0.7419,  0.7419,  0.4851],\n",
      "          [ 0.3309,  0.5536,  0.5707,  ...,  0.6049,  0.9474,  0.8447],\n",
      "          [ 0.1426,  0.4337,  0.7077,  ...,  0.2282,  0.6392,  0.7762],\n",
      "          ...,\n",
      "          [-1.9638, -2.0152, -1.9467,  ...,  0.1597,  0.3481,  0.3652],\n",
      "          [-1.9980, -2.0494, -2.0323,  ...,  0.0741,  0.4337,  0.5022],\n",
      "          [-2.0152, -2.0323, -2.0665,  ..., -0.0116,  0.4851,  0.6734]],\n",
      "\n",
      "         [[ 1.4657,  1.3782,  1.0805,  ...,  1.5707,  1.5532,  1.2906],\n",
      "          [ 1.1681,  1.3431,  1.2731,  ...,  1.4307,  1.7458,  1.6408],\n",
      "          [ 1.0105,  1.2206,  1.3782,  ...,  1.0280,  1.4307,  1.5707],\n",
      "          ...,\n",
      "          [-1.5280, -1.5805, -1.5105,  ...,  0.9055,  1.1331,  1.1681],\n",
      "          [-1.5455, -1.6155, -1.5805,  ...,  0.8179,  1.2556,  1.3256],\n",
      "          [-1.5280, -1.5455, -1.5805,  ...,  0.7654,  1.2906,  1.4657]],\n",
      "\n",
      "         [[ 0.2871,  0.1999, -0.0790,  ...,  0.5136,  0.5485,  0.2871],\n",
      "          [-0.0267,  0.1651,  0.1128,  ...,  0.3568,  0.7925,  0.6879],\n",
      "          [-0.1661,  0.0431,  0.2348,  ..., -0.0267,  0.4788,  0.6182],\n",
      "          ...,\n",
      "          [-1.5081, -1.5604, -1.4907,  ..., -0.2010, -0.0267,  0.0256],\n",
      "          [-1.5430, -1.5953, -1.5779,  ..., -0.2707,  0.0431,  0.1651],\n",
      "          [-1.5779, -1.5953, -1.6476,  ..., -0.3927,  0.0779,  0.3045]]],\n",
      "\n",
      "\n",
      "        [[[ 0.1426,  0.1426,  0.0227,  ..., -1.4843, -1.0562, -0.8849],\n",
      "          [ 0.2111,  0.1597,  0.1083,  ..., -1.2617, -0.9534, -1.0390],\n",
      "          [ 0.0912,  0.1939,  0.1768,  ..., -1.0390, -1.0048, -1.0562],\n",
      "          ...,\n",
      "          [-1.7925, -1.4158, -1.1589,  ...,  1.1700,  1.0331,  1.1358],\n",
      "          [-1.6213, -1.1760, -1.1760,  ...,  1.0673,  0.9988,  1.2043],\n",
      "          [-1.4158, -1.1932, -1.2103,  ...,  1.1358,  1.1015,  0.9817]],\n",
      "\n",
      "         [[ 0.4503,  0.4153,  0.2227,  ..., -1.5280, -1.0728, -0.8627],\n",
      "          [ 0.4678,  0.3803,  0.2927,  ..., -1.2829, -0.9153, -0.9853],\n",
      "          [ 0.2927,  0.3627,  0.3277,  ..., -1.0203, -0.9503, -0.9678],\n",
      "          ...,\n",
      "          [-1.7031, -1.3354, -1.0728,  ...,  1.3431,  1.2031,  1.2906],\n",
      "          [-1.5105, -1.0728, -1.0728,  ...,  1.2381,  1.1681,  1.3606],\n",
      "          [-1.2654, -1.0553, -1.1078,  ...,  1.3081,  1.2556,  1.1331]],\n",
      "\n",
      "         [[ 0.9668,  0.8971,  0.6879,  ..., -1.1770, -0.7064, -0.4624],\n",
      "          [ 0.9842,  0.8622,  0.7402,  ..., -0.9156, -0.5321, -0.5321],\n",
      "          [ 0.7925,  0.8274,  0.7751,  ..., -0.6193, -0.4973, -0.4973],\n",
      "          ...,\n",
      "          [-1.3687, -0.8807, -0.5321,  ...,  1.4897,  1.3677,  1.5245],\n",
      "          [-1.1421, -0.6193, -0.5495,  ...,  1.3502,  1.3154,  1.5768],\n",
      "          [-0.8981, -0.5844, -0.5495,  ...,  1.4200,  1.4200,  1.3502]]],\n",
      "\n",
      "\n",
      "        [[[ 0.3652,  0.3994,  0.4337,  ...,  0.1939,  0.1939,  0.2111],\n",
      "          [ 0.5022,  0.4851,  0.4508,  ...,  0.2282,  0.2282,  0.2282],\n",
      "          [ 0.5193,  0.5193,  0.5022,  ...,  0.2453,  0.2453,  0.2453],\n",
      "          ...,\n",
      "          [ 0.0398,  0.0398,  0.0227,  ..., -0.5424, -0.5253, -0.5253],\n",
      "          [ 0.0227,  0.0569,  0.1083,  ..., -0.4739, -0.4739, -0.4568],\n",
      "          [ 0.2967,  0.3823,  0.5022,  ..., -0.4397, -0.4054, -0.4226]],\n",
      "\n",
      "         [[ 0.4853,  0.5203,  0.5553,  ...,  0.2402,  0.2402,  0.2577],\n",
      "          [ 0.6254,  0.6078,  0.5728,  ...,  0.2752,  0.2752,  0.2752],\n",
      "          [ 0.6429,  0.6429,  0.6254,  ...,  0.2927,  0.2927,  0.2927],\n",
      "          ...,\n",
      "          [-0.0399, -0.0399, -0.0574,  ..., -0.5476, -0.5301, -0.5301],\n",
      "          [-0.0574, -0.0399,  0.0126,  ..., -0.4776, -0.4776, -0.4601],\n",
      "          [ 0.1702,  0.2577,  0.3978,  ..., -0.4426, -0.4076, -0.4251]],\n",
      "\n",
      "         [[ 0.1651,  0.1999,  0.2348,  ..., -0.0615, -0.0615, -0.0441],\n",
      "          [ 0.3045,  0.2871,  0.2522,  ..., -0.0267, -0.0267, -0.0267],\n",
      "          [ 0.3219,  0.3219,  0.3045,  ..., -0.0092, -0.0092, -0.0092],\n",
      "          ...,\n",
      "          [-0.2010, -0.2010, -0.2184,  ..., -0.6367, -0.6367, -0.6193],\n",
      "          [-0.2184, -0.1835, -0.1312,  ..., -0.5844, -0.5844, -0.5670],\n",
      "          [ 0.0082,  0.1128,  0.2522,  ..., -0.5495, -0.5147, -0.5321]]]]), tensor([2, 2, 0, 3, 2, 1, 2, 2, 2, 1, 3, 1, 4, 2, 1, 4, 2, 0, 3, 2, 1, 2, 2, 2,\n",
      "        3, 2, 2, 3, 3, 4, 3, 1])]\n"
     ]
    }
   ],
   "source": [
    "for i in test_dataset_loader:\n",
    "    print(i)\n",
    "    break"
   ]
  },
  {
   "cell_type": "code",
   "execution_count": 41,
   "metadata": {},
   "outputs": [
    {
     "data": {
      "text/plain": [
       "tensor([2, 2, 0, 3, 2, 1, 2, 2, 2, 1, 3, 1, 4, 2, 1, 4, 2, 0, 3, 2, 1, 2, 2, 2,\n",
       "        3, 2, 2, 3, 3, 4, 3, 1])"
      ]
     },
     "execution_count": 41,
     "metadata": {},
     "output_type": "execute_result"
    }
   ],
   "source": [
    "i[1]"
   ]
  },
  {
   "cell_type": "code",
   "execution_count": 42,
   "metadata": {
    "id": "9FjxvC-lwv8O",
    "outputId": "94727938-ee19-4fe0-bd97-7cc41f985735"
   },
   "outputs": [
    {
     "name": "stderr",
     "output_type": "stream",
     "text": [
      "100%|██████████| 70/70 [00:10<00:00,  7.00it/s]\n"
     ]
    }
   ],
   "source": [
    "predictions = []\n",
    "true_labels = []\n",
    "\n",
    "for inputs, labels in tqdm(test_dataset_loader):\n",
    "    inputs = inputs.to(device)\n",
    "    labels = labels.to(device)\n",
    "\n",
    "\n",
    "    outputs = model(inputs)\n",
    "    loss = criterion(outputs, labels)\n",
    "    \n",
    "    _, preds = torch.max(outputs, 1)\n",
    "    \n",
    "    predictions.extend(preds.cpu().numpy().tolist())\n",
    "    true_labels.extend(labels.cpu().numpy().tolist())\n"
   ]
  },
  {
   "cell_type": "code",
   "execution_count": 43,
   "metadata": {
    "id": "A7r3oLhJwv8O",
    "outputId": "e466100e-e245-4ed6-f19a-a4cc5533e45e"
   },
   "outputs": [
    {
     "data": {
      "image/png": "[encoded data removed]",
      "text/plain": [
       "<Figure size 432x288 with 2 Axes>"
      ]
     },
     "metadata": {
      "needs_background": "light"
     },
     "output_type": "display_data"
    }
   ],
   "source": [
    "import seaborn as sns;\n",
    "\n",
    "confusion = metrics.confusion_matrix(true_labels, predictions)\n",
    "\n",
    "\n",
    "ticks = ['affected_individuals', 'infrastructure',\n",
    "         'not_humanitarian', 'other_relevant_information',\n",
    "         'rescue_volunteering']\n",
    "\n",
    "plt.title('Confusion Matrix')\n",
    "ax = sns.heatmap(confusion, annot=True, fmt=\"d\", cmap=\"YlGnBu\", square=True,\n",
    "                 xticklabels=ticks, yticklabels=ticks)"
   ]
  },
  {
   "cell_type": "code",
   "execution_count": 44,
   "metadata": {
    "id": "jyJDsf47wv8P",
    "outputId": "c1af733f-01c1-4ac1-bb93-bdef2d05409f"
   },
   "outputs": [
    {
     "name": "stdout",
     "output_type": "stream",
     "text": [
      "13608 2237 2237\n"
     ]
    }
   ],
   "source": [
    "print(len(train_dataset), len(dev_dataset), len(test_dataset))"
   ]
  },
  {
   "cell_type": "code",
   "execution_count": 45,
   "metadata": {
    "id": "Pv80_T-swv8P",
    "outputId": "81e6667c-848e-40a3-80bc-458be9db425a"
   },
   "outputs": [
    {
     "data": {
      "text/plain": [
       "0.5306213679034422"
      ]
     },
     "execution_count": 45,
     "metadata": {},
     "output_type": "execute_result"
    }
   ],
   "source": [
    "metrics.accuracy_score(true_labels, predictions)"
   ]
  },
  {
   "cell_type": "code",
   "execution_count": 46,
   "metadata": {
    "id": "ZgiJ59Sqwv8P",
    "outputId": "9fa70359-7f0e-4b3b-d410-48743c41a4ac"
   },
   "outputs": [
    {
     "data": {
      "text/plain": [
       "0.42558508387491745"
      ]
     },
     "execution_count": 46,
     "metadata": {},
     "output_type": "execute_result"
    }
   ],
   "source": [
    "metrics.f1_score(true_labels, predictions, average='macro')"
   ]
  },
  {
   "cell_type": "code",
   "execution_count": 47,
   "metadata": {
    "id": "7GJZfpfMwv8Q",
    "outputId": "251bd2f1-d011-4dff-9bfd-73519655d252"
   },
   "outputs": [
    {
     "data": {
      "text/plain": [
       "0.4911994786991804"
      ]
     },
     "execution_count": 47,
     "metadata": {},
     "output_type": "execute_result"
    }
   ],
   "source": [
    "metrics.precision_score(true_labels, predictions, average='macro')"
   ]
  },
  {
   "cell_type": "code",
   "execution_count": 48,
   "metadata": {
    "id": "2wOl95oawv8Q",
    "outputId": "d2919c99-a590-4dd1-c089-568eda06d598"
   },
   "outputs": [
    {
     "data": {
      "text/plain": [
       "0.4219807113909524"
      ]
     },
     "execution_count": 48,
     "metadata": {},
     "output_type": "execute_result"
    }
   ],
   "source": [
    "metrics.recall_score(true_labels, predictions, average='macro')"
   ]
  },
  {
   "cell_type": "markdown",
   "metadata": {
    "id": "cJ8bIGZQwv8Q"
   },
   "source": [
    "## Extract Last Layer Feature"
   ]
  },
  {
   "cell_type": "code",
   "execution_count": 49,
   "metadata": {
    "scrolled": false
   },
   "outputs": [
    {
     "data": {
      "text/plain": [
       "ResNet(\n",
       "  (conv1): Conv2d(3, 64, kernel_size=(7, 7), stride=(2, 2), padding=(3, 3), bias=False)\n",
       "  (bn1): BatchNorm2d(64, eps=1e-05, momentum=0.1, affine=True, track_running_stats=True)\n",
       "  (relu): ReLU(inplace=True)\n",
       "  (maxpool): MaxPool2d(kernel_size=3, stride=2, padding=1, dilation=1, ceil_mode=False)\n",
       "  (layer1): Sequential(\n",
       "    (0): BasicBlock(\n",
       "      (conv1): Conv2d(64, 64, kernel_size=(3, 3), stride=(1, 1), padding=(1, 1), bias=False)\n",
       "      (bn1): BatchNorm2d(64, eps=1e-05, momentum=0.1, affine=True, track_running_stats=True)\n",
       "      (relu): ReLU(inplace=True)\n",
       "      (conv2): Conv2d(64, 64, kernel_size=(3, 3), stride=(1, 1), padding=(1, 1), bias=False)\n",
       "      (bn2): BatchNorm2d(64, eps=1e-05, momentum=0.1, affine=True, track_running_stats=True)\n",
       "    )\n",
       "    (1): BasicBlock(\n",
       "      (conv1): Conv2d(64, 64, kernel_size=(3, 3), stride=(1, 1), padding=(1, 1), bias=False)\n",
       "      (bn1): BatchNorm2d(64, eps=1e-05, momentum=0.1, affine=True, track_running_stats=True)\n",
       "      (relu): ReLU(inplace=True)\n",
       "      (conv2): Conv2d(64, 64, kernel_size=(3, 3), stride=(1, 1), padding=(1, 1), bias=False)\n",
       "      (bn2): BatchNorm2d(64, eps=1e-05, momentum=0.1, affine=True, track_running_stats=True)\n",
       "    )\n",
       "  )\n",
       "  (layer2): Sequential(\n",
       "    (0): BasicBlock(\n",
       "      (conv1): Conv2d(64, 128, kernel_size=(3, 3), stride=(2, 2), padding=(1, 1), bias=False)\n",
       "      (bn1): BatchNorm2d(128, eps=1e-05, momentum=0.1, affine=True, track_running_stats=True)\n",
       "      (relu): ReLU(inplace=True)\n",
       "      (conv2): Conv2d(128, 128, kernel_size=(3, 3), stride=(1, 1), padding=(1, 1), bias=False)\n",
       "      (bn2): BatchNorm2d(128, eps=1e-05, momentum=0.1, affine=True, track_running_stats=True)\n",
       "      (downsample): Sequential(\n",
       "        (0): Conv2d(64, 128, kernel_size=(1, 1), stride=(2, 2), bias=False)\n",
       "        (1): BatchNorm2d(128, eps=1e-05, momentum=0.1, affine=True, track_running_stats=True)\n",
       "      )\n",
       "    )\n",
       "    (1): BasicBlock(\n",
       "      (conv1): Conv2d(128, 128, kernel_size=(3, 3), stride=(1, 1), padding=(1, 1), bias=False)\n",
       "      (bn1): BatchNorm2d(128, eps=1e-05, momentum=0.1, affine=True, track_running_stats=True)\n",
       "      (relu): ReLU(inplace=True)\n",
       "      (conv2): Conv2d(128, 128, kernel_size=(3, 3), stride=(1, 1), padding=(1, 1), bias=False)\n",
       "      (bn2): BatchNorm2d(128, eps=1e-05, momentum=0.1, affine=True, track_running_stats=True)\n",
       "    )\n",
       "  )\n",
       "  (layer3): Sequential(\n",
       "    (0): BasicBlock(\n",
       "      (conv1): Conv2d(128, 256, kernel_size=(3, 3), stride=(2, 2), padding=(1, 1), bias=False)\n",
       "      (bn1): BatchNorm2d(256, eps=1e-05, momentum=0.1, affine=True, track_running_stats=True)\n",
       "      (relu): ReLU(inplace=True)\n",
       "      (conv2): Conv2d(256, 256, kernel_size=(3, 3), stride=(1, 1), padding=(1, 1), bias=False)\n",
       "      (bn2): BatchNorm2d(256, eps=1e-05, momentum=0.1, affine=True, track_running_stats=True)\n",
       "      (downsample): Sequential(\n",
       "        (0): Conv2d(128, 256, kernel_size=(1, 1), stride=(2, 2), bias=False)\n",
       "        (1): BatchNorm2d(256, eps=1e-05, momentum=0.1, affine=True, track_running_stats=True)\n",
       "      )\n",
       "    )\n",
       "    (1): BasicBlock(\n",
       "      (conv1): Conv2d(256, 256, kernel_size=(3, 3), stride=(1, 1), padding=(1, 1), bias=False)\n",
       "      (bn1): BatchNorm2d(256, eps=1e-05, momentum=0.1, affine=True, track_running_stats=True)\n",
       "      (relu): ReLU(inplace=True)\n",
       "      (conv2): Conv2d(256, 256, kernel_size=(3, 3), stride=(1, 1), padding=(1, 1), bias=False)\n",
       "      (bn2): BatchNorm2d(256, eps=1e-05, momentum=0.1, affine=True, track_running_stats=True)\n",
       "    )\n",
       "  )\n",
       "  (layer4): Sequential(\n",
       "    (0): BasicBlock(\n",
       "      (conv1): Conv2d(256, 512, kernel_size=(3, 3), stride=(2, 2), padding=(1, 1), bias=False)\n",
       "      (bn1): BatchNorm2d(512, eps=1e-05, momentum=0.1, affine=True, track_running_stats=True)\n",
       "      (relu): ReLU(inplace=True)\n",
       "      (conv2): Conv2d(512, 512, kernel_size=(3, 3), stride=(1, 1), padding=(1, 1), bias=False)\n",
       "      (bn2): BatchNorm2d(512, eps=1e-05, momentum=0.1, affine=True, track_running_stats=True)\n",
       "      (downsample): Sequential(\n",
       "        (0): Conv2d(256, 512, kernel_size=(1, 1), stride=(2, 2), bias=False)\n",
       "        (1): BatchNorm2d(512, eps=1e-05, momentum=0.1, affine=True, track_running_stats=True)\n",
       "      )\n",
       "    )\n",
       "    (1): BasicBlock(\n",
       "      (conv1): Conv2d(512, 512, kernel_size=(3, 3), stride=(1, 1), padding=(1, 1), bias=False)\n",
       "      (bn1): BatchNorm2d(512, eps=1e-05, momentum=0.1, affine=True, track_running_stats=True)\n",
       "      (relu): ReLU(inplace=True)\n",
       "      (conv2): Conv2d(512, 512, kernel_size=(3, 3), stride=(1, 1), padding=(1, 1), bias=False)\n",
       "      (bn2): BatchNorm2d(512, eps=1e-05, momentum=0.1, affine=True, track_running_stats=True)\n",
       "    )\n",
       "  )\n",
       "  (avgpool): AdaptiveAvgPool2d(output_size=(1, 1))\n",
       "  (fc): Linear(in_features=512, out_features=5, bias=True)\n",
       ")"
      ]
     },
     "execution_count": 49,
     "metadata": {},
     "output_type": "execute_result"
    }
   ],
   "source": [
    "model"
   ]
  },
  {
   "cell_type": "code",
   "execution_count": 56,
   "metadata": {},
   "outputs": [
    {
     "data": {
      "text/plain": [
       "Linear(in_features=512, out_features=5, bias=True)"
      ]
     },
     "execution_count": 56,
     "metadata": {},
     "output_type": "execute_result"
    }
   ],
   "source": [
    "model.fc"
   ]
  },
  {
   "cell_type": "code",
   "execution_count": 50,
   "metadata": {
    "id": "Ong4Kmd_wv8Z"
   },
   "outputs": [],
   "source": [
    "class ImageDatasetExtract(Dataset):\n",
    "\n",
    "    def __init__(self, tsv_file, root_dir):\n",
    "        \"\"\"\n",
    "        Args:\n",
    "            tsv_file (string): Path to the train/test/dev split tsv file\n",
    "            root_dir (string): Directory with all the images.\n",
    "        \"\"\"\n",
    "        self.file_df = pd.read_csv(tsv_file, sep='\\t')\n",
    "        self.root_dir = root_dir\n",
    "        self.normalize = transforms.Normalize(mean=[0.485, 0.456, 0.406], std=[0.229, 0.224, 0.225])\n",
    "        self.resize = transforms.Resize(256)\n",
    "        self.center = transforms.CenterCrop(224)\n",
    "        self.to_tensor = transforms.ToTensor()\n",
    "\n",
    "    def __len__(self):\n",
    "        return len(self.file_df)\n",
    "\n",
    "    def __getitem__(self, idx):\n",
    "        if torch.is_tensor(idx):\n",
    "            idx = idx.tolist()\n",
    "\n",
    "        img_name = os.path.join(self.root_dir,\n",
    "                                self.file_df.iloc[idx, 4])\n",
    "        image = Image.open(img_name).convert('RGB')\n",
    "        \n",
    "        image = self.resize(image)\n",
    "        image = self.center(image)\n",
    "        \n",
    "        image = self.to_tensor(image)\n",
    "        image = self.normalize(image)\n",
    "        \n",
    "        # Get the label\n",
    "        label = label_map[self.file_df.iloc[idx, 5]]\n",
    "        \n",
    "        tid = self.file_df.iloc[idx, 1]\n",
    "        \n",
    "        return image, label, tid"
   ]
  },
  {
   "cell_type": "code",
   "execution_count": 58,
   "metadata": {},
   "outputs": [],
   "source": [
    "files = ['../sverma324/data/crisis-mmd/task_humanitarian_text_img_train.tsv','../sverma324/data/crisis-mmd/task_humanitarian_text_img_dev.tsv','../sverma324/data/crisis-mmd/task_humanitarian_text_img_test.tsv']\n",
    "\n",
    "for file in files:\n",
    "    df = pd.read_csv(file,sep='\\t')\n",
    "    df = df.loc[df.label_text_image==\"Positive\"]\n",
    "    df.to_csv(file[:-4]+\"_sub\"+\".tsv\",sep='\\t',index=False)\n"
   ]
  },
  {
   "cell_type": "code",
   "execution_count": 51,
   "metadata": {
    "scrolled": true
   },
   "outputs": [
    {
     "name": "stdout",
     "output_type": "stream",
     "text": [
      "\u001b[0m\u001b[01;34mdata_image\u001b[0m/\r\n",
      "Readme.txt\r\n",
      "task_damage_text_img_dev.tsv\r\n",
      "task_damage_text_img_test.tsv\r\n",
      "task_damage_text_img_train.tsv\r\n",
      "task_humanitarian_text_img_dev.pkl\r\n",
      "task_humanitarian_text_img_dev_sub.tsv\r\n",
      "task_humanitarian_text_img_dev.tsv\r\n",
      "task_humanitarian_text_img_test.pkl\r\n",
      "task_humanitarian_text_img_test_sub.tsv\r\n",
      "task_humanitarian_text_img_test.tsv\r\n",
      "task_humanitarian_text_img_train.pkl\r\n",
      "task_humanitarian_text_img_train_sub.tsv\r\n",
      "task_humanitarian_text_img_train.tsv\r\n",
      "task_informative_text_img_dev.tsv\r\n",
      "task_informative_text_img_test.tsv\r\n",
      "task_informative_text_img_train.tsv\r\n"
     ]
    }
   ],
   "source": [
    "ls ../sverma324/data/crisis-mmd/"
   ]
  },
  {
   "cell_type": "code",
   "execution_count": 52,
   "metadata": {
    "id": "xZkJqaCJwv8a"
   },
   "outputs": [],
   "source": [
    "num_classes = 5\n",
    "device = torch.device(\"cuda:0\" if torch.cuda.is_available() else \"cpu\")\n",
    "\n",
    "train_dataset = ImageDatasetExtract('../sverma324/data/crisis-mmd/task_humanitarian_text_img_train_sub.tsv',\n",
    "                             '../sverma324/data/crisis-mmd')\n",
    "dev_dataset = ImageDatasetExtract('../sverma324/data/crisis-mmd/task_humanitarian_text_img_dev_sub.tsv',\n",
    "                             '../sverma324/data/crisis-mmd')\n",
    "test_dataset = ImageDatasetExtract('../sverma324/data/crisis-mmd/task_humanitarian_text_img_test_sub.tsv',\n",
    "                             '../sverma324/data/crisis-mmd')"
   ]
  },
  {
   "cell_type": "code",
   "execution_count": 53,
   "metadata": {
    "id": "cc68xRO6wv8a"
   },
   "outputs": [],
   "source": [
    "batch_size = 32\n",
    "\n",
    "train_dataset_loader = torch.utils.data.DataLoader(train_dataset,\n",
    "                                                  batch_size=batch_size,\n",
    "                                                  shuffle=True,\n",
    "                                                  num_workers=4)\n",
    "\n",
    "dev_dataset_loader = torch.utils.data.DataLoader(dev_dataset,\n",
    "                                                  batch_size=batch_size,\n",
    "                                                  shuffle=True,\n",
    "                                                  num_workers=4)\n",
    "\n",
    "test_dataset_loader = torch.utils.data.DataLoader(test_dataset,\n",
    "                                                  batch_size=batch_size,\n",
    "                                                  shuffle=True,\n",
    "                                                  num_workers=4)"
   ]
  },
  {
   "cell_type": "code",
   "execution_count": 54,
   "metadata": {},
   "outputs": [
    {
     "name": "stdout",
     "output_type": "stream",
     "text": [
      "\u001b[0m\u001b[01;34mdata\u001b[0m/                              pace-jupyter-notebook.pbs.e556707\r\n",
      "image-classification-Copy1.ipynb   pace-jupyter-notebook.pbs.e556711\r\n",
      "\u001b[01;32mimage-classification.ipynb\u001b[0m*        pace-jupyter-notebook.pbs.e556716\r\n",
      "\u001b[34;42mimage_model_ouputs\u001b[0m/                pace-jupyter-notebook.pbs.o551672\r\n",
      "\u001b[01;34mlogs\u001b[0m/                              pace-jupyter-notebook.pbs.o551708\r\n",
      "Multimodal_final-Hindi.ipynb       pace-jupyter-notebook.pbs.o551709\r\n",
      "Multimodal_final.ipynb             pace-jupyter-notebook.pbs.o551774\r\n",
      "Multimodal.ipynb                   pace-jupyter-notebook.pbs.o551831\r\n",
      "\u001b[01;32mpace-jupyter-notebook.pbs\u001b[0m*         pace-jupyter-notebook.pbs.o556564\r\n",
      "pace-jupyter-notebook.pbs.e551672  pace-jupyter-notebook.pbs.o556572\r\n",
      "pace-jupyter-notebook.pbs.e551708  pace-jupyter-notebook.pbs.o556583\r\n",
      "pace-jupyter-notebook.pbs.e551709  pace-jupyter-notebook.pbs.o556598\r\n",
      "pace-jupyter-notebook.pbs.e551774  pace-jupyter-notebook.pbs.o556607\r\n",
      "pace-jupyter-notebook.pbs.e551831  pace-jupyter-notebook.pbs.o556657\r\n",
      "pace-jupyter-notebook.pbs.e556564  pace-jupyter-notebook.pbs.o556658\r\n",
      "pace-jupyter-notebook.pbs.e556572  pace-jupyter-notebook.pbs.o556662\r\n",
      "pace-jupyter-notebook.pbs.e556583  pace-jupyter-notebook.pbs.o556664\r\n",
      "pace-jupyter-notebook.pbs.e556598  pace-jupyter-notebook.pbs.o556666\r\n",
      "pace-jupyter-notebook.pbs.e556607  pace-jupyter-notebook.pbs.o556669\r\n",
      "pace-jupyter-notebook.pbs.e556657  pace-jupyter-notebook.pbs.o556670\r\n",
      "pace-jupyter-notebook.pbs.e556658  pace-jupyter-notebook.pbs.o556671\r\n",
      "pace-jupyter-notebook.pbs.e556662  pace-jupyter-notebook.pbs.o556672\r\n",
      "pace-jupyter-notebook.pbs.e556664  pace-jupyter-notebook.pbs.o556673\r\n",
      "pace-jupyter-notebook.pbs.e556666  pace-jupyter-notebook.pbs.o556674\r\n",
      "pace-jupyter-notebook.pbs.e556669  pace-jupyter-notebook.pbs.o556679\r\n",
      "pace-jupyter-notebook.pbs.e556670  pace-jupyter-notebook.pbs.o556681\r\n",
      "pace-jupyter-notebook.pbs.e556671  pace-jupyter-notebook.pbs.o556695\r\n",
      "pace-jupyter-notebook.pbs.e556672  pace-jupyter-notebook.pbs.o556707\r\n",
      "pace-jupyter-notebook.pbs.e556673  pace-jupyter-notebook.pbs.o556711\r\n",
      "pace-jupyter-notebook.pbs.e556674  pace-jupyter-notebook.pbs.o556716\r\n",
      "pace-jupyter-notebook.pbs.e556679  \u001b[01;34mresults_\u001b[0m/\r\n",
      "pace-jupyter-notebook.pbs.e556681  \u001b[34;42mwstm\u001b[0m/\r\n",
      "pace-jupyter-notebook.pbs.e556695\r\n"
     ]
    }
   ],
   "source": [
    "ls"
   ]
  },
  {
   "cell_type": "code",
   "execution_count": 55,
   "metadata": {},
   "outputs": [],
   "source": [
    "layer = model._modules.get('avgpool')"
   ]
  },
  {
   "cell_type": "code",
   "execution_count": 65,
   "metadata": {},
   "outputs": [],
   "source": [
    "output_512 = []\n",
    "output_512_tid = []"
   ]
  },
  {
   "cell_type": "code",
   "execution_count": 66,
   "metadata": {},
   "outputs": [
    {
     "data": {
      "text/plain": [
       "<torch.utils.hooks.RemovableHandle at 0x2aab9bd03e20>"
      ]
     },
     "execution_count": 66,
     "metadata": {},
     "output_type": "execute_result"
    }
   ],
   "source": [
    "def get_output(self, input, output):\n",
    "    cur_output = output.data.detach().cpu().numpy()\n",
    "    for i in range(cur_output.shape[0]):\n",
    "        output_512.append(cur_output[i, :])\n",
    "\n",
    "\n",
    "layer.register_forward_hook(get_output)"
   ]
  },
  {
   "cell_type": "code",
   "execution_count": 67,
   "metadata": {},
   "outputs": [
    {
     "data": {
      "text/plain": [
       "True"
      ]
     },
     "execution_count": 67,
     "metadata": {},
     "output_type": "execute_result"
    }
   ],
   "source": [
    "model.training"
   ]
  },
  {
   "cell_type": "code",
   "execution_count": 68,
   "metadata": {},
   "outputs": [
    {
     "name": "stderr",
     "output_type": "stream",
     "text": [
      "100%|██████████| 30/30 [00:04<00:00,  6.28it/s]\n"
     ]
    }
   ],
   "source": [
    "# for inputs, labels, tids in tqdm(test_dataset_loader): dev_dataset_loader\n",
    "for inputs, labels, tids in tqdm(test_dataset_loader):\n",
    "\n",
    "    inputs = inputs.to(device)\n",
    "    labels = labels.to(device)\n",
    "    output_512_tid.extend(tids.detach().cpu().numpy().tolist())\n",
    "\n",
    "    outputs = model(inputs)"
   ]
  },
  {
   "cell_type": "code",
   "execution_count": 69,
   "metadata": {},
   "outputs": [
    {
     "data": {
      "text/plain": [
       "(955, 5730)"
      ]
     },
     "execution_count": 69,
     "metadata": {},
     "output_type": "execute_result"
    }
   ],
   "source": [
    "len(output_512_tid),len(output_512)"
   ]
  },
  {
   "cell_type": "code",
   "execution_count": 64,
   "metadata": {},
   "outputs": [
    {
     "name": "stdout",
     "output_type": "stream",
     "text": [
      "image-classification-Copy1.ipynb   pace-jupyter-notebook.pbs.e556572\r\n",
      "\u001b[0m\u001b[01;32mimage-classification.ipynb\u001b[0m*        pace-jupyter-notebook.pbs.o551672\r\n",
      "\u001b[34;42mimage_model_ouputs\u001b[0m/                pace-jupyter-notebook.pbs.o551708\r\n",
      "\u001b[01;32mpace-jupyter-notebook.pbs\u001b[0m*         pace-jupyter-notebook.pbs.o551709\r\n",
      "pace-jupyter-notebook.pbs.e551672  pace-jupyter-notebook.pbs.o551774\r\n",
      "pace-jupyter-notebook.pbs.e551708  pace-jupyter-notebook.pbs.o551831\r\n",
      "pace-jupyter-notebook.pbs.e551709  pace-jupyter-notebook.pbs.o556564\r\n",
      "pace-jupyter-notebook.pbs.e551774  pace-jupyter-notebook.pbs.o556572\r\n",
      "pace-jupyter-notebook.pbs.e551831  \u001b[34;42mwstm\u001b[0m/\r\n",
      "pace-jupyter-notebook.pbs.e556564\r\n"
     ]
    }
   ],
   "source": [
    "ls"
   ]
  },
  {
   "cell_type": "code",
   "execution_count": 45,
   "metadata": {},
   "outputs": [
    {
     "data": {
      "text/plain": [
       "18378"
      ]
     },
     "execution_count": 45,
     "metadata": {},
     "output_type": "execute_result"
    }
   ],
   "source": [
    "len(output_512)"
   ]
  },
  {
   "cell_type": "code",
   "execution_count": 37,
   "metadata": {
    "id": "R1p-JNImwv8c"
   },
   "outputs": [],
   "source": [
    "np.savez_compressed('image_model_ouputs/resnet18_image_embedding_512_train.npz',\n",
    "                    image_embedding=output_512,\n",
    "                    image_tweetID=output_512_tid)"
   ]
  },
  {
   "cell_type": "code",
   "execution_count": 100,
   "metadata": {},
   "outputs": [
    {
     "data": {
      "text/plain": [
       "array([[2.187953]], dtype=float32)"
      ]
     },
     "execution_count": 100,
     "metadata": {},
     "output_type": "execute_result"
    }
   ],
   "source": [
    "output_512[0]"
   ]
  },
  {
   "cell_type": "code",
   "execution_count": null,
   "metadata": {
    "id": "j_l8v7DVwv8d",
    "outputId": "14008a3a-82d7-4b7d-abbb-b6e6efb45c04"
   },
   "outputs": [
    {
     "name": "stdout",
     "output_type": "stream",
     "text": [
      "2237 2237\n"
     ]
    }
   ],
   "source": [
    "print(len(output_256_tid), len(output_256))"
   ]
  },
  {
   "cell_type": "code",
   "execution_count": null,
   "metadata": {
    "id": "xAbdDTowwv8d"
   },
   "outputs": [],
   "source": [
    "np.savez_compressed('./data/image_embedding_256_dev.npz',\n",
    "                    image_embedding=output_256,\n",
    "                    image_tweetID=output_256_tid)"
   ]
  },
  {
   "cell_type": "code",
   "execution_count": null,
   "metadata": {
    "id": "V4fw8AB6wv8e",
    "outputId": "c0387e05-9ff5-4bf6-e14e-b722b6abedb9"
   },
   "outputs": [
    {
     "name": "stdout",
     "output_type": "stream",
     "text": [
      "13608 13608\n"
     ]
    }
   ],
   "source": [
    "print(len(output_256_tid), len(output_256))"
   ]
  },
  {
   "cell_type": "code",
   "execution_count": null,
   "metadata": {
    "id": "_5JnkyVRwv8e"
   },
   "outputs": [],
   "source": [
    "np.savez_compressed('./data/image_embedding_256_train.npz',\n",
    "                    image_embedding=output_256,\n",
    "                    image_tweetID=output_256_tid)"
   ]
  },
  {
   "cell_type": "code",
   "execution_count": null,
   "metadata": {
    "id": "rPaDmsNswv8e"
   },
   "outputs": [],
   "source": [
    "tt = np.load('./data/image_embedding_256_test.npz')"
   ]
  },
  {
   "cell_type": "code",
   "execution_count": null,
   "metadata": {
    "id": "GFkVeVD0wv8f",
    "outputId": "6c43d95f-f961-4bd8-ee35-0b30e07e2c64"
   },
   "outputs": [
    {
     "data": {
      "text/plain": [
       "(2237, 256)"
      ]
     },
     "execution_count": 414,
     "metadata": {},
     "output_type": "execute_result"
    }
   ],
   "source": [
    "tt['image_embedding'].shape"
   ]
  },
  {
   "cell_type": "code",
   "execution_count": null,
   "metadata": {
    "id": "2DPtgFyTwv8f",
    "outputId": "8f0f8bb4-c6ed-4c50-8eb2-1566d9e08488"
   },
   "outputs": [
    {
     "data": {
      "text/plain": [
       "(2237,)"
      ]
     },
     "execution_count": 415,
     "metadata": {},
     "output_type": "execute_result"
    }
   ],
   "source": [
    "tt['image_tweetID'].shape"
   ]
  },
  {
   "cell_type": "markdown",
   "metadata": {
    "id": "ebKMK_8jwv8f"
   },
   "source": [
    "## Extract Classification Probabilities"
   ]
  },
  {
   "cell_type": "code",
   "execution_count": null,
   "metadata": {
    "id": "qPwDt5iEwv8g"
   },
   "outputs": [],
   "source": [
    "model = models.vgg16(pretrained=True)\n",
    "\n",
    "# Freeze model weights\n",
    "for param in model.parameters():\n",
    "    param.requires_grad = False\n",
    "    \n",
    "# Add on classifier\n",
    "model.classifier[6] = nn.Sequential(\n",
    "                      nn.Linear(4096, 256), \n",
    "                      nn.ReLU(), \n",
    "                      nn.Dropout(0.4),\n",
    "                      nn.Linear(256, num_classes))\n",
    "\n",
    "model.load_state_dict(torch.load('./output/best_weights.pk'))\n",
    "model = model.to(device)"
   ]
  },
  {
   "cell_type": "code",
   "execution_count": null,
   "metadata": {
    "id": "O_UE0FJuwv8g"
   },
   "outputs": [],
   "source": [
    "class ImageDatasetExtract(Dataset):\n",
    "\n",
    "    def __init__(self, tsv_file, root_dir):\n",
    "        \"\"\"\n",
    "        Args:\n",
    "            tsv_file (string): Path to the train/test/dev split tsv file\n",
    "            root_dir (string): Directory with all the images.\n",
    "        \"\"\"\n",
    "        self.file_df = pd.read_csv(tsv_file, sep='\\t')\n",
    "        self.root_dir = root_dir\n",
    "        self.normalize = transforms.Normalize(mean=[0.485, 0.456, 0.406], std=[0.229, 0.224, 0.225])\n",
    "        self.resize = transforms.Resize(256)\n",
    "        self.center = transforms.CenterCrop(224)\n",
    "        self.to_tensor = transforms.ToTensor()\n",
    "\n",
    "    def __len__(self):\n",
    "        return len(self.file_df)\n",
    "\n",
    "    def __getitem__(self, idx):\n",
    "        if torch.is_tensor(idx):\n",
    "            idx = idx.tolist()\n",
    "\n",
    "        img_name = os.path.join(self.root_dir,\n",
    "                                self.file_df.iloc[idx, 4])\n",
    "        image = Image.open(img_name).convert('RGB')\n",
    "        \n",
    "        image = self.resize(image)\n",
    "        image = self.center(image)\n",
    "        \n",
    "        image = self.to_tensor(image)\n",
    "        image = self.normalize(image)\n",
    "        \n",
    "        # Get the label\n",
    "        label = label_map[self.file_df.iloc[idx, 5]]\n",
    "        \n",
    "        tid = self.file_df.iloc[idx, 1]\n",
    "        \n",
    "        return image, label, tid"
   ]
  },
  {
   "cell_type": "code",
   "execution_count": null,
   "metadata": {
    "id": "8mKgYsXvwv8h"
   },
   "outputs": [],
   "source": [
    "num_classes = 5\n",
    "device = torch.device(\"cuda:0\" if torch.cuda.is_available() else \"cpu\")\n",
    "\n",
    "train_dataset = ImageDatasetExtract('./data/crisis-mmd/task_humanitarian_text_img_train.tsv',\n",
    "                             './data/crisis-mmd')\n",
    "dev_dataset = ImageDatasetExtract('./data/crisis-mmd/task_humanitarian_text_img_dev.tsv',\n",
    "                             './data/crisis-mmd')\n",
    "test_dataset = ImageDatasetExtract('./data/crisis-mmd/task_humanitarian_text_img_test.tsv',\n",
    "                             './data/crisis-mmd')"
   ]
  },
  {
   "cell_type": "code",
   "execution_count": null,
   "metadata": {
    "id": "j0ZYbxJdwv8h"
   },
   "outputs": [],
   "source": [
    "batch_size = 32\n",
    "\n",
    "train_dataset_loader = torch.utils.data.DataLoader(train_dataset,\n",
    "                                                  batch_size=batch_size,\n",
    "                                                  shuffle=True,\n",
    "                                                  num_workers=4)\n",
    "\n",
    "dev_dataset_loader = torch.utils.data.DataLoader(dev_dataset,\n",
    "                                                  batch_size=batch_size,\n",
    "                                                  shuffle=True,\n",
    "                                                  num_workers=4)\n",
    "\n",
    "test_dataset_loader = torch.utils.data.DataLoader(test_dataset,\n",
    "                                                  batch_size=batch_size,\n",
    "                                                  shuffle=True,\n",
    "                                                  num_workers=4)"
   ]
  },
  {
   "cell_type": "code",
   "execution_count": null,
   "metadata": {
    "id": "L0OzgQ_fwv8h",
    "outputId": "1959f820-0fe5-4c3a-d55b-af7588add947"
   },
   "outputs": [
    {
     "name": "stderr",
     "output_type": "stream",
     "text": [
      "100%|██████████| 70/70 [00:08<00:00,  8.27it/s]\n"
     ]
    }
   ],
   "source": [
    "# Test set\n",
    "\n",
    "test_probs = []\n",
    "test_probs_tids = []\n",
    "\n",
    "for inputs, labels, tids in tqdm(test_dataset_loader):\n",
    "    inputs = inputs.to(device)\n",
    "    labels = labels.to(device)\n",
    "\n",
    "    outputs = model(inputs)\n",
    "    softmax_outputs = nn.functional.softmax(outputs, dim=1).detach().cpu().numpy()\n",
    "    test_probs.append(softmax_outputs)\n",
    "    \n",
    "    test_probs_tids.extend(tids.detach().cpu().numpy().tolist())\n",
    "\n",
    "test_probs = np.vstack(test_probs)"
   ]
  },
  {
   "cell_type": "code",
   "execution_count": null,
   "metadata": {
    "id": "MxTZyoyLwv8i"
   },
   "outputs": [],
   "source": [
    "np.savez_compressed('./data/image_predict_probs_test.npz',\n",
    "                    predict_probs=test_probs,\n",
    "                    image_tweetID=test_probs_tids)"
   ]
  },
  {
   "cell_type": "code",
   "execution_count": null,
   "metadata": {
    "id": "opi-ZS1dwv8i",
    "outputId": "c7ef33a4-07b3-480b-827a-d68e2b3e3990"
   },
   "outputs": [
    {
     "name": "stderr",
     "output_type": "stream",
     "text": [
      " 83%|████████▎ | 354/426 [00:42<00:09,  7.31it/s]/nethome/zwang3049/jay/miniconda3/envs/nlp/lib/python3.7/site-packages/PIL/Image.py:961: UserWarning: Palette images with Transparency expressed in bytes should be converted to RGBA images\n",
      "  \"Palette images with Transparency expressed in bytes should be \"\n",
      "100%|██████████| 426/426 [00:51<00:00,  8.33it/s]\n"
     ]
    }
   ],
   "source": [
    "# Training set\n",
    "\n",
    "test_probs = []\n",
    "test_probs_tids = []\n",
    "\n",
    "for inputs, labels, tids in tqdm(train_dataset_loader):\n",
    "    inputs = inputs.to(device)\n",
    "    labels = labels.to(device)\n",
    "\n",
    "    outputs = model(inputs)\n",
    "    softmax_outputs = nn.functional.softmax(outputs, dim=1).detach().cpu().numpy()\n",
    "    test_probs.append(softmax_outputs)\n",
    "    \n",
    "    test_probs_tids.extend(tids.detach().cpu().numpy().tolist())\n",
    "\n",
    "test_probs = np.vstack(test_probs)\n",
    "\n",
    "np.savez_compressed('./data/image_predict_probs_train.npz',\n",
    "                    predict_probs=test_probs,\n",
    "                    image_tweetID=test_probs_tids)"
   ]
  },
  {
   "cell_type": "code",
   "execution_count": null,
   "metadata": {
    "id": "WDNC1syrwv8j",
    "outputId": "56cf8f12-bf55-4cfa-8dc7-6ab6e877257d"
   },
   "outputs": [
    {
     "name": "stderr",
     "output_type": "stream",
     "text": [
      " 13%|█▎        | 9/70 [00:01<00:16,  3.63it/s]/nethome/zwang3049/jay/miniconda3/envs/nlp/lib/python3.7/site-packages/PIL/Image.py:961: UserWarning: Palette images with Transparency expressed in bytes should be converted to RGBA images\n",
      "  \"Palette images with Transparency expressed in bytes should be \"\n",
      "100%|██████████| 70/70 [00:08<00:00,  8.37it/s]\n"
     ]
    }
   ],
   "source": [
    "# Developing set\n",
    "\n",
    "test_probs = []\n",
    "test_probs_tids = []\n",
    "\n",
    "for inputs, labels, tids in tqdm(dev_dataset_loader):\n",
    "    inputs = inputs.to(device)\n",
    "    labels = labels.to(device)\n",
    "\n",
    "    outputs = model(inputs)\n",
    "    softmax_outputs = nn.functional.softmax(outputs, dim=1).detach().cpu().numpy()\n",
    "    test_probs.append(softmax_outputs)\n",
    "    \n",
    "    test_probs_tids.extend(tids.detach().cpu().numpy().tolist())\n",
    "\n",
    "test_probs = np.vstack(test_probs)\n",
    "\n",
    "np.savez_compressed('./data/image_predict_probs_dev.npz',\n",
    "                    predict_probs=test_probs,\n",
    "                    image_tweetID=test_probs_tids)"
   ]
  },
  {
   "cell_type": "code",
   "execution_count": null,
   "metadata": {
    "id": "rXURcS6fwv8j",
    "outputId": "4da87160-e9e9-40e7-f4a6-87cc43d88cfa"
   },
   "outputs": [
    {
     "data": {
      "text/plain": [
       "13608"
      ]
     },
     "execution_count": 47,
     "metadata": {},
     "output_type": "execute_result"
    }
   ],
   "source": [
    "len(test_probs_tids)"
   ]
  },
  {
   "cell_type": "code",
   "execution_count": null,
   "metadata": {
    "id": "bupnlzm9wv8j",
    "outputId": "c6e157e5-dcc4-4e4c-8e5b-9900ab320711"
   },
   "outputs": [
    {
     "name": "stdout",
     "output_type": "stream",
     "text": [
      "(2237, 5)\n",
      "(2237,)\n"
     ]
    }
   ],
   "source": [
    "data = np.load('./data/image_predict_probs_test.npz')\n",
    "print(data['predict_probs'].shape)\n",
    "print(data['image_tweetID'].shape)"
   ]
  },
  {
   "cell_type": "markdown",
   "metadata": {
    "id": "Zjpe7M_jwv8k"
   },
   "source": [
    "## MMHS150K Dataset"
   ]
  },
  {
   "cell_type": "markdown",
   "metadata": {
    "id": "5pUWoiEywv8k"
   },
   "source": [
    "### 1. Train the Model"
   ]
  },
  {
   "cell_type": "code",
   "execution_count": null,
   "metadata": {
    "id": "J-eNKqH_wv8k"
   },
   "outputs": [],
   "source": [
    "from json import load, dump"
   ]
  },
  {
   "cell_type": "code",
   "execution_count": null,
   "metadata": {
    "id": "RymbF-zLwv8k"
   },
   "outputs": [],
   "source": [
    "labels = load(open('./MMHS150K_GT.json', 'r'))"
   ]
  },
  {
   "cell_type": "code",
   "execution_count": null,
   "metadata": {
    "id": "dNwa9ZUAwv8l"
   },
   "outputs": [],
   "source": [
    "binary_labels = {}\n",
    "\n",
    "for k in labels:\n",
    "    binary_labels[k] = int(labels[k]['labels'].count(0) <= 1)"
   ]
  },
  {
   "cell_type": "code",
   "execution_count": null,
   "metadata": {
    "id": "SPxLyWudwv8l"
   },
   "outputs": [],
   "source": [
    "splits = {}\n",
    "\n",
    "for name in ['train', 'val', 'test']:\n",
    "    with open('./splits/{}_ids.txt'.format(name)) as fp:\n",
    "        lines = [l.replace('\\n', '') for l in fp.readlines()]\n",
    "        splits[name] = lines"
   ]
  },
  {
   "cell_type": "code",
   "execution_count": null,
   "metadata": {
    "id": "SOcaRlyfwv8l",
    "outputId": "cfd4f37f-4c5c-4dac-b369-0b7c38d2d950"
   },
   "outputs": [
    {
     "data": {
      "text/plain": [
       "Counter({1: 36978, 0: 112845})"
      ]
     },
     "execution_count": 69,
     "metadata": {},
     "output_type": "execute_result"
    }
   ],
   "source": [
    "Counter([binary_labels[k] for k in binary_labels])"
   ]
  },
  {
   "cell_type": "code",
   "execution_count": null,
   "metadata": {
    "id": "kOOYYy4zwv8m"
   },
   "outputs": [],
   "source": [
    "sub_labels = {'train': [], 'val': [], 'test': []}\n",
    "\n",
    "for n in ['train', 'val', 'test']:\n",
    "    for l in splits[n]:\n",
    "        sub_labels[n].append(binary_labels[l])"
   ]
  },
  {
   "cell_type": "code",
   "execution_count": null,
   "metadata": {
    "id": "Wun-5ibWwv8m",
    "outputId": "742c9bae-da1f-4a18-d434-8f52938728e8"
   },
   "outputs": [
    {
     "data": {
      "text/plain": [
       "(array([105346.,      0.,      0.,      0.,      0.,      0.,      0.,\n",
       "             0.,      0.,  29477.]),\n",
       " array([0. , 0.1, 0.2, 0.3, 0.4, 0.5, 0.6, 0.7, 0.8, 0.9, 1. ]),\n",
       " <BarContainer object of 10 artists>)"
      ]
     },
     "execution_count": 79,
     "metadata": {},
     "output_type": "execute_result"
    },
    {
     "data": {
      "image/png": "[encoded data removed]",
      "text/plain": [
       "<Figure size 432x288 with 1 Axes>"
      ]
     },
     "metadata": {
      "needs_background": "light"
     },
     "output_type": "display_data"
    }
   ],
   "source": [
    "plt.hist(sub_labels['train'])"
   ]
  },
  {
   "cell_type": "code",
   "execution_count": null,
   "metadata": {
    "id": "Q9f1lh5bwv8m"
   },
   "outputs": [],
   "source": [
    "def image_transform(image):\n",
    "\n",
    "    h, w, _ = image.shape\n",
    "    target_len = 299\n",
    "    padded_image = np.zeros((target_len, target_len, 3)).astype(int)\n",
    "\n",
    "\n",
    "    if w > h:\n",
    "        # Resize to [] x 299\n",
    "        image = cv2.resize(image, (target_len, math.floor(h / (w / target_len))))\n",
    "        short_len = image.shape[0]\n",
    "\n",
    "        # Pad to 299 x 299\n",
    "        padded_image[math.floor((target_len - short_len) / 2):\n",
    "                     math.floor((target_len - short_len) / 2) + short_len,\n",
    "                     :, :] = image\n",
    "    else:\n",
    "        # Resize to 299 x []\n",
    "        image = cv2.resize(image, (math.floor(w / (h / target_len)), target_len))\n",
    "        short_len = image.shape[1]\n",
    "\n",
    "        # Pad to 299 x 299\n",
    "        padded_image[:, math.floor((target_len - short_len) / 2):\n",
    "                     math.floor((target_len - short_len) / 2) + short_len,\n",
    "                     :] = image\n",
    "    \n",
    "    return padded_image\n",
    "\n",
    "image = cv2.imread('./mmhs150k-img/{}.jpg'.format('1114679353714016256'))\n",
    "image = cv2.cvtColor(image, cv2.COLOR_BGR2RGB)"
   ]
  },
  {
   "cell_type": "code",
   "execution_count": null,
   "metadata": {
    "id": "IV3lOo29wv8m",
    "outputId": "49be0a75-f2f6-46ae-b90f-a522894b7e21"
   },
   "outputs": [
    {
     "data": {
      "image/png": "[encoded data removed]",
      "text/plain": [
       "<Figure size 432x288 with 1 Axes>"
      ]
     },
     "metadata": {
      "needs_background": "light"
     },
     "output_type": "display_data"
    }
   ],
   "source": [
    "plt.imshow(image)\n",
    "plt.show()"
   ]
  },
  {
   "cell_type": "code",
   "execution_count": null,
   "metadata": {
    "id": "P_Eq2ubJwv8n",
    "outputId": "c952a8e6-4c1f-44f7-ff6b-20bde073f83a"
   },
   "outputs": [
    {
     "data": {
      "image/png": "[encoded data removed]",
      "text/plain": [
       "<Figure size 432x288 with 1 Axes>"
      ]
     },
     "metadata": {
      "needs_background": "light"
     },
     "output_type": "display_data"
    }
   ],
   "source": [
    "plt.imshow(image_transform(image))\n",
    "plt.show()"
   ]
  },
  {
   "cell_type": "code",
   "execution_count": null,
   "metadata": {
    "id": "90ngt7OLwv8o"
   },
   "outputs": [],
   "source": [
    "class ImageDataset(Dataset):\n",
    "\n",
    "    def __init__(self, ids, root_dir):\n",
    "        \"\"\"\n",
    "        Args:\n",
    "            tsv_file (string): Path to the train/test/dev split tsv file\n",
    "            root_dir (string): Directory with all the images.\n",
    "        \"\"\"\n",
    "        self.ids = ids\n",
    "        self.root_dir = root_dir\n",
    "        self.normalize = transforms.Normalize(mean=[0.485, 0.456, 0.406], std=[0.229, 0.224, 0.225])\n",
    "        self.resize = transforms.Resize(256)\n",
    "        self.center = transforms.CenterCrop(224)\n",
    "        self.to_tensor = transforms.ToTensor()\n",
    "\n",
    "    def __len__(self):\n",
    "        return len(self.ids)\n",
    "\n",
    "    def __getitem__(self, idx):\n",
    "        if torch.is_tensor(idx):\n",
    "            idx = idx.tolist()\n",
    "\n",
    "        img_name = os.path.join(self.root_dir, '{}.jpg'.format(self.ids[idx]))\n",
    "        image = Image.open(img_name).convert('RGB')\n",
    "        \n",
    "        image = self.resize(image)\n",
    "        image = self.center(image)\n",
    "        \n",
    "        image = self.to_tensor(image)\n",
    "        image = self.normalize(image)\n",
    "        \n",
    "        # Get the label\n",
    "        label = binary_labels[self.ids[idx]]\n",
    "        \n",
    "        return image, label"
   ]
  },
  {
   "cell_type": "code",
   "execution_count": null,
   "metadata": {
    "id": "J9g1UWalwv8o"
   },
   "outputs": [],
   "source": [
    "train_dataset = ImageDataset(splits['train'], './mmhs150k-img')"
   ]
  },
  {
   "cell_type": "code",
   "execution_count": null,
   "metadata": {
    "id": "FKOnvNipwv8p",
    "outputId": "92f64035-2792-486a-b995-d7b7c3f1d3ad"
   },
   "outputs": [
    {
     "name": "stdout",
     "output_type": "stream",
     "text": [
      "torch.Size([3, 224, 224]) 1\n"
     ]
    }
   ],
   "source": [
    "for i in train_dataset:\n",
    "    print(i[0].shape, i[1])\n",
    "    break"
   ]
  },
  {
   "cell_type": "code",
   "execution_count": null,
   "metadata": {
    "id": "I_jyGLaKwv8p"
   },
   "outputs": [],
   "source": [
    "num_classes = 2\n",
    "device = torch.device(\"cuda:0\" if torch.cuda.is_available() else \"cpu\")\n",
    "\n",
    "train_dataset = ImageDataset(splits['train'], './mmhs150k-img')\n",
    "dev_dataset = ImageDataset(splits['val'], './mmhs150k-img')\n",
    "test_dataset = ImageDataset(splits['test'], './mmhs150k-img')"
   ]
  },
  {
   "cell_type": "code",
   "execution_count": null,
   "metadata": {
    "id": "5tOtOd5jwv8q"
   },
   "outputs": [],
   "source": [
    "batch_size = 32\n",
    "\n",
    "train_dataset_loader = torch.utils.data.DataLoader(train_dataset,\n",
    "                                                   batch_size=batch_size,\n",
    "                                                   shuffle=True,\n",
    "                                                   num_workers=4)\n",
    "dev_dataset_loader = torch.utils.data.DataLoader(dev_dataset,\n",
    "                                                 batch_size=batch_size,\n",
    "                                                 shuffle=True,\n",
    "                                                 num_workers=4)\n",
    "test_dataset_loader = torch.utils.data.DataLoader(test_dataset,\n",
    "                                                  batch_size=batch_size,\n",
    "                                                  shuffle=True,\n",
    "                                                  num_workers=4)"
   ]
  },
  {
   "cell_type": "code",
   "execution_count": null,
   "metadata": {
    "id": "q_LvU4oYwv8q",
    "outputId": "c5c3af0e-f2c3-47ad-86b4-b11e7e6b1335"
   },
   "outputs": [
    {
     "name": "stdout",
     "output_type": "stream",
     "text": [
      "torch.Size([32, 3, 224, 224]) tensor(2.6400) tensor([0, 0, 1, 1, 1, 0, 0, 0, 1, 1, 0, 0, 0, 0, 0, 1, 1, 0, 0, 0, 0, 0, 0, 0,\n",
      "        1, 0, 1, 0, 0, 1, 0, 0])\n"
     ]
    }
   ],
   "source": [
    "for inputs, labels in train_dataset_loader:\n",
    "    print(inputs.shape, torch.max(inputs), labels)\n",
    "    break"
   ]
  },
  {
   "cell_type": "code",
   "execution_count": null,
   "metadata": {
    "id": "qxViuhJQwv8q",
    "outputId": "2357f74b-5281-450a-f365-ddf3938b04b7"
   },
   "outputs": [
    {
     "data": {
      "text/plain": [
       "tensor([1., 2.])"
      ]
     },
     "execution_count": 23,
     "metadata": {},
     "output_type": "execute_result"
    }
   ],
   "source": [
    "torch.Tensor([1,2])"
   ]
  },
  {
   "cell_type": "code",
   "execution_count": null,
   "metadata": {
    "id": "ZuxZkkFowv8r"
   },
   "outputs": [],
   "source": [
    "def train_model(model, dataloaders, criterion, optimizer, num_epochs=25, patience=20):\n",
    "    val_acc_history = []\n",
    "\n",
    "    best_model_wts = copy.deepcopy(model.state_dict())\n",
    "    best_acc = 0.0\n",
    "    best_f1 = 0\n",
    "    \n",
    "    # Early stopping\n",
    "    es_counter = 0\n",
    "    es = False\n",
    "\n",
    "    for epoch in range(num_epochs):\n",
    "        if es:\n",
    "            break\n",
    "\n",
    "        print('Epoch {}/{}'.format(epoch, num_epochs - 1))\n",
    "        print('-' * 10)\n",
    "\n",
    "        # Each epoch has a training and validation phase\n",
    "        for phase in ['train', 'val']:\n",
    "            if phase == 'train':\n",
    "                model.train()  # Set model to training mode\n",
    "            else:\n",
    "                model.eval()   # Set model to evaluate mode\n",
    "\n",
    "            running_loss = 0.0\n",
    "            running_corrects = 0\n",
    "            \n",
    "            running_predicts = []\n",
    "            running_labels = []\n",
    "\n",
    "            # Iterate over data.\n",
    "            for inputs, labels in tqdm(dataloaders[phase], desc=phase):\n",
    "                inputs = inputs.to(device)\n",
    "                labels = labels.to(device)\n",
    "\n",
    "                # zero the parameter gradients\n",
    "                optimizer.zero_grad()\n",
    "\n",
    "                # forward\n",
    "                # track history if only in train\n",
    "                with torch.set_grad_enabled(phase == 'train'):\n",
    "                    # Get model outputs and calculate loss\n",
    "                    # Special case for inception because in training it has an auxiliary output. In train\n",
    "                    #   mode we calculate the loss by summing the final output and the auxiliary output\n",
    "                    #   but in testing we only consider the final output.\n",
    "\n",
    "                    outputs = model(inputs)\n",
    "                    loss = criterion(outputs, labels)\n",
    "\n",
    "                    _, preds = torch.max(outputs, 1)\n",
    "\n",
    "                    # backward + optimize only if in training phase\n",
    "                    if phase == 'train':\n",
    "                        loss.backward()\n",
    "                        optimizer.step()\n",
    "\n",
    "                # statistics\n",
    "                running_loss += loss.item() * inputs.size(0)\n",
    "                running_corrects += torch.sum(preds == labels.data)\n",
    "                \n",
    "                running_predicts.extend(preds.tolist())\n",
    "                running_labels.extend(labels.data.tolist())\n",
    "\n",
    "            epoch_loss = running_loss / len(dataloaders[phase].dataset)\n",
    "            epoch_acc = running_corrects.double() / len(dataloaders[phase].dataset)\n",
    "\n",
    "            print('{} Loss: {:.4f} Acc: {:.4f}'.format(phase, epoch_loss, epoch_acc))\n",
    "\n",
    "            # deep copy the model\n",
    "            if phase == 'val':\n",
    "                # Compute F1 score\n",
    "                y_true = torch.Tensor(running_labels)\n",
    "                y_pred = torch.Tensor(running_predicts)\n",
    "                tp = (y_true * y_pred).sum().to(torch.float32)\n",
    "                tn = ((1 - y_true) * (1 - y_pred)).sum().to(torch.float32)\n",
    "                fp = ((1 - y_true) * y_pred).sum().to(torch.float32)\n",
    "                fn = (y_true * (1 - y_pred)).sum().to(torch.float32)\n",
    "\n",
    "                epsilon = 1e-7\n",
    "\n",
    "                precision = tp / (tp + fp + epsilon)\n",
    "                recall = tp / (tp + fn + epsilon)\n",
    "\n",
    "                f1 = 2 * (precision*recall) / (precision + recall + epsilon)\n",
    "                \n",
    "                print(f1)\n",
    "    \n",
    "                if f1 > best_f1:\n",
    "                    best_f1 = f1\n",
    "                    best_model_wts = copy.deepcopy(model.state_dict())\n",
    "                    es_counter = 0\n",
    "                else:\n",
    "                    es_counter += 1\n",
    "                    if es_counter > patience:\n",
    "                        es = True\n",
    "\n",
    "                val_acc_history.append(epoch_acc)\n",
    "\n",
    "        print()\n",
    "\n",
    "    print('Best val Acc: {:4f}'.format(best_acc))\n",
    "\n",
    "    # load best model weights\n",
    "    model.load_state_dict(best_model_wts)\n",
    "    return model, val_acc_history"
   ]
  },
  {
   "cell_type": "code",
   "execution_count": 42,
   "metadata": {
    "id": "oUMSlWfPwv8s"
   },
   "outputs": [
    {
     "name": "stderr",
     "output_type": "stream",
     "text": [
      "/storage/home/hcocice1/sarora320/.local/lib/python3.8/site-packages/torchvision/models/_utils.py:223: UserWarning: Arguments other than a weight enum or `None` for 'weights' are deprecated since 0.13 and may be removed in the future. The current behavior is equivalent to passing `weights=VGG16_Weights.IMAGENET1K_V1`. You can also use `weights=VGG16_Weights.DEFAULT` to get the most up-to-date weights.\n",
      "  warnings.warn(msg)\n"
     ]
    }
   ],
   "source": [
    "model = models.vgg16(pretrained=True)\n",
    "\n",
    "# Freeze model weights\n",
    "for param in model.parameters():\n",
    "    param.requires_grad = False\n",
    "    \n",
    "# Add on classifier\n",
    "model.classifier[6] = nn.Sequential(\n",
    "                      nn.Linear(4096, 256), \n",
    "                      nn.ReLU(), \n",
    "                      nn.Dropout(0.4),\n",
    "                      nn.Linear(256, num_classes))\n",
    "\n",
    "model = model.to(device)\n",
    "\n",
    "params_to_update = [p for p in model.parameters() if p.requires_grad]\n",
    "\n",
    "# Observe that all parameters are being optimized\n",
    "optimizer_ft = optim.Adam(params_to_update, lr=1e-4)\n",
    "criterion = nn.CrossEntropyLoss()"
   ]
  },
  {
   "cell_type": "code",
   "execution_count": null,
   "metadata": {
    "id": "Qt3vfUQEwv8s"
   },
   "outputs": [],
   "source": [
    "# dataloaders = {'train': train_dataset_loader,\n",
    "#                'val': dev_dataset_loader}\n",
    "\n",
    "# model, val_acc_history = train_model(model, dataloaders, criterion,\n",
    "#                                      optimizer_ft, num_epochs=200,\n",
    "#                                      patience=30)\n",
    "\n",
    "# #torch.save(model.state_dict(), './output/best_weights_mmhs150k.pk')\n",
    "# # dump(val_acc_history, open('./output/val_acc_history.json', 'w'))"
   ]
  },
  {
   "cell_type": "markdown",
   "metadata": {
    "id": "Aqce1Xa-wv8t"
   },
   "source": [
    "## 3. Analysis"
   ]
  },
  {
   "cell_type": "code",
   "execution_count": null,
   "metadata": {
    "id": "c6D0i1XFwv8t"
   },
   "outputs": [],
   "source": [
    "num_classes = 2\n",
    "model = models.vgg16(pretrained=True)\n",
    "\n",
    "# Freeze model weights\n",
    "for param in model.parameters():\n",
    "    param.requires_grad = False\n",
    "    \n",
    "# Add on classifier\n",
    "model.classifier[6] = nn.Sequential(\n",
    "                      nn.Linear(4096, 256), \n",
    "                      nn.ReLU(), \n",
    "                      nn.Dropout(0.4),\n",
    "                      nn.Linear(256, num_classes))\n",
    "\n",
    "model.load_state_dict(torch.load('./output/best_weights_mmhs150k.pk'))\n",
    "model = model.to(device)"
   ]
  },
  {
   "cell_type": "code",
   "execution_count": null,
   "metadata": {
    "id": "IwEcRjQAwv8t"
   },
   "outputs": [],
   "source": [
    "batch_size = 32\n",
    "\n",
    "test_dataset_loader = torch.utils.data.DataLoader(test_dataset,\n",
    "                                                  batch_size=batch_size,\n",
    "                                                  shuffle=True,\n",
    "                                                  num_workers=4)"
   ]
  },
  {
   "cell_type": "code",
   "execution_count": null,
   "metadata": {
    "id": "NL6FyrA-wv8t",
    "outputId": "b146e501-3428-4246-d554-67e2df0087f3"
   },
   "outputs": [
    {
     "name": "stderr",
     "output_type": "stream",
     "text": [
      "100%|██████████| 313/313 [00:23<00:00, 13.16it/s]\n"
     ]
    }
   ],
   "source": [
    "predictions = []\n",
    "true_labels = []\n",
    "criterion = nn.CrossEntropyLoss()\n",
    "\n",
    "for inputs, labels in tqdm(test_dataset_loader):\n",
    "    inputs = inputs.to(device)\n",
    "    labels = labels.to(device)\n",
    "\n",
    "\n",
    "    outputs = model(inputs)\n",
    "\n",
    "    _, preds = torch.max(outputs, 1)\n",
    "    \n",
    "    predictions.extend(preds.cpu().numpy().tolist())\n",
    "    true_labels.extend(labels.cpu().numpy().tolist())\n"
   ]
  },
  {
   "cell_type": "code",
   "execution_count": null,
   "metadata": {
    "id": "WOMGBJYRwv8u"
   },
   "outputs": [],
   "source": [
    "confusion = metrics.confusion_matrix(true_labels, predictions)"
   ]
  },
  {
   "cell_type": "code",
   "execution_count": null,
   "metadata": {
    "id": "vEhq-Lvpwv8u",
    "outputId": "15eb11dd-790f-466e-9c3c-f3888b3601e4"
   },
   "outputs": [
    {
     "data": {
      "image/png": "[encoded data removed]",
      "text/plain": [
       "<Figure size 432x288 with 2 Axes>"
      ]
     },
     "metadata": {
      "needs_background": "light"
     },
     "output_type": "display_data"
    }
   ],
   "source": [
    "import seaborn as sns;\n",
    "\n",
    "ticks = ['non-hate', 'hate']\n",
    "\n",
    "plt.title('Confusion Matrix')\n",
    "ax = sns.heatmap(confusion, annot=True, fmt=\"d\", cmap=\"YlGnBu\", square=True,\n",
    "                 xticklabels=ticks, yticklabels=ticks)"
   ]
  },
  {
   "cell_type": "code",
   "execution_count": null,
   "metadata": {
    "id": "7eThkZFBwv8u",
    "outputId": "59688b99-192f-4288-9887-47b1fd1eb21a"
   },
   "outputs": [
    {
     "data": {
      "text/plain": [
       "Counter({1: 9907, 0: 93})"
      ]
     },
     "execution_count": 56,
     "metadata": {},
     "output_type": "execute_result"
    }
   ],
   "source": [
    "Counter(predictions)"
   ]
  },
  {
   "cell_type": "code",
   "execution_count": null,
   "metadata": {
    "id": "JH29hOKKwv8v",
    "outputId": "a0c826f7-9898-44be-a6be-88ec6207d939"
   },
   "outputs": [
    {
     "name": "stdout",
     "output_type": "stream",
     "text": [
      "134823 5000 10000\n"
     ]
    }
   ],
   "source": [
    "print(len(train_dataset), len(dev_dataset), len(test_dataset))"
   ]
  },
  {
   "cell_type": "code",
   "execution_count": null,
   "metadata": {
    "id": "sT4tG70jwv8v",
    "outputId": "439e9b13-933c-4b33-898f-e03fa204ea23"
   },
   "outputs": [
    {
     "data": {
      "text/plain": [
       "0.5008"
      ]
     },
     "execution_count": 58,
     "metadata": {},
     "output_type": "execute_result"
    }
   ],
   "source": [
    "metrics.accuracy_score(true_labels, predictions)"
   ]
  },
  {
   "cell_type": "code",
   "execution_count": null,
   "metadata": {
    "id": "rLq52dgUwv8v",
    "outputId": "14b55a86-641c-4a9e-dfac-8864be816df1"
   },
   "outputs": [
    {
     "data": {
      "text/plain": [
       "0.6651462302119667"
      ]
     },
     "execution_count": 59,
     "metadata": {},
     "output_type": "execute_result"
    }
   ],
   "source": [
    "metrics.f1_score(true_labels, predictions)"
   ]
  },
  {
   "cell_type": "code",
   "execution_count": null,
   "metadata": {
    "id": "2m-2kqzAwv8w",
    "outputId": "e597155b-ba70-4f65-a9c5-9f1e0b3b310e"
   },
   "outputs": [
    {
     "data": {
      "text/plain": [
       "0.5004542242858585"
      ]
     },
     "execution_count": 60,
     "metadata": {},
     "output_type": "execute_result"
    }
   ],
   "source": [
    "metrics.precision_score(true_labels, predictions)"
   ]
  },
  {
   "cell_type": "code",
   "execution_count": null,
   "metadata": {
    "id": "BJJkoRwNwv8w",
    "outputId": "53682ac5-8d2a-4fa5-e09d-4b2a678c037a"
   },
   "outputs": [
    {
     "data": {
      "text/plain": [
       "0.9914017196560688"
      ]
     },
     "execution_count": 61,
     "metadata": {},
     "output_type": "execute_result"
    }
   ],
   "source": [
    "metrics.recall_score(true_labels, predictions)"
   ]
  },
  {
   "cell_type": "markdown",
   "metadata": {
    "id": "zVozJZ9ywv8w"
   },
   "source": [
    "## Extract Last Layer Feature"
   ]
  },
  {
   "cell_type": "code",
   "execution_count": null,
   "metadata": {
    "id": "LtOL1Tp3wv8x",
    "outputId": "11c761b1-2523-4d80-a908-d0d8b2c02b81"
   },
   "outputs": [
    {
     "data": {
      "text/plain": [
       "Linear(in_features=4096, out_features=4096, bias=True)"
      ]
     },
     "execution_count": 35,
     "metadata": {},
     "output_type": "execute_result"
    }
   ],
   "source": [
    "model.classifier._modules['6'][0]\n",
    "model.classifier._modules['3']"
   ]
  },
  {
   "cell_type": "code",
   "execution_count": null,
   "metadata": {
    "id": "f2Qt-Fi6wv8x"
   },
   "outputs": [],
   "source": [
    "class ImageDatasetExtract(Dataset):\n",
    "\n",
    "    def __init__(self, ids, root_dir):\n",
    "        \"\"\"\n",
    "        Args:\n",
    "            tsv_file (string): Path to the train/test/dev split tsv file\n",
    "            root_dir (string): Directory with all the images.\n",
    "        \"\"\"\n",
    "        self.ids = ids\n",
    "        self.root_dir = root_dir\n",
    "        self.normalize = transforms.Normalize(mean=[0.485, 0.456, 0.406], std=[0.229, 0.224, 0.225])\n",
    "        self.resize = transforms.Resize(256)\n",
    "        self.center = transforms.CenterCrop(224)\n",
    "        self.to_tensor = transforms.ToTensor()\n",
    "\n",
    "    def __len__(self):\n",
    "        return len(self.ids)\n",
    "\n",
    "    def __getitem__(self, idx):\n",
    "        if torch.is_tensor(idx):\n",
    "            idx = idx.tolist()\n",
    "\n",
    "        img_name = img_name = os.path.join(self.root_dir, '{}.jpg'.format(self.ids[idx]))\n",
    "        image = Image.open(img_name).convert('RGB')\n",
    "        \n",
    "        image = self.resize(image)\n",
    "        image = self.center(image)\n",
    "        \n",
    "        image = self.to_tensor(image)\n",
    "        image = self.normalize(image)\n",
    "        \n",
    "        # Get the label\n",
    "        label = binary_labels[self.ids[idx]]\n",
    "        \n",
    "        tid = self.ids[idx]\n",
    "        \n",
    "        return image, label, tid"
   ]
  },
  {
   "cell_type": "code",
   "execution_count": null,
   "metadata": {
    "id": "Dt_UqMrlwv8x"
   },
   "outputs": [],
   "source": [
    "num_classes = 2\n",
    "device = torch.device(\"cuda:0\" if torch.cuda.is_available() else \"cpu\")\n",
    "\n",
    "train_dataset = ImageDatasetExtract(splits['train'], 'mmhs150k-img')\n",
    "dev_dataset = ImageDatasetExtract(splits['val'], 'mmhs150k-img')\n",
    "test_dataset = ImageDatasetExtract(splits['test'], 'mmhs150k-img')"
   ]
  },
  {
   "cell_type": "code",
   "execution_count": null,
   "metadata": {
    "id": "QOdlb8fMwv8x"
   },
   "outputs": [],
   "source": [
    "batch_size = 32\n",
    "\n",
    "train_dataset_loader = torch.utils.data.DataLoader(train_dataset,\n",
    "                                                  batch_size=batch_size,\n",
    "                                                  shuffle=True,\n",
    "                                                  num_workers=4)\n",
    "\n",
    "dev_dataset_loader = torch.utils.data.DataLoader(dev_dataset,\n",
    "                                                  batch_size=batch_size,\n",
    "                                                  shuffle=True,\n",
    "                                                  num_workers=4)\n",
    "\n",
    "test_dataset_loader = torch.utils.data.DataLoader(test_dataset,\n",
    "                                                  batch_size=batch_size,\n",
    "                                                  shuffle=True,\n",
    "                                                  num_workers=4)"
   ]
  },
  {
   "cell_type": "code",
   "execution_count": null,
   "metadata": {
    "id": "Cc8qRTbNwv8x"
   },
   "outputs": [],
   "source": [
    "model = models.vgg16(pretrained=True)\n",
    "\n",
    "# Freeze model weights\n",
    "for param in model.parameters():\n",
    "    param.requires_grad = False\n",
    "    \n",
    "# Add on classifier\n",
    "model.classifier[6] = nn.Sequential(\n",
    "                      nn.Linear(4096, 256), \n",
    "                      nn.ReLU(), \n",
    "                      nn.Dropout(0.4),\n",
    "                      nn.Linear(256, num_classes))\n",
    "\n",
    "model.load_state_dict(torch.load('./output/best_weights_mmhs150k.pk'))\n",
    "model = model.to(device)"
   ]
  },
  {
   "cell_type": "code",
   "execution_count": null,
   "metadata": {
    "id": "uUqtaXcZwv8y",
    "outputId": "70597061-550a-4989-e64c-bafa46b9133e"
   },
   "outputs": [
    {
     "data": {
      "text/plain": [
       "<torch.utils.hooks.RemovableHandle at 0x7efe7bd86e50>"
      ]
     },
     "execution_count": 50,
     "metadata": {},
     "output_type": "execute_result"
    }
   ],
   "source": [
    "output_256 = []\n",
    "output_256_tid = []\n",
    "\n",
    "def get_output(self, input, output):\n",
    "    cur_output = output.data.detach().cpu().numpy()\n",
    "    for i in range(cur_output.shape[0]):\n",
    "        output_256.append(cur_output[i, :])\n",
    "\n",
    "model.classifier._modules['6'][0].register_forward_hook(get_output)"
   ]
  },
  {
   "cell_type": "code",
   "execution_count": null,
   "metadata": {
    "id": "xTmIHLySwv8y",
    "outputId": "5cc453db-fc01-4601-88d8-7baf4ef0b52b"
   },
   "outputs": [
    {
     "name": "stderr",
     "output_type": "stream",
     "text": [
      "100%|██████████| 313/313 [00:23<00:00, 13.37it/s]\n"
     ]
    }
   ],
   "source": [
    "for inputs, labels, tids in tqdm(test_dataset_loader):\n",
    "    inputs = inputs.to(device)\n",
    "    labels = labels.to(device)\n",
    "    output_256_tid.extend(list(tids))\n",
    "\n",
    "    outputs = model(inputs)"
   ]
  },
  {
   "cell_type": "code",
   "execution_count": null,
   "metadata": {
    "id": "EjQEbukHwv8y"
   },
   "outputs": [],
   "source": [
    "np.savez_compressed('./data/mmhs150k_image_embedding_256_test.npz',\n",
    "                    image_embedding=output_256,\n",
    "                    image_tweetID=output_256_tid)"
   ]
  },
  {
   "cell_type": "code",
   "execution_count": null,
   "metadata": {
    "id": "stT7XYAxwv8y",
    "outputId": "b893dbd7-4847-41b1-811b-0308d2ef1205"
   },
   "outputs": [
    {
     "name": "stderr",
     "output_type": "stream",
     "text": [
      "100%|██████████| 157/157 [00:11<00:00, 13.16it/s]\n"
     ]
    }
   ],
   "source": [
    "model = models.vgg16(pretrained=True)\n",
    "\n",
    "# Freeze model weights\n",
    "for param in model.parameters():\n",
    "    param.requires_grad = False\n",
    "    \n",
    "# Add on classifier\n",
    "model.classifier[6] = nn.Sequential(\n",
    "                      nn.Linear(4096, 256), \n",
    "                      nn.ReLU(), \n",
    "                      nn.Dropout(0.4),\n",
    "                      nn.Linear(256, num_classes))\n",
    "\n",
    "model.load_state_dict(torch.load('./output/best_weights_mmhs150k.pk'))\n",
    "model = model.to(device)\n",
    "\n",
    "output_256 = []\n",
    "output_256_tid = []\n",
    "\n",
    "def get_output(self, input, output):\n",
    "    cur_output = output.data.detach().cpu().numpy()\n",
    "    for i in range(cur_output.shape[0]):\n",
    "        output_256.append(cur_output[i, :])\n",
    "\n",
    "model.classifier._modules['6'][0].register_forward_hook(get_output)\n",
    "\n",
    "for inputs, labels, tids in tqdm(dev_dataset_loader):\n",
    "    inputs = inputs.to(device)\n",
    "    labels = labels.to(device)\n",
    "    output_256_tid.extend(list(tids))\n",
    "\n",
    "    outputs = model(inputs)"
   ]
  },
  {
   "cell_type": "code",
   "execution_count": null,
   "metadata": {
    "id": "KY-1uctewv8z",
    "outputId": "7709efda-8e6b-4556-9fec-bc1c0c28c8ed"
   },
   "outputs": [
    {
     "name": "stdout",
     "output_type": "stream",
     "text": [
      "5000 5000\n"
     ]
    }
   ],
   "source": [
    "print(len(output_256_tid), len(output_256))"
   ]
  },
  {
   "cell_type": "code",
   "execution_count": null,
   "metadata": {
    "id": "E62KYozvwv8z"
   },
   "outputs": [],
   "source": [
    "np.savez_compressed('./data/mmhs150k_image_embedding_256_dev.npz',\n",
    "                    image_embedding=output_256,\n",
    "                    image_tweetID=output_256_tid)"
   ]
  },
  {
   "cell_type": "code",
   "execution_count": null,
   "metadata": {
    "id": "_lJCTUZGwv8z",
    "outputId": "2ff042ef-28b3-4eb8-eb97-14c621fde8f7"
   },
   "outputs": [
    {
     "name": "stderr",
     "output_type": "stream",
     "text": [
      " 22%|██▏       | 945/4214 [01:10<03:58, 13.71it/s]Traceback (most recent call last):\n",
      "  File \"/nethome/zwang3049/jay/miniconda3/envs/nlp/lib/python3.7/multiprocessing/queues.py\", line 232, in _feed\n",
      "    close()\n",
      "  File \"/nethome/zwang3049/jay/miniconda3/envs/nlp/lib/python3.7/multiprocessing/connection.py\", line 177, in close\n",
      "    self._close()\n",
      "  File \"/nethome/zwang3049/jay/miniconda3/envs/nlp/lib/python3.7/multiprocessing/connection.py\", line 361, in _close\n",
      "    _close(self._handle)\n",
      "OSError: [Errno 9] Bad file descriptor\n",
      "100%|██████████| 4214/4214 [05:11<00:00, 13.55it/s]\n"
     ]
    }
   ],
   "source": [
    "model = models.vgg16(pretrained=True)\n",
    "\n",
    "# Freeze model weights\n",
    "for param in model.parameters():\n",
    "    param.requires_grad = False\n",
    "    \n",
    "# Add on classifier\n",
    "model.classifier[6] = nn.Sequential(\n",
    "                      nn.Linear(4096, 256), \n",
    "                      nn.ReLU(), \n",
    "                      nn.Dropout(0.4),\n",
    "                      nn.Linear(256, num_classes))\n",
    "\n",
    "model.load_state_dict(torch.load('./output/best_weights_mmhs150k.pk'))\n",
    "model = model.to(device)\n",
    "\n",
    "output_256 = []\n",
    "output_256_tid = []\n",
    "\n",
    "def get_output(self, input, output):\n",
    "    cur_output = output.data.detach().cpu().numpy()\n",
    "    for i in range(cur_output.shape[0]):\n",
    "        output_256.append(cur_output[i, :])\n",
    "\n",
    "model.classifier._modules['6'][0].register_forward_hook(get_output)\n",
    "\n",
    "for inputs, labels, tids in tqdm(train_dataset_loader):\n",
    "    inputs = inputs.to(device)\n",
    "    labels = labels.to(device)\n",
    "    output_256_tid.extend(list(tids))\n",
    "\n",
    "    outputs = model(inputs)"
   ]
  },
  {
   "cell_type": "code",
   "execution_count": null,
   "metadata": {
    "id": "upzzwZmWwv8z",
    "outputId": "4eec4467-5432-467c-a463-ae84aa05a7e1"
   },
   "outputs": [
    {
     "name": "stdout",
     "output_type": "stream",
     "text": [
      "134823 134823\n"
     ]
    }
   ],
   "source": [
    "print(len(output_256_tid), len(output_256))"
   ]
  },
  {
   "cell_type": "code",
   "execution_count": null,
   "metadata": {
    "id": "Mn9Xp7GHwv80"
   },
   "outputs": [],
   "source": [
    "np.savez_compressed('./data/mmhs150k_image_embedding_256_train.npz',\n",
    "                    image_embedding=output_256,\n",
    "                    image_tweetID=output_256_tid)"
   ]
  },
  {
   "cell_type": "code",
   "execution_count": null,
   "metadata": {
    "id": "x0IFiAtxwv80"
   },
   "outputs": [],
   "source": [
    "tt = np.load('./data/mmhs150k_image_embedding_256_test.npz')"
   ]
  },
  {
   "cell_type": "code",
   "execution_count": null,
   "metadata": {
    "id": "-FWwCXP8wv80",
    "outputId": "24bc4e46-615d-46f7-aa18-6038850255ef"
   },
   "outputs": [
    {
     "name": "stdout",
     "output_type": "stream",
     "text": [
      "(10000, 256)\n",
      "(10000,)\n"
     ]
    }
   ],
   "source": [
    "print(tt['image_embedding'].shape)\n",
    "print(tt['image_tweetID'].shape)"
   ]
  },
  {
   "cell_type": "markdown",
   "metadata": {
    "id": "Uxu8HHa5wv80"
   },
   "source": [
    "## Extract Classification Probabilities"
   ]
  },
  {
   "cell_type": "code",
   "execution_count": null,
   "metadata": {
    "id": "vKlsXZv8wv80"
   },
   "outputs": [],
   "source": [
    "model = models.vgg16(pretrained=True)\n",
    "\n",
    "# Freeze model weights\n",
    "for param in model.parameters():\n",
    "    param.requires_grad = False\n",
    "    \n",
    "# Add on classifier\n",
    "model.classifier[6] = nn.Sequential(\n",
    "                      nn.Linear(4096, 256), \n",
    "                      nn.ReLU(), \n",
    "                      nn.Dropout(0.4),\n",
    "                      nn.Linear(256, num_classes))\n",
    "\n",
    "model.load_state_dict(torch.load('./output/best_weights_mmhs150k.pk'))\n",
    "model = model.to(device)"
   ]
  },
  {
   "cell_type": "code",
   "execution_count": null,
   "metadata": {
    "id": "2gr0Y-ERwv80"
   },
   "outputs": [],
   "source": [
    "class ImageDatasetExtract(Dataset):\n",
    "\n",
    "    def __init__(self, ids, root_dir):\n",
    "        \"\"\"\n",
    "        Args:\n",
    "            tsv_file (string): Path to the train/test/dev split tsv file\n",
    "            root_dir (string): Directory with all the images.\n",
    "        \"\"\"\n",
    "        self.ids = ids\n",
    "        self.root_dir = root_dir\n",
    "        self.normalize = transforms.Normalize(mean=[0.485, 0.456, 0.406], std=[0.229, 0.224, 0.225])\n",
    "        self.resize = transforms.Resize(256)\n",
    "        self.center = transforms.CenterCrop(224)\n",
    "        self.to_tensor = transforms.ToTensor()\n",
    "\n",
    "    def __len__(self):\n",
    "        return len(self.ids)\n",
    "\n",
    "    def __getitem__(self, idx):\n",
    "        if torch.is_tensor(idx):\n",
    "            idx = idx.tolist()\n",
    "\n",
    "        img_name = img_name = os.path.join(self.root_dir, '{}.jpg'.format(self.ids[idx]))\n",
    "        image = Image.open(img_name).convert('RGB')\n",
    "        \n",
    "        image = self.resize(image)\n",
    "        image = self.center(image)\n",
    "        \n",
    "        image = self.to_tensor(image)\n",
    "        image = self.normalize(image)\n",
    "        \n",
    "        # Get the label\n",
    "        label = binary_labels[self.ids[idx]]\n",
    "        \n",
    "        tid = self.ids[idx]\n",
    "        \n",
    "        return image, label, tid"
   ]
  },
  {
   "cell_type": "code",
   "execution_count": null,
   "metadata": {
    "id": "r_fQWhUMwv81"
   },
   "outputs": [],
   "source": [
    "num_classes = 2\n",
    "device = torch.device(\"cuda:0\" if torch.cuda.is_available() else \"cpu\")\n",
    "\n",
    "train_dataset = ImageDatasetExtract(splits['train'], 'mmhs150k-img')\n",
    "dev_dataset = ImageDatasetExtract(splits['val'], 'mmhs150k-img')\n",
    "test_dataset = ImageDatasetExtract(splits['test'], 'mmhs150k-img')"
   ]
  },
  {
   "cell_type": "code",
   "execution_count": null,
   "metadata": {
    "id": "_7RqAhOAwv81"
   },
   "outputs": [],
   "source": [
    "batch_size = 32\n",
    "\n",
    "train_dataset_loader = torch.utils.data.DataLoader(train_dataset,\n",
    "                                                  batch_size=batch_size,\n",
    "                                                  shuffle=True,\n",
    "                                                  num_workers=4)\n",
    "\n",
    "dev_dataset_loader = torch.utils.data.DataLoader(dev_dataset,\n",
    "                                                  batch_size=batch_size,\n",
    "                                                  shuffle=True,\n",
    "                                                  num_workers=4)\n",
    "\n",
    "test_dataset_loader = torch.utils.data.DataLoader(test_dataset,\n",
    "                                                  batch_size=batch_size,\n",
    "                                                  shuffle=True,\n",
    "                                                  num_workers=4)"
   ]
  },
  {
   "cell_type": "code",
   "execution_count": null,
   "metadata": {
    "id": "gAN69aElwv81",
    "outputId": "003f36a1-9e68-42f6-8100-24dfd7d26e34"
   },
   "outputs": [
    {
     "name": "stderr",
     "output_type": "stream",
     "text": [
      "100%|██████████| 313/313 [00:23<00:00, 13.50it/s]\n"
     ]
    }
   ],
   "source": [
    "# Test set\n",
    "\n",
    "test_probs = []\n",
    "test_probs_tids = []\n",
    "\n",
    "for inputs, labels, tids in tqdm(test_dataset_loader):\n",
    "    inputs = inputs.to(device)\n",
    "    labels = labels.to(device)\n",
    "\n",
    "    outputs = model(inputs)\n",
    "    softmax_outputs = nn.functional.softmax(outputs, dim=1).detach().cpu().numpy()\n",
    "    test_probs.append(softmax_outputs)\n",
    "    \n",
    "    test_probs_tids.extend(list(tids))\n",
    "\n",
    "test_probs = np.vstack(test_probs)"
   ]
  },
  {
   "cell_type": "code",
   "execution_count": null,
   "metadata": {
    "id": "J1K2fdguwv81"
   },
   "outputs": [],
   "source": [
    "np.savez_compressed('./data/mmhs150k_image_predict_probs_test.npz',\n",
    "                    predict_probs=test_probs,\n",
    "                    image_tweetID=test_probs_tids)"
   ]
  },
  {
   "cell_type": "code",
   "execution_count": null,
   "metadata": {
    "id": "caXQlReawv81",
    "outputId": "f60ea106-ac29-409e-acce-110747f43a0a"
   },
   "outputs": [
    {
     "name": "stderr",
     "output_type": "stream",
     "text": [
      "100%|██████████| 4214/4214 [05:07<00:00, 13.69it/s]\n"
     ]
    }
   ],
   "source": [
    "# Training set\n",
    "\n",
    "test_probs = []\n",
    "test_probs_tids = []\n",
    "\n",
    "for inputs, labels, tids in tqdm(train_dataset_loader):\n",
    "    inputs = inputs.to(device)\n",
    "    labels = labels.to(device)\n",
    "\n",
    "    outputs = model(inputs)\n",
    "    softmax_outputs = nn.functional.softmax(outputs, dim=1).detach().cpu().numpy()\n",
    "    test_probs.append(softmax_outputs)\n",
    "    \n",
    "    test_probs_tids.extend(list(tids))\n",
    "\n",
    "test_probs = np.vstack(test_probs)\n",
    "\n",
    "np.savez_compressed('./data/mmhs150k_image_predict_probs_train.npz',\n",
    "                    predict_probs=test_probs,\n",
    "                    image_tweetID=test_probs_tids)"
   ]
  },
  {
   "cell_type": "code",
   "execution_count": null,
   "metadata": {
    "id": "-iJLlHD4wv82",
    "outputId": "dfb5f4ae-1c6b-480e-9d47-64fa45b52eac"
   },
   "outputs": [
    {
     "name": "stderr",
     "output_type": "stream",
     "text": [
      "100%|██████████| 157/157 [00:11<00:00, 13.32it/s]\n"
     ]
    }
   ],
   "source": [
    "# Developing set\n",
    "\n",
    "test_probs = []\n",
    "test_probs_tids = []\n",
    "\n",
    "for inputs, labels, tids in tqdm(dev_dataset_loader):\n",
    "    inputs = inputs.to(device)\n",
    "    labels = labels.to(device)\n",
    "\n",
    "    outputs = model(inputs)\n",
    "    softmax_outputs = nn.functional.softmax(outputs, dim=1).detach().cpu().numpy()\n",
    "    test_probs.append(softmax_outputs)\n",
    "    \n",
    "    test_probs_tids.extend(list(tids))\n",
    "\n",
    "test_probs = np.vstack(test_probs)\n",
    "\n",
    "np.savez_compressed('./data/mmhs150k_image_predict_probs_dev.npz',\n",
    "                    predict_probs=test_probs,\n",
    "                    image_tweetID=test_probs_tids)"
   ]
  },
  {
   "cell_type": "code",
   "execution_count": null,
   "metadata": {
    "id": "1UvZCH5Zwv85",
    "outputId": "d0ad99ad-25cb-4568-ecc6-b8c2f673c261"
   },
   "outputs": [
    {
     "data": {
      "text/plain": [
       "13608"
      ]
     },
     "execution_count": 47,
     "metadata": {},
     "output_type": "execute_result"
    }
   ],
   "source": [
    "len(test_probs_tids)"
   ]
  },
  {
   "cell_type": "code",
   "execution_count": null,
   "metadata": {
    "id": "OZmIDqRcwv86",
    "outputId": "d57d03eb-b507-44a9-b77f-6236702e7a05"
   },
   "outputs": [
    {
     "name": "stdout",
     "output_type": "stream",
     "text": [
      "(10000, 2)\n",
      "(10000,)\n"
     ]
    }
   ],
   "source": [
    "data = np.load('./data/mmhs150k_image_predict_probs_test.npz')\n",
    "print(data['predict_probs'].shape)\n",
    "print(data['image_tweetID'].shape)"
   ]
  },
  {
   "cell_type": "markdown",
   "metadata": {
    "id": "Mb7WFvzowv86"
   },
   "source": [
    "## Fake Image Dataset"
   ]
  },
  {
   "cell_type": "code",
   "execution_count": null,
   "metadata": {
    "id": "HOmVe3ywwv86"
   },
   "outputs": [],
   "source": [
    "import urllib.request\n",
    "\n",
    "# urllib.request.urlretrieve(\"http://www.digimouth.com/news/media/2011/09/google-logo.jpg\", \"local-filename.jpg\")"
   ]
  },
  {
   "cell_type": "code",
   "execution_count": null,
   "metadata": {
    "id": "SnewS3Cpwv86"
   },
   "outputs": [],
   "source": [
    "img_df = pd.read_csv('./verification/set_images.txt', sep='\\t')"
   ]
  },
  {
   "cell_type": "code",
   "execution_count": null,
   "metadata": {
    "id": "16Enlr6Iwv86",
    "outputId": "30513e7c-fe32-42b0-b884-57edcd77a881"
   },
   "outputs": [
    {
     "data": {
      "text/html": [
       "<div>\n",
       "<style scoped>\n",
       "    .dataframe tbody tr th:only-of-type {\n",
       "        vertical-align: middle;\n",
       "    }\n",
       "\n",
       "    .dataframe tbody tr th {\n",
       "        vertical-align: top;\n",
       "    }\n",
       "\n",
       "    .dataframe thead th {\n",
       "        text-align: right;\n",
       "    }\n",
       "</style>\n",
       "<table border=\"1\" class=\"dataframe\">\n",
       "  <thead>\n",
       "    <tr style=\"text-align: right;\">\n",
       "      <th></th>\n",
       "      <th>image_id</th>\n",
       "      <th>image_url</th>\n",
       "      <th>annotation</th>\n",
       "      <th>event</th>\n",
       "    </tr>\n",
       "  </thead>\n",
       "  <tbody>\n",
       "    <tr>\n",
       "      <th>0</th>\n",
       "      <td>boston_fake_01</td>\n",
       "      <td>http://i.imgur.com/LvoCC5T.jpg</td>\n",
       "      <td>fake</td>\n",
       "      <td>boston</td>\n",
       "    </tr>\n",
       "    <tr>\n",
       "      <th>1</th>\n",
       "      <td>boston_fake_02</td>\n",
       "      <td>http://instagram.com/p/YN7_ThPXrU/</td>\n",
       "      <td>fake</td>\n",
       "      <td>boston</td>\n",
       "    </tr>\n",
       "    <tr>\n",
       "      <th>2</th>\n",
       "      <td>boston_fake_03</td>\n",
       "      <td>https://o.twimg.com/2/proxy.jpg?t=HBgeaHR0cDov...</td>\n",
       "      <td>fake</td>\n",
       "      <td>boston</td>\n",
       "    </tr>\n",
       "    <tr>\n",
       "      <th>3</th>\n",
       "      <td>boston_fake_04</td>\n",
       "      <td>http://media.tumblr.com/a813460e72a178d8127b50...</td>\n",
       "      <td>fake</td>\n",
       "      <td>boston</td>\n",
       "    </tr>\n",
       "    <tr>\n",
       "      <th>4</th>\n",
       "      <td>boston_fake_05</td>\n",
       "      <td>http://i.imgur.com/uxAh4wwh.jpg</td>\n",
       "      <td>fake</td>\n",
       "      <td>boston</td>\n",
       "    </tr>\n",
       "  </tbody>\n",
       "</table>\n",
       "</div>"
      ],
      "text/plain": [
       "         image_id                                          image_url  \\\n",
       "0  boston_fake_01                     http://i.imgur.com/LvoCC5T.jpg   \n",
       "1  boston_fake_02                 http://instagram.com/p/YN7_ThPXrU/   \n",
       "2  boston_fake_03  https://o.twimg.com/2/proxy.jpg?t=HBgeaHR0cDov...   \n",
       "3  boston_fake_04  http://media.tumblr.com/a813460e72a178d8127b50...   \n",
       "4  boston_fake_05                    http://i.imgur.com/uxAh4wwh.jpg   \n",
       "\n",
       "  annotation   event  \n",
       "0       fake  boston  \n",
       "1       fake  boston  \n",
       "2       fake  boston  \n",
       "3       fake  boston  \n",
       "4       fake  boston  "
      ]
     },
     "execution_count": 54,
     "metadata": {},
     "output_type": "execute_result"
    }
   ],
   "source": [
    "img_df.head()"
   ]
  },
  {
   "cell_type": "code",
   "execution_count": null,
   "metadata": {
    "id": "AUunkwJuwv87",
    "outputId": "53e47625-cdb1-43cd-f95a-cf255c01551f"
   },
   "outputs": [
    {
     "data": {
      "text/plain": [
       "0                         http://i.imgur.com/LvoCC5T.jpg\n",
       "1                     http://instagram.com/p/YN7_ThPXrU/\n",
       "2      https://o.twimg.com/2/proxy.jpg?t=HBgeaHR0cDov...\n",
       "3      http://media.tumblr.com/a813460e72a178d8127b50...\n",
       "4                        http://i.imgur.com/uxAh4wwh.jpg\n",
       "                             ...                        \n",
       "394      https://pbs.twimg.com/media/Bic4fA5CQAAT5KY.jpg\n",
       "395      https://pbs.twimg.com/media/BialJuECIAATXE2.jpg\n",
       "396      https://pbs.twimg.com/media/BiVisqpCIAAbgju.jpg\n",
       "397      https://pbs.twimg.com/media/Bo-CY5ACcAAiRAw.jpg\n",
       "398      https://pbs.twimg.com/media/BpJguJhIMAAQsZK.jpg\n",
       "Name: image_url, Length: 399, dtype: object"
      ]
     },
     "execution_count": 55,
     "metadata": {},
     "output_type": "execute_result"
    }
   ],
   "source": [
    "img_df['image_url']"
   ]
  },
  {
   "cell_type": "code",
   "execution_count": null,
   "metadata": {
    "id": "4uQJCdAnwv87",
    "outputId": "c9fe3fd3-fd17-4231-ddf1-b96a8208905c"
   },
   "outputs": [
    {
     "data": {
      "text/plain": [
       "(399, 4)"
      ]
     },
     "execution_count": 56,
     "metadata": {},
     "output_type": "execute_result"
    }
   ],
   "source": [
    "img_df.shape"
   ]
  },
  {
   "cell_type": "code",
   "execution_count": null,
   "metadata": {
    "id": "Wp1COqR1wv87"
   },
   "outputs": [],
   "source": [
    "for i, row in img_df.iterrows():\n",
    "    try:\n",
    "        urllib.request.urlretrieve(row['image_url'], './verification/imgs/{}.jpg'.format(row['image_id']))\n",
    "    except:\n",
    "        pass"
   ]
  },
  {
   "cell_type": "code",
   "execution_count": null,
   "metadata": {
    "id": "u1l7ZEiPwv87"
   },
   "outputs": [],
   "source": []
  }
 ],
 "metadata": {
  "accelerator": "GPU",
  "colab": {
   "provenance": []
  },
  "gpuClass": "standard",
  "kernelspec": {
   "display_name": "Python 3",
   "language": "python",
   "name": "python3"
  },
  "language_info": {
   "codemirror_mode": {
    "name": "ipython",
    "version": 3
   },
   "file_extension": ".py",
   "mimetype": "text/x-python",
   "name": "python",
   "nbconvert_exporter": "python",
   "pygments_lexer": "ipython3",
   "version": "3.8.8"
  }
 },
 "nbformat": 4,
 "nbformat_minor": 1
}
