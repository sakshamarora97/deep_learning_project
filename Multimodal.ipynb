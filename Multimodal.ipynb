{
 "cells": [
  {
   "cell_type": "code",
   "execution_count": null,
   "id": "15cba77b",
   "metadata": {},
   "outputs": [],
   "source": [
    "import torch\n",
    "import numpy as np\n",
    "from pathlib import Path\n",
    "from torch.utils.data import Dataset\n",
    "import numpy as np\n",
    "import pandas as pd\n",
    "label_map = {\n",
    "    'affected_individuals': 0,\n",
    "    'infrastructure_and_utility_damage': 1,\n",
    "    'not_humanitarian': 2,\n",
    "    'other_relevant_information': 3,\n",
    "    'rescue_volunteering_or_donation_effort': 4,\n",
    "    'vehicle_damage': 1,\n",
    "    'injured_or_dead_people': 0,\n",
    "    'missing_or_found_people': 0\n",
    "}"
   ]
  },
  {
   "cell_type": "code",
   "execution_count": 68,
   "id": "4f703ba8",
   "metadata": {},
   "outputs": [],
   "source": [
    "\n",
    "\n",
    "class NPZLoader(Dataset):\n",
    "    def __init__(self, img_embed_filename,text_emb_filename,tsv_file, transform=None):\n",
    "#        self.files = list(Path(path).glob('*/*.npz'))\n",
    "#        self.transform = transform\n",
    "        self.text_embed = torch.load(text_embed_filename).mean(axis=1) # ../sporwal9/eng_test_data_emb.pt\n",
    "        self.img_emb = np.load(img_embed_filename) #image_model_ouputs/resnet18_image_embedding_512_test.npz\n",
    "        self.original_df = pd.read_csv(tsv_file, sep='\\t') #'../sverma324/data/crisis-mmd/task_humanitarian_text_img_train.tsv'\n",
    "        self.df = self.original_df.loc[original_df.label_text_image==\"Positive\"]\n",
    "        id_list=  list(self.df['tweet_id'].unique())\n",
    "    def __len__(self):\n",
    "        return len(self.df)\n",
    "\n",
    "    def __getitem__(self, idx):\n",
    "        image_tweetID = self.img_emb['image_tweetID'][idx]\n",
    "        \n",
    "        image_embedding = torch.from_numpy(self.img_emb['image_embedding'][idx].squeeze(1))\n",
    "        \n",
    "        text_embedding = self.text_embed[idx].unsqueeze(1)\n",
    "        fusion_emb = torch.cat((text_embedding.cuda(),image_embedding.cuda()),dim=0)\n",
    "        label = self.df.loc[self.df['tweet_id']==image_tweetID,'label'][0]\n",
    "        if image_tweetID in id_list :\n",
    "            return fusion_emb,image_tweetID,label\n"
   ]
  },
  {
   "cell_type": "code",
   "execution_count": 89,
   "id": "70de459b",
   "metadata": {},
   "outputs": [
    {
     "data": {
      "text/plain": [
       "array(['rescue_volunteering_or_donation_effort'], dtype=object)"
      ]
     },
     "execution_count": 89,
     "metadata": {},
     "output_type": "execute_result"
    }
   ],
   "source": [
    "df.loc[df['tweet_id']==905952332923338752,'label'].values"
   ]
  },
  {
   "cell_type": "code",
   "execution_count": 80,
   "id": "74eb7b11",
   "metadata": {
    "scrolled": true
   },
   "outputs": [
    {
     "data": {
      "text/html": [
       "<div>\n",
       "<style scoped>\n",
       "    .dataframe tbody tr th:only-of-type {\n",
       "        vertical-align: middle;\n",
       "    }\n",
       "\n",
       "    .dataframe tbody tr th {\n",
       "        vertical-align: top;\n",
       "    }\n",
       "\n",
       "    .dataframe thead th {\n",
       "        text-align: right;\n",
       "    }\n",
       "</style>\n",
       "<table border=\"1\" class=\"dataframe\">\n",
       "  <thead>\n",
       "    <tr style=\"text-align: right;\">\n",
       "      <th></th>\n",
       "      <th>event_name</th>\n",
       "      <th>tweet_id</th>\n",
       "      <th>image_id</th>\n",
       "      <th>tweet_text</th>\n",
       "      <th>image</th>\n",
       "      <th>label</th>\n",
       "      <th>label_text</th>\n",
       "      <th>label_image</th>\n",
       "      <th>label_text_image</th>\n",
       "    </tr>\n",
       "  </thead>\n",
       "  <tbody>\n",
       "    <tr>\n",
       "      <th>0</th>\n",
       "      <td>hurricane_harvey</td>\n",
       "      <td>905952332923338752</td>\n",
       "      <td>905952332923338752_0</td>\n",
       "      <td>.@Lendio has a great event tomorrow for both #...</td>\n",
       "      <td>data_image/hurricane_harvey/8_9_2017/905952332...</td>\n",
       "      <td>rescue_volunteering_or_donation_effort</td>\n",
       "      <td>rescue_volunteering_or_donation_effort</td>\n",
       "      <td>rescue_volunteering_or_donation_effort</td>\n",
       "      <td>Positive</td>\n",
       "    </tr>\n",
       "    <tr>\n",
       "      <th>1</th>\n",
       "      <td>mexico_earthquake</td>\n",
       "      <td>912022130396672000</td>\n",
       "      <td>912022130396672000_0</td>\n",
       "      <td>Now @ReposadoBar also Carlo surf band at 8pm #...</td>\n",
       "      <td>data_image/mexico_earthquake/24_9_2017/9120221...</td>\n",
       "      <td>not_humanitarian</td>\n",
       "      <td>not_humanitarian</td>\n",
       "      <td>not_humanitarian</td>\n",
       "      <td>Positive</td>\n",
       "    </tr>\n",
       "    <tr>\n",
       "      <th>3</th>\n",
       "      <td>hurricane_maria</td>\n",
       "      <td>927758858776465408</td>\n",
       "      <td>927758858776465408_0</td>\n",
       "      <td>Guaynabo resident Efrain Diaz stands by a brid...</td>\n",
       "      <td>data_image/hurricane_maria/7_11_2017/927758858...</td>\n",
       "      <td>infrastructure_and_utility_damage</td>\n",
       "      <td>infrastructure_and_utility_damage</td>\n",
       "      <td>infrastructure_and_utility_damage</td>\n",
       "      <td>Positive</td>\n",
       "    </tr>\n",
       "    <tr>\n",
       "      <th>4</th>\n",
       "      <td>hurricane_harvey</td>\n",
       "      <td>907654309587779584</td>\n",
       "      <td>907654309587779584_0</td>\n",
       "      <td>After Harvey, Irma Leaves Its Own Trail of Des...</td>\n",
       "      <td>data_image/hurricane_harvey/12_9_2017/90765430...</td>\n",
       "      <td>other_relevant_information</td>\n",
       "      <td>other_relevant_information</td>\n",
       "      <td>other_relevant_information</td>\n",
       "      <td>Positive</td>\n",
       "    </tr>\n",
       "    <tr>\n",
       "      <th>5</th>\n",
       "      <td>hurricane_maria</td>\n",
       "      <td>913745586104528898</td>\n",
       "      <td>913745586104528898_0</td>\n",
       "      <td>Dawn just won $400 and we're gonna match the a...</td>\n",
       "      <td>data_image/hurricane_maria/29_9_2017/913745586...</td>\n",
       "      <td>not_humanitarian</td>\n",
       "      <td>not_humanitarian</td>\n",
       "      <td>not_humanitarian</td>\n",
       "      <td>Positive</td>\n",
       "    </tr>\n",
       "    <tr>\n",
       "      <th>...</th>\n",
       "      <td>...</td>\n",
       "      <td>...</td>\n",
       "      <td>...</td>\n",
       "      <td>...</td>\n",
       "      <td>...</td>\n",
       "      <td>...</td>\n",
       "      <td>...</td>\n",
       "      <td>...</td>\n",
       "      <td>...</td>\n",
       "    </tr>\n",
       "    <tr>\n",
       "      <th>2228</th>\n",
       "      <td>iraq_iran_earthquake</td>\n",
       "      <td>930415579294584834</td>\n",
       "      <td>930415579294584834_0</td>\n",
       "      <td>Iran: Survivors struggle in aftermath of year'...</td>\n",
       "      <td>data_image/iraq_iran_earthquake/14_11_2017/930...</td>\n",
       "      <td>affected_individuals</td>\n",
       "      <td>affected_individuals</td>\n",
       "      <td>affected_individuals</td>\n",
       "      <td>Positive</td>\n",
       "    </tr>\n",
       "    <tr>\n",
       "      <th>2229</th>\n",
       "      <td>california_wildfires</td>\n",
       "      <td>923088359089688577</td>\n",
       "      <td>923088359089688577_0</td>\n",
       "      <td>#LosAngelesTimes | The package includes $576.5...</td>\n",
       "      <td>data_image/california_wildfires/25_10_2017/923...</td>\n",
       "      <td>not_humanitarian</td>\n",
       "      <td>not_humanitarian</td>\n",
       "      <td>not_humanitarian</td>\n",
       "      <td>Positive</td>\n",
       "    </tr>\n",
       "    <tr>\n",
       "      <th>2231</th>\n",
       "      <td>mexico_earthquake</td>\n",
       "      <td>910670262789709824</td>\n",
       "      <td>910670262789709824_0</td>\n",
       "      <td>S A F E B O Y E S ready to look for people aft...</td>\n",
       "      <td>data_image/mexico_earthquake/21_9_2017/9106702...</td>\n",
       "      <td>rescue_volunteering_or_donation_effort</td>\n",
       "      <td>rescue_volunteering_or_donation_effort</td>\n",
       "      <td>rescue_volunteering_or_donation_effort</td>\n",
       "      <td>Positive</td>\n",
       "    </tr>\n",
       "    <tr>\n",
       "      <th>2232</th>\n",
       "      <td>california_wildfires</td>\n",
       "      <td>921130711863631872</td>\n",
       "      <td>921130711863631872_0</td>\n",
       "      <td>#thesciencemic NASA Map of Wildfire Damage Hel...</td>\n",
       "      <td>data_image/california_wildfires/19_10_2017/921...</td>\n",
       "      <td>other_relevant_information</td>\n",
       "      <td>other_relevant_information</td>\n",
       "      <td>other_relevant_information</td>\n",
       "      <td>Positive</td>\n",
       "    </tr>\n",
       "    <tr>\n",
       "      <th>2235</th>\n",
       "      <td>hurricane_harvey</td>\n",
       "      <td>904549453058715648</td>\n",
       "      <td>904549453058715648_0</td>\n",
       "      <td>#Harvey damage could reach $180 billion - http...</td>\n",
       "      <td>data_image/hurricane_harvey/4_9_2017/904549453...</td>\n",
       "      <td>infrastructure_and_utility_damage</td>\n",
       "      <td>infrastructure_and_utility_damage</td>\n",
       "      <td>infrastructure_and_utility_damage</td>\n",
       "      <td>Positive</td>\n",
       "    </tr>\n",
       "  </tbody>\n",
       "</table>\n",
       "<p>955 rows × 9 columns</p>\n",
       "</div>"
      ],
      "text/plain": [
       "                event_name            tweet_id              image_id  \\\n",
       "0         hurricane_harvey  905952332923338752  905952332923338752_0   \n",
       "1        mexico_earthquake  912022130396672000  912022130396672000_0   \n",
       "3          hurricane_maria  927758858776465408  927758858776465408_0   \n",
       "4         hurricane_harvey  907654309587779584  907654309587779584_0   \n",
       "5          hurricane_maria  913745586104528898  913745586104528898_0   \n",
       "...                    ...                 ...                   ...   \n",
       "2228  iraq_iran_earthquake  930415579294584834  930415579294584834_0   \n",
       "2229  california_wildfires  923088359089688577  923088359089688577_0   \n",
       "2231     mexico_earthquake  910670262789709824  910670262789709824_0   \n",
       "2232  california_wildfires  921130711863631872  921130711863631872_0   \n",
       "2235      hurricane_harvey  904549453058715648  904549453058715648_0   \n",
       "\n",
       "                                             tweet_text  \\\n",
       "0     .@Lendio has a great event tomorrow for both #...   \n",
       "1     Now @ReposadoBar also Carlo surf band at 8pm #...   \n",
       "3     Guaynabo resident Efrain Diaz stands by a brid...   \n",
       "4     After Harvey, Irma Leaves Its Own Trail of Des...   \n",
       "5     Dawn just won $400 and we're gonna match the a...   \n",
       "...                                                 ...   \n",
       "2228  Iran: Survivors struggle in aftermath of year'...   \n",
       "2229  #LosAngelesTimes | The package includes $576.5...   \n",
       "2231  S A F E B O Y E S ready to look for people aft...   \n",
       "2232  #thesciencemic NASA Map of Wildfire Damage Hel...   \n",
       "2235  #Harvey damage could reach $180 billion - http...   \n",
       "\n",
       "                                                  image  \\\n",
       "0     data_image/hurricane_harvey/8_9_2017/905952332...   \n",
       "1     data_image/mexico_earthquake/24_9_2017/9120221...   \n",
       "3     data_image/hurricane_maria/7_11_2017/927758858...   \n",
       "4     data_image/hurricane_harvey/12_9_2017/90765430...   \n",
       "5     data_image/hurricane_maria/29_9_2017/913745586...   \n",
       "...                                                 ...   \n",
       "2228  data_image/iraq_iran_earthquake/14_11_2017/930...   \n",
       "2229  data_image/california_wildfires/25_10_2017/923...   \n",
       "2231  data_image/mexico_earthquake/21_9_2017/9106702...   \n",
       "2232  data_image/california_wildfires/19_10_2017/921...   \n",
       "2235  data_image/hurricane_harvey/4_9_2017/904549453...   \n",
       "\n",
       "                                       label  \\\n",
       "0     rescue_volunteering_or_donation_effort   \n",
       "1                           not_humanitarian   \n",
       "3          infrastructure_and_utility_damage   \n",
       "4                 other_relevant_information   \n",
       "5                           not_humanitarian   \n",
       "...                                      ...   \n",
       "2228                    affected_individuals   \n",
       "2229                        not_humanitarian   \n",
       "2231  rescue_volunteering_or_donation_effort   \n",
       "2232              other_relevant_information   \n",
       "2235       infrastructure_and_utility_damage   \n",
       "\n",
       "                                  label_text  \\\n",
       "0     rescue_volunteering_or_donation_effort   \n",
       "1                           not_humanitarian   \n",
       "3          infrastructure_and_utility_damage   \n",
       "4                 other_relevant_information   \n",
       "5                           not_humanitarian   \n",
       "...                                      ...   \n",
       "2228                    affected_individuals   \n",
       "2229                        not_humanitarian   \n",
       "2231  rescue_volunteering_or_donation_effort   \n",
       "2232              other_relevant_information   \n",
       "2235       infrastructure_and_utility_damage   \n",
       "\n",
       "                                 label_image label_text_image  \n",
       "0     rescue_volunteering_or_donation_effort         Positive  \n",
       "1                           not_humanitarian         Positive  \n",
       "3          infrastructure_and_utility_damage         Positive  \n",
       "4                 other_relevant_information         Positive  \n",
       "5                           not_humanitarian         Positive  \n",
       "...                                      ...              ...  \n",
       "2228                    affected_individuals         Positive  \n",
       "2229                        not_humanitarian         Positive  \n",
       "2231  rescue_volunteering_or_donation_effort         Positive  \n",
       "2232              other_relevant_information         Positive  \n",
       "2235       infrastructure_and_utility_damage         Positive  \n",
       "\n",
       "[955 rows x 9 columns]"
      ]
     },
     "execution_count": 80,
     "metadata": {},
     "output_type": "execute_result"
    }
   ],
   "source": [
    "tsv_file = '../sverma324/data/crisis-mmd/task_humanitarian_text_img_test.tsv'\n",
    "original_df = pd.read_csv(tsv_file, sep='\\t') \n",
    "df = original_df.loc[original_df.label_text_image==\"Positive\"]\n",
    "# df[df['tweet_id']=='905952332923338752','label']\n",
    "df"
   ]
  },
  {
   "cell_type": "code",
   "execution_count": 3,
   "id": "6f6a4bb3",
   "metadata": {},
   "outputs": [],
   "source": [
    "import torch"
   ]
  },
  {
   "cell_type": "code",
   "execution_count": 4,
   "id": "c2b78fc8",
   "metadata": {
    "scrolled": true
   },
   "outputs": [],
   "source": [
    "txt_emb = torch.load('../sporwal9/eng_test_data_emb.pt')\n",
    "# txt_emb.shape"
   ]
  },
  {
   "cell_type": "code",
   "execution_count": 58,
   "id": "6b761c6b",
   "metadata": {
    "scrolled": false
   },
   "outputs": [],
   "source": [
    "txt = txt_emb.mean(axis=1)[0].unsqueeze(1)"
   ]
  },
  {
   "cell_type": "code",
   "execution_count": 74,
   "id": "6ac41dd8",
   "metadata": {},
   "outputs": [],
   "source": [
    "img_emb = np.load(\"image_model_ouputs/resnet18_image_embedding_512_test.npz\")\n"
   ]
  },
  {
   "cell_type": "code",
   "execution_count": 75,
   "id": "3c4c9052",
   "metadata": {},
   "outputs": [],
   "source": [
    "image_embedding, image_tweetID = img_emb['image_embedding'],img_emb['image_tweetID']"
   ]
  },
  {
   "cell_type": "code",
   "execution_count": 63,
   "id": "dd9a284b",
   "metadata": {},
   "outputs": [],
   "source": [
    "img = torch.from_numpy(image_embedding[0].squeeze(1))"
   ]
  },
  {
   "cell_type": "code",
   "execution_count": 64,
   "id": "613f0fa7",
   "metadata": {},
   "outputs": [
    {
     "data": {
      "text/plain": [
       "(torch.Size([768, 1]), torch.Size([512, 1]))"
      ]
     },
     "execution_count": 64,
     "metadata": {},
     "output_type": "execute_result"
    }
   ],
   "source": [
    "txt.shape,img.shape"
   ]
  },
  {
   "cell_type": "code",
   "execution_count": 67,
   "id": "3913d665",
   "metadata": {},
   "outputs": [
    {
     "data": {
      "text/plain": [
       "torch.Size([1280, 1])"
      ]
     },
     "execution_count": 67,
     "metadata": {},
     "output_type": "execute_result"
    }
   ],
   "source": [
    "torch.cat((txt.cuda(),img.cuda()),dim=0).shape"
   ]
  },
  {
   "cell_type": "code",
   "execution_count": 11,
   "id": "16ebb71a",
   "metadata": {
    "scrolled": true
   },
   "outputs": [
    {
     "data": {
      "text/plain": [
       "40824"
      ]
     },
     "execution_count": 11,
     "metadata": {},
     "output_type": "execute_result"
    }
   ],
   "source": [
    "len(a['image_embedding'])"
   ]
  },
  {
   "cell_type": "code",
   "execution_count": 43,
   "id": "654ca310",
   "metadata": {
    "scrolled": true
   },
   "outputs": [
    {
     "data": {
      "text/plain": [
       "(6126, 9)"
      ]
     },
     "execution_count": 43,
     "metadata": {},
     "output_type": "execute_result"
    }
   ],
   "source": [
    "original_df.shape"
   ]
  },
  {
   "cell_type": "code",
   "execution_count": 77,
   "id": "ad7d3818",
   "metadata": {},
   "outputs": [
    {
     "data": {
      "text/plain": [
       "2237"
      ]
     },
     "execution_count": 77,
     "metadata": {},
     "output_type": "execute_result"
    }
   ],
   "source": [
    "len(image_tweetID)"
   ]
  },
  {
   "cell_type": "code",
   "execution_count": null,
   "id": "71fc349e",
   "metadata": {},
   "outputs": [],
   "source": [
    "train_dataset = NPZLoader()"
   ]
  }
 ],
 "metadata": {
  "kernelspec": {
   "display_name": "Python 3",
   "language": "python",
   "name": "python3"
  },
  "language_info": {
   "codemirror_mode": {
    "name": "ipython",
    "version": 3
   },
   "file_extension": ".py",
   "mimetype": "text/x-python",
   "name": "python",
   "nbconvert_exporter": "python",
   "pygments_lexer": "ipython3",
   "version": "3.8.8"
  }
 },
 "nbformat": 4,
 "nbformat_minor": 5
}
