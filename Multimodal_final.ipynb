{
 "cells": [
  {
   "cell_type": "code",
   "execution_count": 1,
   "id": "15cba77b",
   "metadata": {},
   "outputs": [],
   "source": [
    "import matplotlib.pyplot as plt\n",
    "import torch\n",
    "from sklearn.metrics import classification_report\n",
    "import os\n",
    "from transformers import Trainer, TrainingArguments\n",
    "import numpy as np\n",
    "from pathlib import Path\n",
    "from torch.utils.data import Dataset\n",
    "import pandas as pd\n",
    "label_map = {\n",
    "    'affected_individuals': 0,\n",
    "    'infrastructure_and_utility_damage': 1,\n",
    "    'not_humanitarian': 2,\n",
    "    'other_relevant_information': 3,\n",
    "    'rescue_volunteering_or_donation_effort': 4,\n",
    "    'vehicle_damage': 1,\n",
    "    'injured_or_dead_people': 0,\n",
    "    'missing_or_found_people': 0\n",
    "}"
   ]
  },
  {
   "cell_type": "code",
   "execution_count": 2,
   "id": "4f703ba8",
   "metadata": {},
   "outputs": [],
   "source": [
    "class NPZLoader(Dataset):\n",
    "    def __init__(self, img_embed_filename,text_emb_filename,tsv_file, transform=None):\n",
    "#        self.files = list(Path(path).glob('*/*.npz'))\n",
    "#        self.transform = transform\n",
    "        self.text_embed = torch.load(text_embed_filename).mean(axis=1) # ../sporwal9/eng_test_data_emb.pt\n",
    "        self.img_emb = np.load(img_embed_filename) #image_model_ouputs/resnet18_image_embedding_512_test.npz\n",
    "        self.original_df = pd.read_csv(tsv_file, sep='\\t') #'../sverma324/data/crisis-mmd/task_humanitarian_text_img_train.tsv'\n",
    "        self.df = self.original_df.loc[original_df.label_text_image==\"Positive\"]\n",
    "        id_list=  list(self.df['tweet_id'].unique())\n",
    "    def __len__(self):\n",
    "        return len(self.df)\n",
    "\n",
    "    def __getitem__(self, idx):\n",
    "        image_tweetID = self.img_emb['image_tweetID'][idx]\n",
    "        \n",
    "        image_embedding = torch.from_numpy(self.img_emb['image_embedding'][idx].squeeze(1))\n",
    "        \n",
    "        text_embedding = self.text_embed[idx].unsqueeze(1)\n",
    "        fusion_emb = torch.cat((text_embedding.cuda(),image_embedding.cuda()),dim=0)\n",
    "        label = self.df.loc[self.df['tweet_id']==image_tweetID,'label'][0]\n",
    "        if image_tweetID in id_list :\n",
    "            return fusion_emb,image_tweetID,label\n"
   ]
  },
  {
   "cell_type": "code",
   "execution_count": 3,
   "id": "518b5e01",
   "metadata": {},
   "outputs": [],
   "source": [
    "def AlignFormatLabels(list, labels):\n",
    "    aligned_list = []\n",
    "    for item in list:\n",
    "        if item == 'vehicle_damage':\n",
    "            aligned_list.append('infrastructure_and_utility_damage')\n",
    "        elif item == 'missing_or_found_people' or item == 'injured_or_dead_people':\n",
    "            aligned_list.append('affected_individuals')\n",
    "        else:\n",
    "            aligned_list.append(item)\n",
    "    final_labels = []\n",
    "    for item in aligned_list:\n",
    "        final_labels.append(labels.index(item))\n",
    "    return final_labels\n",
    "\n",
    "my_labels = ['other_relevant_information', 'affected_individuals', 'rescue_volunteering_or_donation_effort', \n",
    "             'infrastructure_and_utility_damage', 'not_humanitarian']"
   ]
  },
  {
   "cell_type": "markdown",
   "id": "fa033932",
   "metadata": {},
   "source": [
    "## Pre-processing"
   ]
  },
  {
   "cell_type": "code",
   "execution_count": 4,
   "id": "74eb7b11",
   "metadata": {
    "scrolled": true
   },
   "outputs": [
    {
     "data": {
      "text/plain": [
       "((13608, 9), (2237, 9), (2237, 9))"
      ]
     },
     "execution_count": 4,
     "metadata": {},
     "output_type": "execute_result"
    }
   ],
   "source": [
    "test_tsv_file = '../sverma324/data/crisis-mmd/task_humanitarian_text_img_test.tsv'\n",
    "train_tsv_file = '../sverma324/data/crisis-mmd/task_humanitarian_text_img_train.tsv'\n",
    "val_tsv_file = '../sverma324/data/crisis-mmd/task_humanitarian_text_img_dev.tsv'\n",
    "\n",
    "df_test = pd.read_csv(test_tsv_file, sep='\\t')\n",
    "df_train = pd.read_csv(train_tsv_file, sep='\\t')\n",
    "df_val = pd.read_csv(val_tsv_file, sep='\\t')\n",
    "\n",
    "df_train.shape, df_test.shape, df_val.shape"
   ]
  },
  {
   "cell_type": "code",
   "execution_count": 5,
   "id": "8c6df4e4",
   "metadata": {},
   "outputs": [
    {
     "data": {
      "text/html": [
       "<div>\n",
       "<style scoped>\n",
       "    .dataframe tbody tr th:only-of-type {\n",
       "        vertical-align: middle;\n",
       "    }\n",
       "\n",
       "    .dataframe tbody tr th {\n",
       "        vertical-align: top;\n",
       "    }\n",
       "\n",
       "    .dataframe thead th {\n",
       "        text-align: right;\n",
       "    }\n",
       "</style>\n",
       "<table border=\"1\" class=\"dataframe\">\n",
       "  <thead>\n",
       "    <tr style=\"text-align: right;\">\n",
       "      <th></th>\n",
       "      <th>event_name</th>\n",
       "      <th>tweet_id</th>\n",
       "      <th>image_id</th>\n",
       "      <th>tweet_text</th>\n",
       "      <th>image</th>\n",
       "      <th>label</th>\n",
       "      <th>label_text</th>\n",
       "      <th>label_image</th>\n",
       "      <th>label_text_image</th>\n",
       "    </tr>\n",
       "  </thead>\n",
       "  <tbody>\n",
       "    <tr>\n",
       "      <th>0</th>\n",
       "      <td>california_wildfires</td>\n",
       "      <td>917791291823591425</td>\n",
       "      <td>917791291823591425_1</td>\n",
       "      <td>RT @Cal_OES: PLS SHARE: Weâ€™re capturing wild...</td>\n",
       "      <td>data_image/california_wildfires/10_10_2017/917...</td>\n",
       "      <td>not_humanitarian</td>\n",
       "      <td>other_relevant_information</td>\n",
       "      <td>not_humanitarian</td>\n",
       "      <td>Negative</td>\n",
       "    </tr>\n",
       "    <tr>\n",
       "      <th>1</th>\n",
       "      <td>california_wildfires</td>\n",
       "      <td>917791291823591425</td>\n",
       "      <td>917791291823591425_0</td>\n",
       "      <td>RT @Cal_OES: PLS SHARE: Weâ€™re capturing wild...</td>\n",
       "      <td>data_image/california_wildfires/10_10_2017/917...</td>\n",
       "      <td>other_relevant_information</td>\n",
       "      <td>other_relevant_information</td>\n",
       "      <td>infrastructure_and_utility_damage</td>\n",
       "      <td>Negative</td>\n",
       "    </tr>\n",
       "  </tbody>\n",
       "</table>\n",
       "</div>"
      ],
      "text/plain": [
       "             event_name            tweet_id              image_id   \n",
       "0  california_wildfires  917791291823591425  917791291823591425_1  \\\n",
       "1  california_wildfires  917791291823591425  917791291823591425_0   \n",
       "\n",
       "                                          tweet_text   \n",
       "0  RT @Cal_OES: PLS SHARE: Weâ€™re capturing wild...  \\\n",
       "1  RT @Cal_OES: PLS SHARE: Weâ€™re capturing wild...   \n",
       "\n",
       "                                               image   \n",
       "0  data_image/california_wildfires/10_10_2017/917...  \\\n",
       "1  data_image/california_wildfires/10_10_2017/917...   \n",
       "\n",
       "                        label                  label_text   \n",
       "0            not_humanitarian  other_relevant_information  \\\n",
       "1  other_relevant_information  other_relevant_information   \n",
       "\n",
       "                         label_image label_text_image  \n",
       "0                   not_humanitarian         Negative  \n",
       "1  infrastructure_and_utility_damage         Negative  "
      ]
     },
     "execution_count": 5,
     "metadata": {},
     "output_type": "execute_result"
    }
   ],
   "source": [
    "df_train.head(2)"
   ]
  },
  {
   "cell_type": "code",
   "execution_count": 6,
   "id": "c4f33853",
   "metadata": {},
   "outputs": [
    {
     "name": "stdout",
     "output_type": "stream",
     "text": [
      "955 6126\n"
     ]
    }
   ],
   "source": [
    "# get training labels in right format\n",
    "raw_train_labels = df_train[df_train.label_text_image == \"Positive\"][\"label_text\"]\n",
    "train_labels = torch.Tensor(AlignFormatLabels(raw_train_labels, my_labels))\n",
    "\n",
    "# get testing labels in right format\n",
    "raw_test_labels = df_test[df_test.label_text_image == \"Positive\"][\"label_text\"]\n",
    "test_labels = torch.Tensor(AlignFormatLabels(raw_test_labels, my_labels))\n",
    "\n",
    "train_labels.to(\"cuda\")\n",
    "test_labels.to(\"cuda\")\n",
    "\n",
    "print(len(test_labels), len(train_labels))"
   ]
  },
  {
   "cell_type": "code",
   "execution_count": 8,
   "id": "d9af3006",
   "metadata": {},
   "outputs": [],
   "source": [
    "positive_ids_train = df_train.loc[df_train.label_text_image==\"Positive\"].index"
   ]
  },
  {
   "cell_type": "code",
   "execution_count": 9,
   "id": "c2b78fc8",
   "metadata": {
    "scrolled": true
   },
   "outputs": [],
   "source": [
    "text_emb_test_raw = torch.load('../sporwal9/hindi_test_data_emb.pt')\n",
    "text_emb_train_raw = torch.load('../sporwal9/hindi_train_data_emb.pt')\n",
    "# text_emb_val_raw = torch.load('../sporwal9/eng_dev_data_emb.pt')"
   ]
  },
  {
   "cell_type": "code",
   "execution_count": 10,
   "id": "6b761c6b",
   "metadata": {
    "scrolled": false
   },
   "outputs": [],
   "source": [
    "text_emb_test = text_emb_test_raw.mean(axis=1).squeeze(1)\n",
    "text_emb_train = text_emb_train_raw.mean(axis=1).squeeze(1)\n",
    "# text_emb_val = text_emb_val_raw.mean(axis=1).squeeze(1)"
   ]
  },
  {
   "cell_type": "code",
   "execution_count": 11,
   "id": "6373a242",
   "metadata": {},
   "outputs": [
    {
     "data": {
      "text/plain": [
       "(torch.Size([955, 256]), torch.Size([6126, 256]))"
      ]
     },
     "execution_count": 11,
     "metadata": {},
     "output_type": "execute_result"
    }
   ],
   "source": [
    "text_emb_test.shape, text_emb_train.shape"
   ]
  },
  {
   "cell_type": "code",
   "execution_count": 12,
   "id": "6ac41dd8",
   "metadata": {},
   "outputs": [],
   "source": [
    "img_emb_test_raw = np.load(\"image_model_ouputs/resnet18_image_embedding_512_test.npz\")\n",
    "img_emb_train_raw = np.load(\"image_model_ouputs/resnet18_image_embedding_512_train.npz\")\n",
    "# img_emb_val_raw = np.load(\"image_model_ouputs/resnet18_image_embedding_512_dev.npz\")"
   ]
  },
  {
   "cell_type": "code",
   "execution_count": 13,
   "id": "3c4c9052",
   "metadata": {},
   "outputs": [],
   "source": [
    "img_emb_test, img_tweetID_test = img_emb_test_raw['image_embedding'], img_emb_test_raw['image_tweetID']\n",
    "img_emb_train, img_tweetID_train = img_emb_train_raw['image_embedding'], img_emb_train_raw['image_tweetID']\n",
    "# img_emb_val, img_tweetID_val = img_emb_val_raw['image_embedding'], img_emb_val_raw['image_tweetID']\n",
    "\n",
    "img_emb_test = torch.from_numpy(img_emb_test[0:955]).squeeze((2,3))\n",
    "img_emb_train = torch.from_numpy(img_emb_train[0:13608]).squeeze((2,3))\n",
    "# img_emb_val = torch.from_numpy(img_emb_val).squeeze((2,3))\n",
    "\n",
    "img_emb_train = img_emb_train[positive_ids_train]"
   ]
  },
  {
   "cell_type": "code",
   "execution_count": 14,
   "id": "1c97beca",
   "metadata": {},
   "outputs": [
    {
     "data": {
      "text/plain": [
       "(torch.Size([955, 512]), torch.Size([6126, 512]))"
      ]
     },
     "execution_count": 14,
     "metadata": {},
     "output_type": "execute_result"
    }
   ],
   "source": [
    "img_emb_test.shape, img_emb_train.shape"
   ]
  },
  {
   "cell_type": "code",
   "execution_count": 15,
   "id": "c3ead626",
   "metadata": {},
   "outputs": [
    {
     "data": {
      "text/plain": [
       "((955,), (13608,))"
      ]
     },
     "execution_count": 15,
     "metadata": {},
     "output_type": "execute_result"
    }
   ],
   "source": [
    "img_tweetID_test.shape, img_tweetID_train.shape"
   ]
  },
  {
   "cell_type": "code",
   "execution_count": 16,
   "id": "3913d665",
   "metadata": {},
   "outputs": [],
   "source": [
    "X_train = torch.cat((text_emb_train.cuda(), img_emb_train.cuda()), dim=1)\n",
    "X_test = torch.cat((text_emb_test.cuda(), img_emb_test.cuda()), dim=1)\n",
    "\n",
    "# train_dataset = DatasetFormatting(X_train, train_labels)\n",
    "# test_dataset = DatasetFormatting(X_test, test_labels)"
   ]
  },
  {
   "cell_type": "code",
   "execution_count": 17,
   "id": "16ebb71a",
   "metadata": {
    "scrolled": true
   },
   "outputs": [
    {
     "data": {
      "text/plain": [
       "(torch.Size([6126, 768]), torch.Size([955, 768]))"
      ]
     },
     "execution_count": 17,
     "metadata": {},
     "output_type": "execute_result"
    }
   ],
   "source": [
    "X_train.shape, X_test.shape"
   ]
  },
  {
   "cell_type": "markdown",
   "id": "1ade2caa",
   "metadata": {},
   "source": [
    "## Multimodal Network"
   ]
  },
  {
   "cell_type": "code",
   "execution_count": 18,
   "id": "fc7d1c63",
   "metadata": {},
   "outputs": [
    {
     "name": "stdout",
     "output_type": "stream",
     "text": [
      "1024 512 128 32 5\n"
     ]
    }
   ],
   "source": [
    "in_features = 1024\n",
    "h1 = 512\n",
    "h2 = 128\n",
    "h3 = 32\n",
    "out_features = 5\n",
    "\n",
    "print(in_features, h1, h2, h3, out_features)"
   ]
  },
  {
   "cell_type": "code",
   "execution_count": 19,
   "id": "357b700e",
   "metadata": {},
   "outputs": [
    {
     "data": {
      "text/plain": [
       "Multimodal(\n",
       "  (multimodal): Sequential(\n",
       "    (0): Linear(in_features=768, out_features=1024, bias=True)\n",
       "    (1): Dropout(p=0.1, inplace=False)\n",
       "    (2): ReLU()\n",
       "    (3): Linear(in_features=1024, out_features=512, bias=True)\n",
       "    (4): Dropout(p=0.1, inplace=False)\n",
       "    (5): ReLU()\n",
       "    (6): Linear(in_features=512, out_features=128, bias=True)\n",
       "    (7): Dropout(p=0.1, inplace=False)\n",
       "    (8): ReLU()\n",
       "    (9): Linear(in_features=128, out_features=32, bias=True)\n",
       "    (10): Dropout(p=0.1, inplace=False)\n",
       "    (11): ReLU()\n",
       "    (12): Linear(in_features=32, out_features=5, bias=True)\n",
       "    (13): Dropout(p=0.1, inplace=False)\n",
       "  )\n",
       ")"
      ]
     },
     "execution_count": 19,
     "metadata": {},
     "output_type": "execute_result"
    }
   ],
   "source": [
    "class Multimodal(torch.nn.Module):\n",
    "    def __init__(self):\n",
    "        super().__init__()\n",
    "        self.multimodal = torch.nn.Sequential(\n",
    "            # input layer\n",
    "            torch.nn.Linear(X_train.shape[1], in_features),\n",
    "            # dropout\n",
    "            torch.nn.Dropout(0.1),\n",
    "            # ReLU activation\n",
    "            torch.nn.ReLU(),\n",
    "            # hidden_layer1\n",
    "            torch.nn.Linear(in_features, h1),\n",
    "            # dropout\n",
    "            torch.nn.Dropout(0.1),\n",
    "            # ReLU activation\n",
    "            torch.nn.ReLU(),\n",
    "            # hidden_layer2\n",
    "            torch.nn.Linear(h1, h2),\n",
    "            # dropout\n",
    "            torch.nn.Dropout(0.1),\n",
    "            # ReLU activation\n",
    "            torch.nn.ReLU(),\n",
    "            # hidden_layer3\n",
    "            torch.nn.Linear(h2, h3),\n",
    "            # dropout\n",
    "            torch.nn.Dropout(0.1),\n",
    "            # ReLU activation\n",
    "            torch.nn.ReLU(),\n",
    "            # output layer\n",
    "            torch.nn.Linear(h3, out_features),\n",
    "            # dropout\n",
    "            torch.nn.Dropout(0.1)\n",
    "        )\n",
    "        \n",
    "    def forward(self, x):\n",
    "        return self.multimodal(x)\n",
    "    \n",
    "multimodal = Multimodal()\n",
    "multimodal.to(\"cuda\")"
   ]
  },
  {
   "cell_type": "code",
   "execution_count": 20,
   "id": "e9036c4b",
   "metadata": {},
   "outputs": [],
   "source": [
    "EPOCHS = 10\n",
    "batch_size = 100\n",
    "criterion = torch.nn.CrossEntropyLoss()\n",
    "optimizer = torch.optim.Adam(multimodal.parameters(), lr=0.0001)"
   ]
  },
  {
   "cell_type": "code",
   "execution_count": 21,
   "id": "084ba10e",
   "metadata": {},
   "outputs": [
    {
     "name": "stdout",
     "output_type": "stream",
     "text": [
      "Finished epoch 0, latest loss 1.4322763030767136\n",
      "Finished epoch 1, latest loss 1.2821620669858649\n",
      "Finished epoch 2, latest loss 1.2010005788969205\n",
      "Finished epoch 3, latest loss 1.1742892553103232\n",
      "Finished epoch 4, latest loss 1.2401907230753073\n",
      "Finished epoch 5, latest loss 1.0217047758695654\n",
      "Finished epoch 6, latest loss 1.124539329677656\n",
      "Finished epoch 7, latest loss 0.9308260122143253\n",
      "Finished epoch 8, latest loss 0.8721712245402559\n",
      "Finished epoch 9, latest loss 0.848270348596676\n"
     ]
    }
   ],
   "source": [
    "losses = []\n",
    "\n",
    "for epoch in range(EPOCHS):\n",
    "    for i in range(0, len(X_train), batch_size):\n",
    "        Xbatch = X_train[i:i+batch_size]\n",
    "        y_pred = multimodal(Xbatch).type(torch.float64).to(\"cuda\")\n",
    "        ybatch = train_labels[i:i+batch_size].type(torch.LongTensor).to(\"cuda\")\n",
    "        loss = criterion(y_pred, ybatch)\n",
    "        optimizer.zero_grad()\n",
    "        loss.backward()\n",
    "        optimizer.step()\n",
    "        \n",
    "        losses.append(loss.cpu().detach().numpy())\n",
    "    print(f'Finished epoch {epoch}, latest loss {loss}')"
   ]
  },
  {
   "cell_type": "code",
   "execution_count": 22,
   "id": "381073a8",
   "metadata": {},
   "outputs": [
    {
     "data": {
      "text/plain": [
       "[<matplotlib.lines.Line2D at 0x2aab889b0bb0>]"
      ]
     },
     "execution_count": 22,
     "metadata": {},
     "output_type": "execute_result"
    },
    {
     "data": {
      "image/png": "[encoded data removed]",
      "text/plain": [
       "<Figure size 432x288 with 1 Axes>"
      ]
     },
     "metadata": {
      "needs_background": "light"
     },
     "output_type": "display_data"
    }
   ],
   "source": [
    "plt.plot(losses)"
   ]
  },
  {
   "cell_type": "code",
   "execution_count": 104,
   "id": "8098e47c",
   "metadata": {},
   "outputs": [
    {
     "name": "stdout",
     "output_type": "stream",
     "text": [
      "Accuracy 0.9764936566352844\n"
     ]
    }
   ],
   "source": [
    "# compute accuracy (no_grad is optional)\n",
    "with torch.no_grad():\n",
    "    y_pred_train = multimodal(X_train).argmax(axis=1)\n",
    "accuracy = (y_pred_train == train_labels.to(\"cuda\")).float().mean()\n",
    "print(f\"Accuracy {accuracy}\")"
   ]
  },
  {
   "cell_type": "code",
   "execution_count": 105,
   "id": "c349257a",
   "metadata": {},
   "outputs": [
    {
     "name": "stdout",
     "output_type": "stream",
     "text": [
      "                                        precision    recall  f1-score   support\n",
      "\n",
      "            other_relevant_information       0.96      1.00      0.98      1279\n",
      "                  affected_individuals       0.62      0.97      0.75        71\n",
      "rescue_volunteering_or_donation_effort       0.97      0.98      0.98       912\n",
      "     infrastructure_and_utility_damage       0.96      0.97      0.96       612\n",
      "                      not_humanitarian       1.00      0.97      0.98      3252\n",
      "\n",
      "                              accuracy                           0.98      6126\n",
      "                             macro avg       0.90      0.98      0.93      6126\n",
      "                          weighted avg       0.98      0.98      0.98      6126\n",
      "\n"
     ]
    }
   ],
   "source": [
    "target_names=['other_relevant_information', 'affected_individuals', 'rescue_volunteering_or_donation_effort', \n",
    "              'infrastructure_and_utility_damage', 'not_humanitarian']\n",
    "print(classification_report(train_labels, y_pred_train.cpu(), target_names=target_names))"
   ]
  },
  {
   "cell_type": "code",
   "execution_count": 106,
   "id": "ee09053e",
   "metadata": {},
   "outputs": [
    {
     "name": "stdout",
     "output_type": "stream",
     "text": [
      "Accuracy 0.7078534364700317\n"
     ]
    }
   ],
   "source": [
    "# compute accuracy (no_grad is optional)\n",
    "with torch.no_grad():\n",
    "    y_pred = multimodal(X_test).argmax(axis=1)\n",
    "accuracy = (y_pred == test_labels.to(\"cuda\")).float().mean()\n",
    "print(f\"Accuracy {accuracy}\")"
   ]
  },
  {
   "cell_type": "code",
   "execution_count": 107,
   "id": "01f50704",
   "metadata": {},
   "outputs": [
    {
     "name": "stdout",
     "output_type": "stream",
     "text": [
      "                                        precision    recall  f1-score   support\n",
      "\n",
      "            other_relevant_information       0.66      0.73      0.69       235\n",
      "                  affected_individuals       0.11      0.22      0.14         9\n",
      "rescue_volunteering_or_donation_effort       0.65      0.63      0.64       126\n",
      "     infrastructure_and_utility_damage       0.51      0.49      0.50        81\n",
      "                      not_humanitarian       0.81      0.76      0.78       504\n",
      "\n",
      "                              accuracy                           0.71       955\n",
      "                             macro avg       0.55      0.57      0.55       955\n",
      "                          weighted avg       0.72      0.71      0.71       955\n",
      "\n"
     ]
    }
   ],
   "source": [
    "target_names=['other_relevant_information', 'affected_individuals', 'rescue_volunteering_or_donation_effort', \n",
    "              'infrastructure_and_utility_damage', 'not_humanitarian']\n",
    "print(classification_report(test_labels, y_pred.cpu(), target_names=target_names))"
   ]
  },
  {
   "cell_type": "code",
   "execution_count": null,
   "id": "b82cd2eb",
   "metadata": {},
   "outputs": [],
   "source": []
  }
 ],
 "metadata": {
  "kernelspec": {
   "display_name": "Python 3",
   "language": "python",
   "name": "python3"
  },
  "language_info": {
   "codemirror_mode": {
    "name": "ipython",
    "version": 3
   },
   "file_extension": ".py",
   "mimetype": "text/x-python",
   "name": "python",
   "nbconvert_exporter": "python",
   "pygments_lexer": "ipython3",
   "version": "3.8.8"
  }
 },
 "nbformat": 4,
 "nbformat_minor": 5
}
